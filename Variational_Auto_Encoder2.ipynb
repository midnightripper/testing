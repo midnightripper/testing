{
  "nbformat": 4,
  "nbformat_minor": 0,
  "metadata": {
    "colab": {
      "provenance": [],
      "toc_visible": true,
      "authorship_tag": "ABX9TyOapq4i1g9de76pDE48DlZ6",
      "include_colab_link": true
    },
    "kernelspec": {
      "name": "python3",
      "display_name": "Python 3"
    },
    "language_info": {
      "name": "python"
    },
    "accelerator": "GPU",
    "gpuClass": "standard"
  },
  "cells": [
    {
      "cell_type": "markdown",
      "metadata": {
        "id": "view-in-github",
        "colab_type": "text"
      },
      "source": [
        "<a href=\"https://colab.research.google.com/github/midnightripper/testing/blob/main/Variational_Auto_Encoder2.ipynb\" target=\"_parent\"><img src=\"https://colab.research.google.com/assets/colab-badge.svg\" alt=\"Open In Colab\"/></a>"
      ]
    },
    {
      "cell_type": "code",
      "execution_count": 1,
      "metadata": {
        "colab": {
          "base_uri": "https://localhost:8080/"
        },
        "id": "5n4W5sADBnfx",
        "outputId": "9409e679-edba-4440-9c15-32259fae5fda"
      },
      "outputs": [
        {
          "output_type": "stream",
          "name": "stdout",
          "text": [
            "Mounted at /content/drive\n"
          ]
        }
      ],
      "source": [
        "from google.colab import drive\n",
        "drive.mount('/content/drive')"
      ]
    },
    {
      "cell_type": "markdown",
      "metadata": {
        "id": "lTuKWTvUCDYg"
      },
      "source": [
        "###Prerequisite"
      ]
    },
    {
      "cell_type": "code",
      "execution_count": 31,
      "metadata": {
        "colab": {
          "base_uri": "https://localhost:8080/"
        },
        "id": "pd7zXfrBBvqM",
        "outputId": "4e41fab9-0dcd-4a2d-e1e0-05c19bc09654"
      },
      "outputs": [
        {
          "output_type": "stream",
          "name": "stdout",
          "text": [
            "Looking in indexes: https://pypi.org/simple, https://us-python.pkg.dev/colab-wheels/public/simple/\n",
            "Requirement already satisfied: tensorflow-addons in /usr/local/lib/python3.9/dist-packages (0.20.0)\n",
            "Requirement already satisfied: packaging in /usr/local/lib/python3.9/dist-packages (from tensorflow-addons) (23.0)\n",
            "Requirement already satisfied: typeguard<3.0.0,>=2.7 in /usr/local/lib/python3.9/dist-packages (from tensorflow-addons) (2.13.3)\n"
          ]
        }
      ],
      "source": [
        "pip install tensorflow-addons"
      ]
    },
    {
      "cell_type": "code",
      "execution_count": 32,
      "metadata": {
        "id": "O7F71cx6BwQW"
      },
      "outputs": [],
      "source": [
        "import numpy as np\n",
        "import tensorflow as tf\n",
        "import tensorflow_addons as tfa\n",
        "import scipy.io as sio\n",
        "import pandas as pd\n",
        "import matplotlib.pyplot as plt\n",
        "\n",
        "from tensorflow import keras\n",
        "from tensorflow.keras import layers\n",
        "from tensorflow.keras.models import Sequential\n",
        "from tensorflow.keras.layers import Conv1D, MaxPooling1D, Flatten, Dense\n",
        "from tensorflow.keras.models import Model\n",
        "from sklearn.preprocessing import StandardScaler\n",
        "from keras.models import Sequential\n",
        "from keras.layers import Activation\n",
        "from keras.layers import Input\n",
        "from keras.layers import Reshape\n",
        "from tensorflow.keras import backend as K"
      ]
    },
    {
      "cell_type": "markdown",
      "metadata": {
        "id": "uzQisdLRCdAm"
      },
      "source": [
        "Load the train and test data splits"
      ]
    },
    {
      "cell_type": "code",
      "execution_count": 33,
      "metadata": {
        "id": "c4yofhKpCPsk"
      },
      "outputs": [],
      "source": [
        "GER_test = (np.array(sio.loadmat('/content/drive/MyDrive/training data/GER_test.mat')['GER_test'])).transpose()\n",
        "GER_train = (np.array(sio.loadmat('/content/drive/MyDrive/training data/GER_train.mat')['GER_train'])).transpose()\n",
        "test_frame = pd.DataFrame(GER_test).sort_values(1)\n",
        "train_frame = pd.DataFrame(GER_train).sort_values(1)"
      ]
    },
    {
      "cell_type": "code",
      "execution_count": 34,
      "metadata": {
        "colab": {
          "base_uri": "https://localhost:8080/"
        },
        "id": "4HDdLVz2ChJF",
        "outputId": "67c9a145-3417-420a-c94e-276d51141e9b"
      },
      "outputs": [
        {
          "output_type": "stream",
          "name": "stdout",
          "text": [
            "x_train shape: (6981, 21) - y_train shape: (6981, 21)\n",
            "x_test shape: (6248, 21) - y_test shape: (6248, 21)\n"
          ]
        }
      ],
      "source": [
        "print(f\"x_train shape: {GER_train.shape} - y_train shape: {GER_train.shape}\")\n",
        "print(f\"x_test shape: {GER_test.shape} - y_test shape: {GER_test.shape}\")"
      ]
    },
    {
      "cell_type": "code",
      "execution_count": 35,
      "metadata": {
        "id": "QKt4urE1O7ke"
      },
      "outputs": [],
      "source": [
        "def get_data_labels(split):\n",
        "    x = pd.DataFrame(split)\n",
        "    labels = x[0].values.astype(np.uint8)\n",
        "    del x[0],x[1]\n",
        "    data = x.values \n",
        "    return data, labels\n",
        "    \n",
        "x_train, y_train = get_data_labels(train_frame.values.tolist())\n",
        "x_test, y_test = get_data_labels(test_frame.values.tolist())"
      ]
    },
    {
      "cell_type": "code",
      "source": [
        "df = pd.DataFrame(x_train)\n",
        "scaler = StandardScaler()\n",
        "x_train = pd.DataFrame(scaler.fit_transform(df), columns=df.columns)"
      ],
      "metadata": {
        "id": "LiyxoXMIajC_"
      },
      "execution_count": 36,
      "outputs": []
    },
    {
      "cell_type": "code",
      "source": [
        "df2 = pd.DataFrame(x_test)\n",
        "scaler = StandardScaler()\n",
        "x_test = pd.DataFrame(scaler.fit_transform(df2), columns=df.columns)"
      ],
      "metadata": {
        "id": "4PVlJpiAb1Xq"
      },
      "execution_count": 37,
      "outputs": []
    },
    {
      "cell_type": "code",
      "source": [
        "input_shape = (19,)"
      ],
      "metadata": {
        "id": "t-_jwVqoJgTE"
      },
      "execution_count": 38,
      "outputs": []
    },
    {
      "cell_type": "code",
      "source": [
        "# Define the sampling layer\n",
        "def sampling(args):\n",
        "    z_mean, z_log_var = args\n",
        "    epsilon = tf.keras.backend.random_normal(shape=(tf.keras.backend.shape(z_mean)[0], 19), mean=0., stddev=0.004)\n",
        "    return z_mean + tf.keras.backend.exp(0.5 * z_log_var) * epsilon\n",
        "\n",
        "# def sampling(args):\n",
        "#     \"\"\"Reparameterization trick. Instead of sampling from Q(z|X), \n",
        "#     sample eps = N(0,I) z = z_mean + sqrt(var)*eps.\n",
        "\n",
        "#     Parameters:\n",
        "#     -----------\n",
        "#     args: list of Tensors\n",
        "#         Mean and log of variance of Q(z|X)\n",
        "\n",
        "#     Returns\n",
        "#     -------\n",
        "#     z: Tensor\n",
        "#         Sampled latent vector\n",
        "#     \"\"\"\n",
        "\n",
        "#     z_mean, z_log_var = args\n",
        "#     eps = tf.random.normal(tf.shape(z_log_var), dtype=tf.float32, mean=0., stddev=1.0, name='epsilon')\n",
        "#     z = z_mean + tf.exp(z_log_var / 2) * eps\n",
        "#     return z"
      ],
      "metadata": {
        "id": "jakg8MGkJmpg"
      },
      "execution_count": 99,
      "outputs": []
    },
    {
      "cell_type": "code",
      "source": [
        "inputs = keras.layers.Input(shape=input_shape, name='input')\n",
        "x = keras.layers.Dense(64, activation='relu')(inputs)\n",
        "z_mean = keras.layers.Dense(19, name='z_mean')(x)\n",
        "z_log_var = keras.layers.Dense(19, name='z_log_var')(x)"
      ],
      "metadata": {
        "id": "05L3ufM33CIC"
      },
      "execution_count": 100,
      "outputs": []
    },
    {
      "cell_type": "code",
      "source": [
        "z = keras.layers.Lambda(sampling, name='z')([z_mean, z_log_var])\n",
        "\n",
        "encoder = keras.Model(inputs, [z_mean, z_log_var, z], name='encoder')\n"
      ],
      "metadata": {
        "id": "nLyVN4fe3lo0"
      },
      "execution_count": 102,
      "outputs": []
    },
    {
      "cell_type": "code",
      "source": [
        "# z = keras.layers.Lambda(sampling, name='z')([z_mean, z_log_var])\n",
        "# encoder = keras.Model(encoder_inputs, [z_mean, z_log_var, z], name='encoder')\n",
        "# encoder.summary()"
      ],
      "metadata": {
        "id": "Wbei5NfYOybb"
      },
      "execution_count": 42,
      "outputs": []
    },
    {
      "cell_type": "code",
      "source": [
        "latent_inputs = keras.layers.Input(shape=(19), name='z_sampling')\n",
        "middle=keras.layers.Dense(64, activation='relu')(latent_inputs)\n",
        "x = keras.layers.Dense(19, activation='relu')(middle)\n",
        "\n",
        "# instantiate decoder model\n",
        "decoder = keras.Model(latent_inputs, x, name='decoder')\n"
      ],
      "metadata": {
        "id": "yuxKxPh74BnA"
      },
      "execution_count": 103,
      "outputs": []
    },
    {
      "cell_type": "code",
      "source": [
        "outputs = decoder(encoder(inputs)[2])  # Select the Z value from outputs of the encoder\n",
        "vae = keras.Model(inputs, outputs, name='vae')\n",
        "vae.summary()"
      ],
      "metadata": {
        "id": "SRSG3DHgQidg",
        "colab": {
          "base_uri": "https://localhost:8080/"
        },
        "outputId": "d7f08975-7498-4189-de95-283208285fa2"
      },
      "execution_count": 104,
      "outputs": [
        {
          "output_type": "stream",
          "name": "stdout",
          "text": [
            "Model: \"vae\"\n",
            "_________________________________________________________________\n",
            " Layer (type)                Output Shape              Param #   \n",
            "=================================================================\n",
            " input (InputLayer)          [(None, 19)]              0         \n",
            "                                                                 \n",
            " encoder (Functional)        [(None, 19),              3750      \n",
            "                              (None, 19),                        \n",
            "                              (None, 19)]                        \n",
            "                                                                 \n",
            " decoder (Functional)        (None, 19)                2515      \n",
            "                                                                 \n",
            "=================================================================\n",
            "Total params: 6,265\n",
            "Trainable params: 6,265\n",
            "Non-trainable params: 0\n",
            "_________________________________________________________________\n"
          ]
        }
      ]
    },
    {
      "cell_type": "code",
      "source": [
        "autoencoder = Model(inputs, outputs)"
      ],
      "metadata": {
        "id": "bY7oxb8C98Zu"
      },
      "execution_count": 105,
      "outputs": []
    },
    {
      "cell_type": "code",
      "source": [
        "reconstruction_loss = K.mean(K.square(outputs - inputs), axis=-1)\n",
        "kl_loss = -0.5 * K.sum(1 + z_log_var - K.square(z_mean) - K.exp(z_log_var), axis=-1)\n",
        "vae_loss = K.mean(reconstruction_loss + kl_loss)\n"
      ],
      "metadata": {
        "id": "rFGVeXkk-r-K"
      },
      "execution_count": 106,
      "outputs": []
    },
    {
      "cell_type": "code",
      "source": [
        "autoencoder.add_loss(vae_loss)\n",
        "autoencoder.summary()"
      ],
      "metadata": {
        "colab": {
          "base_uri": "https://localhost:8080/"
        },
        "id": "kR8Q2yDgmhUz",
        "outputId": "3f5395be-6841-4cf6-9335-5dbf76acadb7"
      },
      "execution_count": 107,
      "outputs": [
        {
          "output_type": "stream",
          "name": "stdout",
          "text": [
            "Model: \"model_25\"\n",
            "__________________________________________________________________________________________________\n",
            " Layer (type)                   Output Shape         Param #     Connected to                     \n",
            "==================================================================================================\n",
            " input (InputLayer)             [(None, 19)]         0           []                               \n",
            "                                                                                                  \n",
            " encoder (Functional)           [(None, 19),         3750        ['input[0][0]']                  \n",
            "                                 (None, 19),                                                      \n",
            "                                 (None, 19)]                                                      \n",
            "                                                                                                  \n",
            " decoder (Functional)           (None, 19)           2515        ['encoder[0][2]']                \n",
            "                                                                                                  \n",
            " dense_79 (Dense)               (None, 64)           1280        ['input[0][0]']                  \n",
            "                                                                                                  \n",
            " z_log_var (Dense)              (None, 19)           1235        ['dense_79[0][0]']               \n",
            "                                                                                                  \n",
            " z_mean (Dense)                 (None, 19)           1235        ['dense_79[0][0]']               \n",
            "                                                                                                  \n",
            " tf.__operators__.add_20 (TFOpL  (None, 19)          0           ['z_log_var[0][0]']              \n",
            " ambda)                                                                                           \n",
            "                                                                                                  \n",
            " tf.math.square_18 (TFOpLambda)  (None, 19)          0           ['z_mean[0][0]']                 \n",
            "                                                                                                  \n",
            " tf.math.subtract_28 (TFOpLambd  (None, 19)          0           ['tf.__operators__.add_20[0][0]',\n",
            " a)                                                               'tf.math.square_18[0][0]']      \n",
            "                                                                                                  \n",
            " tf.math.exp_10 (TFOpLambda)    (None, 19)           0           ['z_log_var[0][0]']              \n",
            "                                                                                                  \n",
            " tf.math.subtract_27 (TFOpLambd  (None, 19)          0           ['decoder[0][0]',                \n",
            " a)                                                               'input[0][0]']                  \n",
            "                                                                                                  \n",
            " tf.math.subtract_29 (TFOpLambd  (None, 19)          0           ['tf.math.subtract_28[0][0]',    \n",
            " a)                                                               'tf.math.exp_10[0][0]']         \n",
            "                                                                                                  \n",
            " tf.math.square_17 (TFOpLambda)  (None, 19)          0           ['tf.math.subtract_27[0][0]']    \n",
            "                                                                                                  \n",
            " tf.math.reduce_sum_10 (TFOpLam  (None,)             0           ['tf.math.subtract_29[0][0]']    \n",
            " bda)                                                                                             \n",
            "                                                                                                  \n",
            " tf.math.reduce_mean_20 (TFOpLa  (None,)             0           ['tf.math.square_17[0][0]']      \n",
            " mbda)                                                                                            \n",
            "                                                                                                  \n",
            " tf.math.multiply_13 (TFOpLambd  (None,)             0           ['tf.math.reduce_sum_10[0][0]']  \n",
            " a)                                                                                               \n",
            "                                                                                                  \n",
            " tf.__operators__.add_21 (TFOpL  (None,)             0           ['tf.math.reduce_mean_20[0][0]', \n",
            " ambda)                                                           'tf.math.multiply_13[0][0]']    \n",
            "                                                                                                  \n",
            " tf.math.reduce_mean_21 (TFOpLa  ()                  0           ['tf.__operators__.add_21[0][0]']\n",
            " mbda)                                                                                            \n",
            "                                                                                                  \n",
            " add_loss_10 (AddLoss)          ()                   0           ['tf.math.reduce_mean_21[0][0]'] \n",
            "                                                                                                  \n",
            "==================================================================================================\n",
            "Total params: 6,265\n",
            "Trainable params: 6,265\n",
            "Non-trainable params: 0\n",
            "__________________________________________________________________________________________________\n"
          ]
        }
      ]
    },
    {
      "cell_type": "code",
      "source": [
        "# reconstruction_loss = keras.losses.binary_crossentropy(inputs, outputs)\n",
        "# reconstruction_loss = reconstruction_loss * 19\n",
        "\n",
        "# # KL Divergence loss\n",
        "# kl_loss = 1 + z_log_var - tf.square(z_mean) - tf.exp(z_log_var)\n",
        "# kl_loss = -0.5 * tf.reduce_sum(kl_loss, axis=-1)\n",
        "# vae_loss = tf.reduce_mean(reconstruction_loss + kl_loss)\n",
        "\n",
        "# autoencoder.add_loss(vae_loss)\n",
        "autoencoder.compile(optimizer='adam')\n",
        "# autoencoder.summary()"
      ],
      "metadata": {
        "id": "WKC0ZfCyQzth"
      },
      "execution_count": 108,
      "outputs": []
    },
    {
      "cell_type": "code",
      "source": [
        "autoencoder.fit(x_train, epochs=50, batch_size=32, validation_data=(x_test, None))"
      ],
      "metadata": {
        "colab": {
          "base_uri": "https://localhost:8080/"
        },
        "id": "Lbw85BPmRkp-",
        "outputId": "653afffb-3fc7-4bd2-8f91-15e63d742168"
      },
      "execution_count": 109,
      "outputs": [
        {
          "output_type": "stream",
          "name": "stdout",
          "text": [
            "Epoch 1/50\n",
            "219/219 [==============================] - 3s 6ms/step - loss: 1.6157 - val_loss: 0.9252\n",
            "Epoch 2/50\n",
            "219/219 [==============================] - 1s 5ms/step - loss: 0.7943 - val_loss: 0.7040\n",
            "Epoch 3/50\n",
            "219/219 [==============================] - 1s 5ms/step - loss: 0.6435 - val_loss: 0.5960\n",
            "Epoch 4/50\n",
            "219/219 [==============================] - 1s 7ms/step - loss: 0.5683 - val_loss: 0.5502\n",
            "Epoch 5/50\n",
            "219/219 [==============================] - 2s 8ms/step - loss: 0.5316 - val_loss: 0.5186\n",
            "Epoch 6/50\n",
            "219/219 [==============================] - 1s 7ms/step - loss: 0.5086 - val_loss: 0.4981\n",
            "Epoch 7/50\n",
            "219/219 [==============================] - 1s 5ms/step - loss: 0.4912 - val_loss: 0.4882\n",
            "Epoch 8/50\n",
            "219/219 [==============================] - 1s 5ms/step - loss: 0.4805 - val_loss: 0.4765\n",
            "Epoch 9/50\n",
            "219/219 [==============================] - 1s 5ms/step - loss: 0.4717 - val_loss: 0.4692\n",
            "Epoch 10/50\n",
            "219/219 [==============================] - 1s 5ms/step - loss: 0.4650 - val_loss: 0.4614\n",
            "Epoch 11/50\n",
            "219/219 [==============================] - 1s 5ms/step - loss: 0.4590 - val_loss: 0.4579\n",
            "Epoch 12/50\n",
            "219/219 [==============================] - 1s 5ms/step - loss: 0.4544 - val_loss: 0.4528\n",
            "Epoch 13/50\n",
            "219/219 [==============================] - 1s 5ms/step - loss: 0.4516 - val_loss: 0.4487\n",
            "Epoch 14/50\n",
            "219/219 [==============================] - 1s 5ms/step - loss: 0.4472 - val_loss: 0.4459\n",
            "Epoch 15/50\n",
            "219/219 [==============================] - 2s 8ms/step - loss: 0.4456 - val_loss: 0.4501\n",
            "Epoch 16/50\n",
            "219/219 [==============================] - 2s 8ms/step - loss: 0.4418 - val_loss: 0.4434\n",
            "Epoch 17/50\n",
            "219/219 [==============================] - 1s 6ms/step - loss: 0.4404 - val_loss: 0.4387\n",
            "Epoch 18/50\n",
            "219/219 [==============================] - 1s 5ms/step - loss: 0.4380 - val_loss: 0.4374\n",
            "Epoch 19/50\n",
            "219/219 [==============================] - 1s 5ms/step - loss: 0.4373 - val_loss: 0.4374\n",
            "Epoch 20/50\n",
            "219/219 [==============================] - 1s 5ms/step - loss: 0.4362 - val_loss: 0.4363\n",
            "Epoch 21/50\n",
            "219/219 [==============================] - 1s 5ms/step - loss: 0.4341 - val_loss: 0.4362\n",
            "Epoch 22/50\n",
            "219/219 [==============================] - 1s 5ms/step - loss: 0.4333 - val_loss: 0.4334\n",
            "Epoch 23/50\n",
            "219/219 [==============================] - 1s 5ms/step - loss: 0.4326 - val_loss: 0.4324\n",
            "Epoch 24/50\n",
            "219/219 [==============================] - 1s 5ms/step - loss: 0.4312 - val_loss: 0.4313\n",
            "Epoch 25/50\n",
            "219/219 [==============================] - 1s 5ms/step - loss: 0.4308 - val_loss: 0.4296\n",
            "Epoch 26/50\n",
            "219/219 [==============================] - 2s 8ms/step - loss: 0.4301 - val_loss: 0.4310\n",
            "Epoch 27/50\n",
            "219/219 [==============================] - 2s 9ms/step - loss: 0.4304 - val_loss: 0.4289\n",
            "Epoch 28/50\n",
            "219/219 [==============================] - 1s 5ms/step - loss: 0.4299 - val_loss: 0.4297\n",
            "Epoch 29/50\n",
            "219/219 [==============================] - 1s 5ms/step - loss: 0.4281 - val_loss: 0.4286\n",
            "Epoch 30/50\n",
            "219/219 [==============================] - 1s 5ms/step - loss: 0.4278 - val_loss: 0.4283\n",
            "Epoch 31/50\n",
            "219/219 [==============================] - 1s 5ms/step - loss: 0.4281 - val_loss: 0.4278\n",
            "Epoch 32/50\n",
            "219/219 [==============================] - 1s 5ms/step - loss: 0.4276 - val_loss: 0.4301\n",
            "Epoch 33/50\n",
            "219/219 [==============================] - 1s 5ms/step - loss: 0.4266 - val_loss: 0.4272\n",
            "Epoch 34/50\n",
            "219/219 [==============================] - 1s 5ms/step - loss: 0.4267 - val_loss: 0.4272\n",
            "Epoch 35/50\n",
            "219/219 [==============================] - 1s 5ms/step - loss: 0.4275 - val_loss: 0.4274\n",
            "Epoch 36/50\n",
            "219/219 [==============================] - 1s 7ms/step - loss: 0.4259 - val_loss: 0.4278\n",
            "Epoch 37/50\n",
            "219/219 [==============================] - 2s 9ms/step - loss: 0.4263 - val_loss: 0.4262\n",
            "Epoch 38/50\n",
            "219/219 [==============================] - 1s 6ms/step - loss: 0.4280 - val_loss: 0.4281\n",
            "Epoch 39/50\n",
            "219/219 [==============================] - 1s 5ms/step - loss: 0.4267 - val_loss: 0.4267\n",
            "Epoch 40/50\n",
            "219/219 [==============================] - 1s 5ms/step - loss: 0.4261 - val_loss: 0.4257\n",
            "Epoch 41/50\n",
            "219/219 [==============================] - 1s 5ms/step - loss: 0.4260 - val_loss: 0.4254\n",
            "Epoch 42/50\n",
            "219/219 [==============================] - 1s 5ms/step - loss: 0.4265 - val_loss: 0.4257\n",
            "Epoch 43/50\n",
            "219/219 [==============================] - 1s 5ms/step - loss: 0.4253 - val_loss: 0.4256\n",
            "Epoch 44/50\n",
            "219/219 [==============================] - 1s 5ms/step - loss: 0.4263 - val_loss: 0.4261\n",
            "Epoch 45/50\n",
            "219/219 [==============================] - 1s 5ms/step - loss: 0.4256 - val_loss: 0.4251\n",
            "Epoch 46/50\n",
            "219/219 [==============================] - 1s 5ms/step - loss: 0.4251 - val_loss: 0.4251\n",
            "Epoch 47/50\n",
            "219/219 [==============================] - 2s 8ms/step - loss: 0.4256 - val_loss: 0.4245\n",
            "Epoch 48/50\n",
            "219/219 [==============================] - 2s 8ms/step - loss: 0.4243 - val_loss: 0.4245\n",
            "Epoch 49/50\n",
            "219/219 [==============================] - 1s 5ms/step - loss: 0.4248 - val_loss: 0.4247\n",
            "Epoch 50/50\n",
            "219/219 [==============================] - 1s 5ms/step - loss: 0.4238 - val_loss: 0.4248\n"
          ]
        },
        {
          "output_type": "execute_result",
          "data": {
            "text/plain": [
              "<keras.callbacks.History at 0x7f069cde9550>"
            ]
          },
          "metadata": {},
          "execution_count": 109
        }
      ]
    },
    {
      "cell_type": "code",
      "source": [
        "encoder = Model(inputs, z)\n",
        "encoder.trainable = False\n",
        "encoder.summary()"
      ],
      "metadata": {
        "colab": {
          "base_uri": "https://localhost:8080/"
        },
        "id": "0J0cBvnWSKNV",
        "outputId": "106eba5b-f30d-46bc-a2d1-6d214fea56c1"
      },
      "execution_count": 111,
      "outputs": [
        {
          "output_type": "stream",
          "name": "stdout",
          "text": [
            "Model: \"model_27\"\n",
            "__________________________________________________________________________________________________\n",
            " Layer (type)                   Output Shape         Param #     Connected to                     \n",
            "==================================================================================================\n",
            " input (InputLayer)             [(None, 19)]         0           []                               \n",
            "                                                                                                  \n",
            " dense_79 (Dense)               (None, 64)           1280        ['input[0][0]']                  \n",
            "                                                                                                  \n",
            " z_mean (Dense)                 (None, 19)           1235        ['dense_79[0][0]']               \n",
            "                                                                                                  \n",
            " z_log_var (Dense)              (None, 19)           1235        ['dense_79[0][0]']               \n",
            "                                                                                                  \n",
            " z (Lambda)                     (None, 19)           0           ['z_mean[0][0]',                 \n",
            "                                                                  'z_log_var[0][0]']              \n",
            "                                                                                                  \n",
            "==================================================================================================\n",
            "Total params: 3,750\n",
            "Trainable params: 0\n",
            "Non-trainable params: 3,750\n",
            "__________________________________________________________________________________________________\n"
          ]
        }
      ]
    },
    {
      "cell_type": "code",
      "source": [
        "es = tf.keras.callbacks.EarlyStopping(monitor='val_loss', mode='min', verbose=1, patience=10)"
      ],
      "metadata": {
        "id": "g8hamCaPnco_"
      },
      "execution_count": 112,
      "outputs": []
    },
    {
      "cell_type": "code",
      "source": [
        "classifier_input = Input(shape=(19,))\n",
        "encoded_input = encoder(classifier_input)\n",
        "# x1=Dense(128,activation='relu')(encoded_input)\n",
        "# features = layers.Dropout(0.3)(x1)\n",
        "# x2=Dense(64,activation='relu')(features)\n",
        "# features = layers.Dropout(0.25)(x2)\n",
        "x3=Dense(32,activation='relu')(encoded_input)\n",
        "x4=Dense(16,activation='relu')(x3)\n",
        "x5=Dense(8,activation='relu')(x4)\n",
        "x6=Dense(4,activation='relu')(x5)\n",
        "output_layer = Dense(1, activation='sigmoid')(x6)\n",
        "\n",
        "classifier = Model(classifier_input, output_layer)\n",
        "classifier.summary()\n",
        "classifier.compile(optimizer='adam', loss='binary_crossentropy', metrics=['accuracy'])\n",
        "classifier.fit(x_train, y_train, epochs=50, batch_size=32, validation_data=(x_test, y_test),callbacks=[es])\n"
      ],
      "metadata": {
        "id": "3ga3NymszHzx",
        "colab": {
          "base_uri": "https://localhost:8080/"
        },
        "outputId": "eb125349-8289-4233-8beb-643521716eab"
      },
      "execution_count": 124,
      "outputs": [
        {
          "output_type": "stream",
          "name": "stdout",
          "text": [
            "Model: \"model_33\"\n",
            "_________________________________________________________________\n",
            " Layer (type)                Output Shape              Param #   \n",
            "=================================================================\n",
            " input_17 (InputLayer)       [(None, 19)]              0         \n",
            "                                                                 \n",
            " model_27 (Functional)       (None, 19)                3750      \n",
            "                                                                 \n",
            " dense_103 (Dense)           (None, 32)                640       \n",
            "                                                                 \n",
            " dense_104 (Dense)           (None, 16)                528       \n",
            "                                                                 \n",
            " dense_105 (Dense)           (None, 8)                 136       \n",
            "                                                                 \n",
            " dense_106 (Dense)           (None, 4)                 36        \n",
            "                                                                 \n",
            " dense_107 (Dense)           (None, 1)                 5         \n",
            "                                                                 \n",
            "=================================================================\n",
            "Total params: 5,095\n",
            "Trainable params: 1,345\n",
            "Non-trainable params: 3,750\n",
            "_________________________________________________________________\n",
            "Epoch 1/50\n",
            "219/219 [==============================] - 3s 6ms/step - loss: 0.6396 - accuracy: 0.6803 - val_loss: 0.5169 - val_accuracy: 0.7703\n",
            "Epoch 2/50\n",
            "219/219 [==============================] - 1s 5ms/step - loss: 0.4902 - accuracy: 0.7684 - val_loss: 0.4694 - val_accuracy: 0.7843\n",
            "Epoch 3/50\n",
            "219/219 [==============================] - 1s 7ms/step - loss: 0.4758 - accuracy: 0.7721 - val_loss: 0.4716 - val_accuracy: 0.7807\n",
            "Epoch 4/50\n",
            "219/219 [==============================] - 1s 5ms/step - loss: 0.4693 - accuracy: 0.7785 - val_loss: 0.4574 - val_accuracy: 0.7887\n",
            "Epoch 5/50\n",
            "219/219 [==============================] - 1s 7ms/step - loss: 0.4598 - accuracy: 0.7837 - val_loss: 0.4542 - val_accuracy: 0.7900\n",
            "Epoch 6/50\n",
            "219/219 [==============================] - 2s 8ms/step - loss: 0.4571 - accuracy: 0.7857 - val_loss: 0.4512 - val_accuracy: 0.7916\n",
            "Epoch 7/50\n",
            "219/219 [==============================] - 2s 8ms/step - loss: 0.4513 - accuracy: 0.7897 - val_loss: 0.4458 - val_accuracy: 0.7939\n",
            "Epoch 8/50\n",
            "219/219 [==============================] - 2s 7ms/step - loss: 0.4459 - accuracy: 0.7947 - val_loss: 0.4432 - val_accuracy: 0.7977\n",
            "Epoch 9/50\n",
            "219/219 [==============================] - 1s 6ms/step - loss: 0.4430 - accuracy: 0.7944 - val_loss: 0.4406 - val_accuracy: 0.7983\n",
            "Epoch 10/50\n",
            "219/219 [==============================] - 1s 5ms/step - loss: 0.4367 - accuracy: 0.7964 - val_loss: 0.4519 - val_accuracy: 0.7926\n",
            "Epoch 11/50\n",
            "219/219 [==============================] - 1s 6ms/step - loss: 0.4353 - accuracy: 0.8019 - val_loss: 0.4345 - val_accuracy: 0.8019\n",
            "Epoch 12/50\n",
            "219/219 [==============================] - 1s 6ms/step - loss: 0.4298 - accuracy: 0.8050 - val_loss: 0.4299 - val_accuracy: 0.8079\n",
            "Epoch 13/50\n",
            "219/219 [==============================] - 1s 7ms/step - loss: 0.4269 - accuracy: 0.8092 - val_loss: 0.4323 - val_accuracy: 0.8047\n",
            "Epoch 14/50\n",
            "219/219 [==============================] - 1s 5ms/step - loss: 0.4260 - accuracy: 0.8056 - val_loss: 0.4345 - val_accuracy: 0.8067\n",
            "Epoch 15/50\n",
            "219/219 [==============================] - 1s 7ms/step - loss: 0.4233 - accuracy: 0.8099 - val_loss: 0.4271 - val_accuracy: 0.8071\n",
            "Epoch 16/50\n",
            "219/219 [==============================] - 2s 8ms/step - loss: 0.4251 - accuracy: 0.8048 - val_loss: 0.4298 - val_accuracy: 0.8046\n",
            "Epoch 17/50\n",
            "219/219 [==============================] - 2s 7ms/step - loss: 0.4176 - accuracy: 0.8122 - val_loss: 0.4266 - val_accuracy: 0.8094\n",
            "Epoch 18/50\n",
            "219/219 [==============================] - 1s 5ms/step - loss: 0.4144 - accuracy: 0.8144 - val_loss: 0.4248 - val_accuracy: 0.8107\n",
            "Epoch 19/50\n",
            "219/219 [==============================] - 1s 7ms/step - loss: 0.4139 - accuracy: 0.8118 - val_loss: 0.4267 - val_accuracy: 0.8126\n",
            "Epoch 20/50\n",
            "219/219 [==============================] - 1s 7ms/step - loss: 0.4119 - accuracy: 0.8105 - val_loss: 0.4261 - val_accuracy: 0.8091\n",
            "Epoch 21/50\n",
            "219/219 [==============================] - 1s 6ms/step - loss: 0.4160 - accuracy: 0.8102 - val_loss: 0.4304 - val_accuracy: 0.8057\n",
            "Epoch 22/50\n",
            "219/219 [==============================] - 1s 7ms/step - loss: 0.4075 - accuracy: 0.8169 - val_loss: 0.4231 - val_accuracy: 0.8102\n",
            "Epoch 23/50\n",
            "219/219 [==============================] - 1s 7ms/step - loss: 0.4107 - accuracy: 0.8131 - val_loss: 0.4239 - val_accuracy: 0.8103\n",
            "Epoch 24/50\n",
            "219/219 [==============================] - 1s 7ms/step - loss: 0.4076 - accuracy: 0.8148 - val_loss: 0.4296 - val_accuracy: 0.8073\n",
            "Epoch 25/50\n",
            "219/219 [==============================] - 2s 8ms/step - loss: 0.4078 - accuracy: 0.8179 - val_loss: 0.4232 - val_accuracy: 0.8131\n",
            "Epoch 26/50\n",
            "219/219 [==============================] - 2s 8ms/step - loss: 0.4029 - accuracy: 0.8204 - val_loss: 0.4278 - val_accuracy: 0.8087\n",
            "Epoch 27/50\n",
            "219/219 [==============================] - 1s 5ms/step - loss: 0.4035 - accuracy: 0.8184 - val_loss: 0.4209 - val_accuracy: 0.8099\n",
            "Epoch 28/50\n",
            "219/219 [==============================] - 1s 7ms/step - loss: 0.3989 - accuracy: 0.8255 - val_loss: 0.4264 - val_accuracy: 0.8094\n",
            "Epoch 29/50\n",
            "219/219 [==============================] - 1s 7ms/step - loss: 0.4010 - accuracy: 0.8204 - val_loss: 0.4259 - val_accuracy: 0.8079\n",
            "Epoch 30/50\n",
            "219/219 [==============================] - 1s 5ms/step - loss: 0.4011 - accuracy: 0.8189 - val_loss: 0.4216 - val_accuracy: 0.8150\n",
            "Epoch 31/50\n",
            "219/219 [==============================] - 1s 5ms/step - loss: 0.3991 - accuracy: 0.8225 - val_loss: 0.4185 - val_accuracy: 0.8153\n",
            "Epoch 32/50\n",
            "219/219 [==============================] - 1s 7ms/step - loss: 0.3958 - accuracy: 0.8254 - val_loss: 0.4217 - val_accuracy: 0.8156\n",
            "Epoch 33/50\n",
            "219/219 [==============================] - 1s 6ms/step - loss: 0.3948 - accuracy: 0.8254 - val_loss: 0.4372 - val_accuracy: 0.8033\n",
            "Epoch 34/50\n",
            "219/219 [==============================] - 2s 7ms/step - loss: 0.3948 - accuracy: 0.8255 - val_loss: 0.4313 - val_accuracy: 0.8038\n",
            "Epoch 35/50\n",
            "219/219 [==============================] - 2s 8ms/step - loss: 0.3958 - accuracy: 0.8225 - val_loss: 0.4198 - val_accuracy: 0.8116\n",
            "Epoch 36/50\n",
            "219/219 [==============================] - 1s 6ms/step - loss: 0.3925 - accuracy: 0.8238 - val_loss: 0.4428 - val_accuracy: 0.7995\n",
            "Epoch 37/50\n",
            "219/219 [==============================] - 1s 7ms/step - loss: 0.3925 - accuracy: 0.8261 - val_loss: 0.4445 - val_accuracy: 0.7945\n",
            "Epoch 38/50\n",
            "219/219 [==============================] - 1s 7ms/step - loss: 0.3915 - accuracy: 0.8272 - val_loss: 0.4250 - val_accuracy: 0.8084\n",
            "Epoch 39/50\n",
            "219/219 [==============================] - 1s 6ms/step - loss: 0.3909 - accuracy: 0.8237 - val_loss: 0.4184 - val_accuracy: 0.8145\n",
            "Epoch 40/50\n",
            "219/219 [==============================] - 1s 6ms/step - loss: 0.3888 - accuracy: 0.8274 - val_loss: 0.4221 - val_accuracy: 0.8164\n",
            "Epoch 41/50\n",
            "219/219 [==============================] - 1s 7ms/step - loss: 0.3922 - accuracy: 0.8241 - val_loss: 0.4273 - val_accuracy: 0.8094\n",
            "Epoch 42/50\n",
            "219/219 [==============================] - 1s 6ms/step - loss: 0.3944 - accuracy: 0.8205 - val_loss: 0.4300 - val_accuracy: 0.8044\n",
            "Epoch 43/50\n",
            "219/219 [==============================] - 1s 6ms/step - loss: 0.3909 - accuracy: 0.8255 - val_loss: 0.4229 - val_accuracy: 0.8129\n",
            "Epoch 44/50\n",
            "219/219 [==============================] - 2s 8ms/step - loss: 0.3871 - accuracy: 0.8248 - val_loss: 0.4451 - val_accuracy: 0.7980\n",
            "Epoch 45/50\n",
            "219/219 [==============================] - 2s 8ms/step - loss: 0.3846 - accuracy: 0.8265 - val_loss: 0.4169 - val_accuracy: 0.8171\n",
            "Epoch 46/50\n",
            "219/219 [==============================] - 1s 5ms/step - loss: 0.3828 - accuracy: 0.8334 - val_loss: 0.4180 - val_accuracy: 0.8172\n",
            "Epoch 47/50\n",
            "219/219 [==============================] - 1s 5ms/step - loss: 0.3800 - accuracy: 0.8321 - val_loss: 0.4208 - val_accuracy: 0.8123\n",
            "Epoch 48/50\n",
            "219/219 [==============================] - 1s 7ms/step - loss: 0.3798 - accuracy: 0.8294 - val_loss: 0.4212 - val_accuracy: 0.8129\n",
            "Epoch 49/50\n",
            "219/219 [==============================] - 1s 7ms/step - loss: 0.3821 - accuracy: 0.8314 - val_loss: 0.4173 - val_accuracy: 0.8153\n",
            "Epoch 50/50\n",
            "219/219 [==============================] - 1s 7ms/step - loss: 0.3833 - accuracy: 0.8347 - val_loss: 0.4322 - val_accuracy: 0.8092\n"
          ]
        },
        {
          "output_type": "execute_result",
          "data": {
            "text/plain": [
              "<keras.callbacks.History at 0x7f07b3a90d60>"
            ]
          },
          "metadata": {},
          "execution_count": 124
        }
      ]
    },
    {
      "cell_type": "code",
      "source": [
        "accuracy = classifier.evaluate(x_train, y_train)[1]\n",
        "print(f\"Train accuracy: {round(accuracy * 100, 2)}%\")"
      ],
      "metadata": {
        "id": "Nt13ZEodJ02D",
        "colab": {
          "base_uri": "https://localhost:8080/"
        },
        "outputId": "b2ef92f7-652b-4fe0-f7ad-3c6865b79f5e"
      },
      "execution_count": 125,
      "outputs": [
        {
          "output_type": "stream",
          "name": "stdout",
          "text": [
            "219/219 [==============================] - 1s 2ms/step - loss: 0.3908 - accuracy: 0.8262\n",
            "Train accuracy: 82.62%\n"
          ]
        }
      ]
    },
    {
      "cell_type": "code",
      "source": [
        "accuracy = classifier.evaluate(x_test, y_test)[1]\n",
        "print(f\"Test accuracy: {round(accuracy * 100, 2)}%\")"
      ],
      "metadata": {
        "id": "IdCYRqFGJMcw",
        "colab": {
          "base_uri": "https://localhost:8080/"
        },
        "outputId": "fa7850a4-dcbe-40f9-9ef3-895c8fdf91a9"
      },
      "execution_count": 126,
      "outputs": [
        {
          "output_type": "stream",
          "name": "stdout",
          "text": [
            "196/196 [==============================] - 0s 2ms/step - loss: 0.4332 - accuracy: 0.8083\n",
            "Test accuracy: 80.83%\n"
          ]
        }
      ]
    }
  ]
}