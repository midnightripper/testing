{
  "nbformat": 4,
  "nbformat_minor": 0,
  "metadata": {
    "colab": {
      "provenance": [],
      "toc_visible": true,
      "authorship_tag": "ABX9TyNatcYMiiq5Mlp9FBeWgSik",
      "include_colab_link": true
    },
    "kernelspec": {
      "name": "python3",
      "display_name": "Python 3"
    },
    "language_info": {
      "name": "python"
    },
    "accelerator": "GPU",
    "gpuClass": "standard"
  },
  "cells": [
    {
      "cell_type": "markdown",
      "metadata": {
        "id": "view-in-github",
        "colab_type": "text"
      },
      "source": [
        "<a href=\"https://colab.research.google.com/github/midnightripper/testing/blob/main/Variational_Auto_Encoder.ipynb\" target=\"_parent\"><img src=\"https://colab.research.google.com/assets/colab-badge.svg\" alt=\"Open In Colab\"/></a>"
      ]
    },
    {
      "cell_type": "code",
      "execution_count": 2,
      "metadata": {
        "colab": {
          "base_uri": "https://localhost:8080/"
        },
        "id": "5n4W5sADBnfx",
        "outputId": "ee02b869-58b8-449b-ec13-98f4d71f5a69"
      },
      "outputs": [
        {
          "output_type": "stream",
          "name": "stdout",
          "text": [
            "Mounted at /content/drive\n"
          ]
        }
      ],
      "source": [
        "from google.colab import drive\n",
        "drive.mount('/content/drive')"
      ]
    },
    {
      "cell_type": "markdown",
      "metadata": {
        "id": "lTuKWTvUCDYg"
      },
      "source": [
        "###Prerequisite"
      ]
    },
    {
      "cell_type": "code",
      "execution_count": 3,
      "metadata": {
        "colab": {
          "base_uri": "https://localhost:8080/"
        },
        "id": "pd7zXfrBBvqM",
        "outputId": "a700f834-e880-4d35-eaa2-19a472467fa1"
      },
      "outputs": [
        {
          "output_type": "stream",
          "name": "stdout",
          "text": [
            "Looking in indexes: https://pypi.org/simple, https://us-python.pkg.dev/colab-wheels/public/simple/\n",
            "Collecting tensorflow-addons\n",
            "  Downloading tensorflow_addons-0.20.0-cp39-cp39-manylinux_2_17_x86_64.manylinux2014_x86_64.whl (591 kB)\n",
            "\u001b[2K     \u001b[90m━━━━━━━━━━━━━━━━━━━━━━━━━━━━━━━━━━━━━━\u001b[0m \u001b[32m591.0/591.0 kB\u001b[0m \u001b[31m11.9 MB/s\u001b[0m eta \u001b[36m0:00:00\u001b[0m\n",
            "\u001b[?25hRequirement already satisfied: packaging in /usr/local/lib/python3.9/dist-packages (from tensorflow-addons) (23.0)\n",
            "Collecting typeguard<3.0.0,>=2.7\n",
            "  Downloading typeguard-2.13.3-py3-none-any.whl (17 kB)\n",
            "Installing collected packages: typeguard, tensorflow-addons\n",
            "Successfully installed tensorflow-addons-0.20.0 typeguard-2.13.3\n"
          ]
        }
      ],
      "source": [
        "pip install tensorflow-addons"
      ]
    },
    {
      "cell_type": "code",
      "execution_count": 22,
      "metadata": {
        "id": "O7F71cx6BwQW"
      },
      "outputs": [],
      "source": [
        "import numpy as np\n",
        "import tensorflow as tf\n",
        "import tensorflow_addons as tfa\n",
        "import scipy.io as sio\n",
        "import pandas as pd\n",
        "import matplotlib.pyplot as plt\n",
        "\n",
        "from tensorflow import keras\n",
        "from tensorflow.keras import layers\n",
        "from tensorflow.keras.models import Sequential\n",
        "from tensorflow.keras.layers import Conv1D, MaxPooling1D, Flatten, Dense\n",
        "from tensorflow.keras.models import Model\n",
        "from sklearn.preprocessing import StandardScaler\n",
        "from keras.models import Sequential\n",
        "from keras.layers import Activation\n",
        "from keras.layers import Input\n",
        "from keras.layers import Reshape\n",
        "from tensorflow.keras import backend as K"
      ]
    },
    {
      "cell_type": "markdown",
      "metadata": {
        "id": "uzQisdLRCdAm"
      },
      "source": [
        "Load the train and test data splits"
      ]
    },
    {
      "cell_type": "code",
      "execution_count": 23,
      "metadata": {
        "id": "c4yofhKpCPsk"
      },
      "outputs": [],
      "source": [
        "GER_test = (np.array(sio.loadmat('/content/drive/MyDrive/training data/GER_test.mat')['GER_test'])).transpose()\n",
        "GER_train = (np.array(sio.loadmat('/content/drive/MyDrive/training data/GER_train.mat')['GER_train'])).transpose()\n",
        "test_frame = pd.DataFrame(GER_test).sort_values(1)\n",
        "train_frame = pd.DataFrame(GER_train).sort_values(1)"
      ]
    },
    {
      "cell_type": "code",
      "execution_count": 24,
      "metadata": {
        "colab": {
          "base_uri": "https://localhost:8080/"
        },
        "id": "4HDdLVz2ChJF",
        "outputId": "e199cc82-d1c0-4a87-f83b-6eef7ef12db6"
      },
      "outputs": [
        {
          "output_type": "stream",
          "name": "stdout",
          "text": [
            "x_train shape: (6981, 21) - y_train shape: (6981, 21)\n",
            "x_test shape: (6248, 21) - y_test shape: (6248, 21)\n"
          ]
        }
      ],
      "source": [
        "print(f\"x_train shape: {GER_train.shape} - y_train shape: {GER_train.shape}\")\n",
        "print(f\"x_test shape: {GER_test.shape} - y_test shape: {GER_test.shape}\")"
      ]
    },
    {
      "cell_type": "code",
      "execution_count": 25,
      "metadata": {
        "id": "QKt4urE1O7ke"
      },
      "outputs": [],
      "source": [
        "def get_data_labels(split):\n",
        "    x = pd.DataFrame(split)\n",
        "    labels = x[0].values.astype(np.uint8)\n",
        "    del x[0],x[1]\n",
        "    data = x.values \n",
        "    return data, labels\n",
        "    \n",
        "x_train, y_train = get_data_labels(train_frame.values.tolist())\n",
        "x_test, y_test = get_data_labels(test_frame.values.tolist())"
      ]
    },
    {
      "cell_type": "code",
      "source": [
        "df = pd.DataFrame(x_train)\n",
        "scaler = StandardScaler()\n",
        "x_train = pd.DataFrame(scaler.fit_transform(df), columns=df.columns)"
      ],
      "metadata": {
        "id": "LiyxoXMIajC_"
      },
      "execution_count": 26,
      "outputs": []
    },
    {
      "cell_type": "code",
      "source": [
        "df2 = pd.DataFrame(x_test)\n",
        "scaler = StandardScaler()\n",
        "x_test = pd.DataFrame(scaler.fit_transform(df2), columns=df.columns)"
      ],
      "metadata": {
        "id": "4PVlJpiAb1Xq"
      },
      "execution_count": 27,
      "outputs": []
    },
    {
      "cell_type": "code",
      "source": [
        "input_shape = (19,)"
      ],
      "metadata": {
        "id": "t-_jwVqoJgTE"
      },
      "execution_count": 10,
      "outputs": []
    },
    {
      "cell_type": "code",
      "source": [
        "# Define the sampling layer\n",
        "# def sampling(args):\n",
        "#     z_mean, z_log_var = args\n",
        "#     epsilon = tf.keras.backend.random_normal(shape=(tf.keras.backend.shape(z_mean)[0], 8), mean=0., stddev=1.)\n",
        "#     return z_mean + tf.keras.backend.exp(0.5 * z_log_var) * epsilon\n",
        "\n",
        "def sampling(args):\n",
        "    \"\"\"Reparameterization trick. Instead of sampling from Q(z|X), \n",
        "    sample eps = N(0,I) z = z_mean + sqrt(var)*eps.\n",
        "\n",
        "    Parameters:\n",
        "    -----------\n",
        "    args: list of Tensors\n",
        "        Mean and log of variance of Q(z|X)\n",
        "\n",
        "    Returns\n",
        "    -------\n",
        "    z: Tensor\n",
        "        Sampled latent vector\n",
        "    \"\"\"\n",
        "\n",
        "    z_mean, z_log_var = args\n",
        "    eps = tf.random.normal(tf.shape(z_log_var), dtype=tf.float32, mean=0., stddev=1.0, name='epsilon')\n",
        "    z = z_mean + tf.exp(z_log_var / 2) * eps\n",
        "    return z"
      ],
      "metadata": {
        "id": "jakg8MGkJmpg"
      },
      "execution_count": 28,
      "outputs": []
    },
    {
      "cell_type": "code",
      "source": [
        "encoder_inputs = keras.Input(shape=input_shape)\n",
        "x = layers.Dense(64, activation=\"relu\")(encoder_inputs)\n",
        "x1 = layers.Dense(32, activation=\"relu\")(x)\n",
        "z_mean = layers.Dense(8, name=\"z_mean\")(x1)\n",
        "z_log_var = layers.Dense(8, name=\"z_log_var\")(x1)\n"
      ],
      "metadata": {
        "id": "C_ZDnbznJjd_"
      },
      "execution_count": 29,
      "outputs": []
    },
    {
      "cell_type": "code",
      "source": [
        "z = keras.layers.Lambda(sampling, name='z')([z_mean, z_log_var])\n",
        "encoder = keras.Model(encoder_inputs, [z_mean, z_log_var, z], name='encoder')\n",
        "encoder.summary()"
      ],
      "metadata": {
        "colab": {
          "base_uri": "https://localhost:8080/"
        },
        "id": "Wbei5NfYOybb",
        "outputId": "b1b221fd-ce23-4316-e8a0-165add38c49b"
      },
      "execution_count": 30,
      "outputs": [
        {
          "output_type": "stream",
          "name": "stdout",
          "text": [
            "Model: \"encoder\"\n",
            "__________________________________________________________________________________________________\n",
            " Layer (type)                   Output Shape         Param #     Connected to                     \n",
            "==================================================================================================\n",
            " input_3 (InputLayer)           [(None, 19)]         0           []                               \n",
            "                                                                                                  \n",
            " dense_12 (Dense)               (None, 64)           1280        ['input_3[0][0]']                \n",
            "                                                                                                  \n",
            " dense_13 (Dense)               (None, 32)           2080        ['dense_12[0][0]']               \n",
            "                                                                                                  \n",
            " z_mean (Dense)                 (None, 8)            264         ['dense_13[0][0]']               \n",
            "                                                                                                  \n",
            " z_log_var (Dense)              (None, 8)            264         ['dense_13[0][0]']               \n",
            "                                                                                                  \n",
            " z (Lambda)                     (None, 8)            0           ['z_mean[0][0]',                 \n",
            "                                                                  'z_log_var[0][0]']              \n",
            "                                                                                                  \n",
            "==================================================================================================\n",
            "Total params: 3,888\n",
            "Trainable params: 3,888\n",
            "Non-trainable params: 0\n",
            "__________________________________________________________________________________________________\n"
          ]
        }
      ]
    },
    {
      "cell_type": "code",
      "source": [
        "latent_inputs = keras.layers.Input(shape=(8), name='z_sampling')\n",
        "x = keras.layers.Dense(32, activation='relu')(latent_inputs)\n",
        "outputs = keras.layers.Dense(64, activation='sigmoid')(x)\n",
        "outputs = keras.layers.Dense(19, activation='sigmoid')(outputs)\n",
        "# instantiate decoder model\n",
        "decoder = keras.Model(latent_inputs, outputs, name='decoder')\n",
        "decoder.summary()"
      ],
      "metadata": {
        "colab": {
          "base_uri": "https://localhost:8080/"
        },
        "id": "8BIAfRWrQNOK",
        "outputId": "72a40e0a-50d2-4f76-d7f2-eacbfe92c792"
      },
      "execution_count": 15,
      "outputs": [
        {
          "output_type": "stream",
          "name": "stdout",
          "text": [
            "Model: \"decoder\"\n",
            "_________________________________________________________________\n",
            " Layer (type)                Output Shape              Param #   \n",
            "=================================================================\n",
            " z_sampling (InputLayer)     [(None, 8)]               0         \n",
            "                                                                 \n",
            " dense_2 (Dense)             (None, 32)                288       \n",
            "                                                                 \n",
            " dense_3 (Dense)             (None, 64)                2112      \n",
            "                                                                 \n",
            " dense_4 (Dense)             (None, 19)                1235      \n",
            "                                                                 \n",
            "=================================================================\n",
            "Total params: 3,635\n",
            "Trainable params: 3,635\n",
            "Non-trainable params: 0\n",
            "_________________________________________________________________\n"
          ]
        }
      ]
    },
    {
      "cell_type": "code",
      "source": [
        "print(encoder(encoder_inputs)[2])"
      ],
      "metadata": {
        "colab": {
          "base_uri": "https://localhost:8080/"
        },
        "id": "t5BJXJXCa1xE",
        "outputId": "e926c798-b1a4-462a-ebc7-eaa30985bb81"
      },
      "execution_count": 35,
      "outputs": [
        {
          "output_type": "stream",
          "name": "stdout",
          "text": [
            "KerasTensor(type_spec=TensorSpec(shape=(None, 8), dtype=tf.float32, name=None), name='encoder/z/add:0', description=\"created by layer 'encoder'\")\n"
          ]
        }
      ]
    },
    {
      "cell_type": "code",
      "source": [
        "outputs = decoder(encoder(encoder_inputs)[2])  # Select the Z value from outputs of the encoder\n",
        "vae = keras.Model(encoder_inputs, outputs, name='vae')"
      ],
      "metadata": {
        "id": "SRSG3DHgQidg"
      },
      "execution_count": 16,
      "outputs": []
    },
    {
      "cell_type": "code",
      "source": [
        "reconstruction_loss = keras.losses.mean_squared_error(encoder_inputs, outputs)\n",
        "reconstruction_loss = reconstruction_loss * 19\n",
        "\n",
        "# KL Divergence loss\n",
        "kl_loss = 1 + z_log_var - tf.square(z_mean) - tf.exp(z_log_var)\n",
        "kl_loss = -0.5 * tf.reduce_sum(kl_loss, axis=-1)\n",
        "vae_loss = tf.reduce_mean(reconstruction_loss + kl_loss)\n",
        "\n",
        "vae.add_loss(vae_loss)\n",
        "vae.compile(optimizer='adam')\n",
        "vae.summary()"
      ],
      "metadata": {
        "colab": {
          "base_uri": "https://localhost:8080/"
        },
        "id": "WKC0ZfCyQzth",
        "outputId": "c4bf6829-ccab-4b1b-8e85-c1f94f648581"
      },
      "execution_count": 17,
      "outputs": [
        {
          "output_type": "stream",
          "name": "stdout",
          "text": [
            "Model: \"vae\"\n",
            "__________________________________________________________________________________________________\n",
            " Layer (type)                   Output Shape         Param #     Connected to                     \n",
            "==================================================================================================\n",
            " input_1 (InputLayer)           [(None, 19)]         0           []                               \n",
            "                                                                                                  \n",
            " encoder (Functional)           [(None, 8),          3888        ['input_1[0][0]']                \n",
            "                                 (None, 8),                                                       \n",
            "                                 (None, 8)]                                                       \n",
            "                                                                                                  \n",
            " decoder (Functional)           (None, 19)           3635        ['encoder[0][2]']                \n",
            "                                                                                                  \n",
            " dense (Dense)                  (None, 64)           1280        ['input_1[0][0]']                \n",
            "                                                                                                  \n",
            " dense_1 (Dense)                (None, 32)           2080        ['dense[0][0]']                  \n",
            "                                                                                                  \n",
            " z_log_var (Dense)              (None, 8)            264         ['dense_1[0][0]']                \n",
            "                                                                                                  \n",
            " z_mean (Dense)                 (None, 8)            264         ['dense_1[0][0]']                \n",
            "                                                                                                  \n",
            " tf.__operators__.add (TFOpLamb  (None, 8)           0           ['z_log_var[0][0]']              \n",
            " da)                                                                                              \n",
            "                                                                                                  \n",
            " tf.math.square (TFOpLambda)    (None, 8)            0           ['z_mean[0][0]']                 \n",
            "                                                                                                  \n",
            " tf.convert_to_tensor (TFOpLamb  (None, 19)          0           ['decoder[0][0]']                \n",
            " da)                                                                                              \n",
            "                                                                                                  \n",
            " tf.cast (TFOpLambda)           (None, 19)           0           ['input_1[0][0]']                \n",
            "                                                                                                  \n",
            " tf.math.subtract (TFOpLambda)  (None, 8)            0           ['tf.__operators__.add[0][0]',   \n",
            "                                                                  'tf.math.square[0][0]']         \n",
            "                                                                                                  \n",
            " tf.math.exp (TFOpLambda)       (None, 8)            0           ['z_log_var[0][0]']              \n",
            "                                                                                                  \n",
            " tf.math.squared_difference (TF  (None, 19)          0           ['tf.convert_to_tensor[0][0]',   \n",
            " OpLambda)                                                        'tf.cast[0][0]']                \n",
            "                                                                                                  \n",
            " tf.math.subtract_1 (TFOpLambda  (None, 8)           0           ['tf.math.subtract[0][0]',       \n",
            " )                                                                'tf.math.exp[0][0]']            \n",
            "                                                                                                  \n",
            " tf.math.reduce_mean (TFOpLambd  (None,)             0           ['tf.math.squared_difference[0][0\n",
            " a)                                                              ]']                              \n",
            "                                                                                                  \n",
            " tf.math.reduce_sum (TFOpLambda  (None,)             0           ['tf.math.subtract_1[0][0]']     \n",
            " )                                                                                                \n",
            "                                                                                                  \n",
            " tf.math.multiply (TFOpLambda)  (None,)              0           ['tf.math.reduce_mean[0][0]']    \n",
            "                                                                                                  \n",
            " tf.math.multiply_1 (TFOpLambda  (None,)             0           ['tf.math.reduce_sum[0][0]']     \n",
            " )                                                                                                \n",
            "                                                                                                  \n",
            " tf.__operators__.add_1 (TFOpLa  (None,)             0           ['tf.math.multiply[0][0]',       \n",
            " mbda)                                                            'tf.math.multiply_1[0][0]']     \n",
            "                                                                                                  \n",
            " tf.math.reduce_mean_1 (TFOpLam  ()                  0           ['tf.__operators__.add_1[0][0]'] \n",
            " bda)                                                                                             \n",
            "                                                                                                  \n",
            " add_loss (AddLoss)             ()                   0           ['tf.math.reduce_mean_1[0][0]']  \n",
            "                                                                                                  \n",
            "==================================================================================================\n",
            "Total params: 7,523\n",
            "Trainable params: 7,523\n",
            "Non-trainable params: 0\n",
            "__________________________________________________________________________________________________\n"
          ]
        }
      ]
    },
    {
      "cell_type": "code",
      "source": [
        "vae.fit(x_train, epochs=50, batch_size=265, validation_data=(x_test, None))"
      ],
      "metadata": {
        "colab": {
          "base_uri": "https://localhost:8080/"
        },
        "id": "Lbw85BPmRkp-",
        "outputId": "539829d4-b612-4b79-ad25-bca38ddf33b5"
      },
      "execution_count": 18,
      "outputs": [
        {
          "output_type": "stream",
          "name": "stdout",
          "text": [
            "Epoch 1/50\n",
            "27/27 [==============================] - 13s 62ms/step - loss: 24.0562 - val_loss: 21.8558\n",
            "Epoch 2/50\n",
            "27/27 [==============================] - 1s 25ms/step - loss: 20.7982 - val_loss: 19.9371\n",
            "Epoch 3/50\n",
            "27/27 [==============================] - 1s 29ms/step - loss: 19.6420 - val_loss: 19.3546\n",
            "Epoch 4/50\n",
            "27/27 [==============================] - 1s 21ms/step - loss: 19.2667 - val_loss: 19.1624\n",
            "Epoch 5/50\n",
            "27/27 [==============================] - 1s 19ms/step - loss: 19.1308 - val_loss: 19.0765\n",
            "Epoch 6/50\n",
            "27/27 [==============================] - 0s 14ms/step - loss: 19.0742 - val_loss: 19.0325\n",
            "Epoch 7/50\n",
            "27/27 [==============================] - 0s 13ms/step - loss: 19.0483 - val_loss: 19.0123\n",
            "Epoch 8/50\n",
            "27/27 [==============================] - 0s 15ms/step - loss: 19.0765 - val_loss: 18.9982\n",
            "Epoch 9/50\n",
            "27/27 [==============================] - 0s 16ms/step - loss: 19.0884 - val_loss: 18.9828\n",
            "Epoch 10/50\n",
            "27/27 [==============================] - 0s 17ms/step - loss: 18.9833 - val_loss: 18.9616\n",
            "Epoch 11/50\n",
            "27/27 [==============================] - 0s 15ms/step - loss: 19.0478 - val_loss: 18.9485\n",
            "Epoch 12/50\n",
            "27/27 [==============================] - 0s 16ms/step - loss: 18.9222 - val_loss: 18.9340\n",
            "Epoch 13/50\n",
            "27/27 [==============================] - 0s 17ms/step - loss: 19.0091 - val_loss: 18.9186\n",
            "Epoch 14/50\n",
            "27/27 [==============================] - 0s 14ms/step - loss: 18.9258 - val_loss: 18.8823\n",
            "Epoch 15/50\n",
            "27/27 [==============================] - 0s 17ms/step - loss: 18.9405 - val_loss: 18.8050\n",
            "Epoch 16/50\n",
            "27/27 [==============================] - 0s 18ms/step - loss: 18.7710 - val_loss: 18.6274\n",
            "Epoch 17/50\n",
            "27/27 [==============================] - 0s 17ms/step - loss: 18.4323 - val_loss: 18.1582\n",
            "Epoch 18/50\n",
            "27/27 [==============================] - 0s 15ms/step - loss: 17.8461 - val_loss: 17.5096\n",
            "Epoch 19/50\n",
            "27/27 [==============================] - 0s 15ms/step - loss: 17.2490 - val_loss: 17.0621\n",
            "Epoch 20/50\n",
            "27/27 [==============================] - 1s 20ms/step - loss: 16.9444 - val_loss: 16.8328\n",
            "Epoch 21/50\n",
            "27/27 [==============================] - 1s 19ms/step - loss: 16.7389 - val_loss: 16.7151\n",
            "Epoch 22/50\n",
            "27/27 [==============================] - 1s 19ms/step - loss: 16.5313 - val_loss: 16.6134\n",
            "Epoch 23/50\n",
            "27/27 [==============================] - 0s 16ms/step - loss: 16.5671 - val_loss: 16.6183\n",
            "Epoch 24/50\n",
            "27/27 [==============================] - 0s 11ms/step - loss: 16.5328 - val_loss: 16.5734\n",
            "Epoch 25/50\n",
            "27/27 [==============================] - 0s 8ms/step - loss: 16.4608 - val_loss: 16.5279\n",
            "Epoch 26/50\n",
            "27/27 [==============================] - 0s 8ms/step - loss: 16.4067 - val_loss: 16.4284\n",
            "Epoch 27/50\n",
            "27/27 [==============================] - 0s 8ms/step - loss: 16.3860 - val_loss: 16.4490\n",
            "Epoch 28/50\n",
            "27/27 [==============================] - 0s 8ms/step - loss: 16.4138 - val_loss: 16.4105\n",
            "Epoch 29/50\n",
            "27/27 [==============================] - 0s 13ms/step - loss: 16.3747 - val_loss: 16.4135\n",
            "Epoch 30/50\n",
            "27/27 [==============================] - 0s 14ms/step - loss: 16.3324 - val_loss: 16.3696\n",
            "Epoch 31/50\n",
            "27/27 [==============================] - 0s 11ms/step - loss: 16.3000 - val_loss: 16.2957\n",
            "Epoch 32/50\n",
            "27/27 [==============================] - 0s 13ms/step - loss: 16.2008 - val_loss: 16.3373\n",
            "Epoch 33/50\n",
            "27/27 [==============================] - 0s 14ms/step - loss: 16.2256 - val_loss: 16.2808\n",
            "Epoch 34/50\n",
            "27/27 [==============================] - 0s 11ms/step - loss: 16.2075 - val_loss: 16.2726\n",
            "Epoch 35/50\n",
            "27/27 [==============================] - 0s 14ms/step - loss: 16.1755 - val_loss: 16.1879\n",
            "Epoch 36/50\n",
            "27/27 [==============================] - 0s 14ms/step - loss: 16.2016 - val_loss: 16.2082\n",
            "Epoch 37/50\n",
            "27/27 [==============================] - 0s 15ms/step - loss: 16.1067 - val_loss: 16.1741\n",
            "Epoch 38/50\n",
            "27/27 [==============================] - 0s 10ms/step - loss: 16.1518 - val_loss: 16.1612\n",
            "Epoch 39/50\n",
            "27/27 [==============================] - 0s 10ms/step - loss: 16.0702 - val_loss: 16.1091\n",
            "Epoch 40/50\n",
            "27/27 [==============================] - 0s 8ms/step - loss: 16.0588 - val_loss: 16.0835\n",
            "Epoch 41/50\n",
            "27/27 [==============================] - 0s 8ms/step - loss: 15.9659 - val_loss: 16.0780\n",
            "Epoch 42/50\n",
            "27/27 [==============================] - 0s 7ms/step - loss: 15.9962 - val_loss: 16.0505\n",
            "Epoch 43/50\n",
            "27/27 [==============================] - 0s 7ms/step - loss: 15.9631 - val_loss: 16.0316\n",
            "Epoch 44/50\n",
            "27/27 [==============================] - 0s 7ms/step - loss: 15.9640 - val_loss: 16.0321\n",
            "Epoch 45/50\n",
            "27/27 [==============================] - 0s 7ms/step - loss: 15.8879 - val_loss: 15.9851\n",
            "Epoch 46/50\n",
            "27/27 [==============================] - 0s 7ms/step - loss: 15.9924 - val_loss: 16.0189\n",
            "Epoch 47/50\n",
            "27/27 [==============================] - 0s 8ms/step - loss: 15.8891 - val_loss: 15.9816\n",
            "Epoch 48/50\n",
            "27/27 [==============================] - 0s 7ms/step - loss: 15.8666 - val_loss: 15.9906\n",
            "Epoch 49/50\n",
            "27/27 [==============================] - 0s 8ms/step - loss: 15.8947 - val_loss: 15.9519\n",
            "Epoch 50/50\n",
            "27/27 [==============================] - 0s 7ms/step - loss: 15.9071 - val_loss: 15.9799\n"
          ]
        },
        {
          "output_type": "execute_result",
          "data": {
            "text/plain": [
              "<keras.callbacks.History at 0x7fd486c98fd0>"
            ]
          },
          "metadata": {},
          "execution_count": 18
        }
      ]
    },
    {
      "cell_type": "code",
      "source": [
        "encoder = Model(encoder_inputs, z_mean)\n",
        "encoder.trainable = False\n",
        "encoder.summary()"
      ],
      "metadata": {
        "colab": {
          "base_uri": "https://localhost:8080/"
        },
        "id": "0J0cBvnWSKNV",
        "outputId": "1bf29baf-2086-4135-92da-a97ec95a7205"
      },
      "execution_count": 19,
      "outputs": [
        {
          "output_type": "stream",
          "name": "stdout",
          "text": [
            "Model: \"model\"\n",
            "_________________________________________________________________\n",
            " Layer (type)                Output Shape              Param #   \n",
            "=================================================================\n",
            " input_1 (InputLayer)        [(None, 19)]              0         \n",
            "                                                                 \n",
            " dense (Dense)               (None, 64)                1280      \n",
            "                                                                 \n",
            " dense_1 (Dense)             (None, 32)                2080      \n",
            "                                                                 \n",
            " z_mean (Dense)              (None, 8)                 264       \n",
            "                                                                 \n",
            "=================================================================\n",
            "Total params: 3,624\n",
            "Trainable params: 0\n",
            "Non-trainable params: 3,624\n",
            "_________________________________________________________________\n"
          ]
        }
      ]
    },
    {
      "cell_type": "code",
      "source": [
        "classifier_input = Input(shape=(19,))\n",
        "encoded_input = encoder(classifier_input)\n",
        "x1=Dense(128,activation='relu')(encoded_input)\n",
        "x2=Dense(64,activation='relu')(x1)\n",
        "x3=Dense(32,activation='relu')(x2)\n",
        "x4=Dense(16,activation='relu')(x3)\n",
        "x5=Dense(8,activation='relu')(x4)\n",
        "x6=Dense(4,activation='relu')(x5)\n",
        "output_layer = Dense(1, activation='sigmoid')(x6)\n",
        "\n",
        "classifier = Model(classifier_input, output_layer)\n",
        "classifier.summary()\n",
        "classifier.compile(optimizer='adam', loss='binary_crossentropy', metrics=['accuracy'])\n",
        "classifier.fit(x_train, y_train, epochs=50, batch_size=32, validation_data=(x_test, y_test))\n"
      ],
      "metadata": {
        "colab": {
          "base_uri": "https://localhost:8080/"
        },
        "id": "3ga3NymszHzx",
        "outputId": "5ffe7221-b6f6-49a3-e54a-f6cae4f27410"
      },
      "execution_count": 20,
      "outputs": [
        {
          "output_type": "stream",
          "name": "stdout",
          "text": [
            "Model: \"model_1\"\n",
            "_________________________________________________________________\n",
            " Layer (type)                Output Shape              Param #   \n",
            "=================================================================\n",
            " input_2 (InputLayer)        [(None, 19)]              0         \n",
            "                                                                 \n",
            " model (Functional)          (None, 8)                 3624      \n",
            "                                                                 \n",
            " dense_5 (Dense)             (None, 128)               1152      \n",
            "                                                                 \n",
            " dense_6 (Dense)             (None, 64)                8256      \n",
            "                                                                 \n",
            " dense_7 (Dense)             (None, 32)                2080      \n",
            "                                                                 \n",
            " dense_8 (Dense)             (None, 16)                528       \n",
            "                                                                 \n",
            " dense_9 (Dense)             (None, 8)                 136       \n",
            "                                                                 \n",
            " dense_10 (Dense)            (None, 4)                 36        \n",
            "                                                                 \n",
            " dense_11 (Dense)            (None, 1)                 5         \n",
            "                                                                 \n",
            "=================================================================\n",
            "Total params: 15,817\n",
            "Trainable params: 12,193\n",
            "Non-trainable params: 3,624\n",
            "_________________________________________________________________\n",
            "Epoch 1/50\n",
            "219/219 [==============================] - 5s 7ms/step - loss: 0.6274 - accuracy: 0.6619 - val_loss: 0.6032 - val_accuracy: 0.6809\n",
            "Epoch 2/50\n",
            "219/219 [==============================] - 1s 6ms/step - loss: 0.6122 - accuracy: 0.6662 - val_loss: 0.5992 - val_accuracy: 0.6757\n",
            "Epoch 3/50\n",
            "219/219 [==============================] - 2s 7ms/step - loss: 0.6053 - accuracy: 0.6624 - val_loss: 0.6035 - val_accuracy: 0.6775\n",
            "Epoch 4/50\n",
            "219/219 [==============================] - 2s 9ms/step - loss: 0.6031 - accuracy: 0.6642 - val_loss: 0.5915 - val_accuracy: 0.6722\n",
            "Epoch 5/50\n",
            "219/219 [==============================] - 2s 10ms/step - loss: 0.6009 - accuracy: 0.6670 - val_loss: 0.5912 - val_accuracy: 0.6749\n",
            "Epoch 6/50\n",
            "219/219 [==============================] - 1s 6ms/step - loss: 0.6019 - accuracy: 0.6727 - val_loss: 0.5928 - val_accuracy: 0.6778\n",
            "Epoch 7/50\n",
            "219/219 [==============================] - 2s 8ms/step - loss: 0.5990 - accuracy: 0.6751 - val_loss: 0.5952 - val_accuracy: 0.6794\n",
            "Epoch 8/50\n",
            "219/219 [==============================] - 1s 7ms/step - loss: 0.5997 - accuracy: 0.6747 - val_loss: 0.5948 - val_accuracy: 0.6809\n",
            "Epoch 9/50\n",
            "219/219 [==============================] - 2s 8ms/step - loss: 0.5992 - accuracy: 0.6735 - val_loss: 0.5922 - val_accuracy: 0.6775\n",
            "Epoch 10/50\n",
            "219/219 [==============================] - 1s 7ms/step - loss: 0.5994 - accuracy: 0.6767 - val_loss: 0.5903 - val_accuracy: 0.6735\n",
            "Epoch 11/50\n",
            "219/219 [==============================] - 2s 8ms/step - loss: 0.5995 - accuracy: 0.6753 - val_loss: 0.5903 - val_accuracy: 0.6777\n",
            "Epoch 12/50\n",
            "219/219 [==============================] - 2s 9ms/step - loss: 0.5972 - accuracy: 0.6748 - val_loss: 0.5902 - val_accuracy: 0.6799\n",
            "Epoch 13/50\n",
            "219/219 [==============================] - 2s 10ms/step - loss: 0.5981 - accuracy: 0.6776 - val_loss: 0.5900 - val_accuracy: 0.6788\n",
            "Epoch 14/50\n",
            "219/219 [==============================] - 2s 8ms/step - loss: 0.5974 - accuracy: 0.6766 - val_loss: 0.5891 - val_accuracy: 0.6788\n",
            "Epoch 15/50\n",
            "219/219 [==============================] - 1s 7ms/step - loss: 0.5962 - accuracy: 0.6797 - val_loss: 0.5941 - val_accuracy: 0.6761\n",
            "Epoch 16/50\n",
            "219/219 [==============================] - 2s 8ms/step - loss: 0.5975 - accuracy: 0.6776 - val_loss: 0.5889 - val_accuracy: 0.6788\n",
            "Epoch 17/50\n",
            "219/219 [==============================] - 2s 8ms/step - loss: 0.5966 - accuracy: 0.6768 - val_loss: 0.5909 - val_accuracy: 0.6809\n",
            "Epoch 18/50\n",
            "219/219 [==============================] - 2s 8ms/step - loss: 0.5957 - accuracy: 0.6777 - val_loss: 0.6026 - val_accuracy: 0.6815\n",
            "Epoch 19/50\n",
            "219/219 [==============================] - 1s 7ms/step - loss: 0.5963 - accuracy: 0.6748 - val_loss: 0.5889 - val_accuracy: 0.6797\n",
            "Epoch 20/50\n",
            "219/219 [==============================] - 2s 9ms/step - loss: 0.5956 - accuracy: 0.6796 - val_loss: 0.5899 - val_accuracy: 0.6828\n",
            "Epoch 21/50\n",
            "219/219 [==============================] - 2s 10ms/step - loss: 0.5957 - accuracy: 0.6776 - val_loss: 0.5878 - val_accuracy: 0.6829\n",
            "Epoch 22/50\n",
            "219/219 [==============================] - 2s 7ms/step - loss: 0.5955 - accuracy: 0.6753 - val_loss: 0.5877 - val_accuracy: 0.6815\n",
            "Epoch 23/50\n",
            "219/219 [==============================] - 1s 7ms/step - loss: 0.5941 - accuracy: 0.6813 - val_loss: 0.5887 - val_accuracy: 0.6788\n",
            "Epoch 24/50\n",
            "219/219 [==============================] - 2s 8ms/step - loss: 0.5941 - accuracy: 0.6820 - val_loss: 0.5880 - val_accuracy: 0.6799\n",
            "Epoch 25/50\n",
            "219/219 [==============================] - 2s 8ms/step - loss: 0.5950 - accuracy: 0.6730 - val_loss: 0.5879 - val_accuracy: 0.6817\n",
            "Epoch 26/50\n",
            "219/219 [==============================] - 2s 8ms/step - loss: 0.5938 - accuracy: 0.6800 - val_loss: 0.5886 - val_accuracy: 0.6801\n",
            "Epoch 27/50\n",
            "219/219 [==============================] - 2s 8ms/step - loss: 0.5935 - accuracy: 0.6787 - val_loss: 0.5934 - val_accuracy: 0.6783\n",
            "Epoch 28/50\n",
            "219/219 [==============================] - 2s 8ms/step - loss: 0.5937 - accuracy: 0.6810 - val_loss: 0.5902 - val_accuracy: 0.6804\n",
            "Epoch 29/50\n",
            "219/219 [==============================] - 2s 9ms/step - loss: 0.5939 - accuracy: 0.6777 - val_loss: 0.5882 - val_accuracy: 0.6772\n",
            "Epoch 30/50\n",
            "219/219 [==============================] - 2s 8ms/step - loss: 0.5938 - accuracy: 0.6807 - val_loss: 0.5882 - val_accuracy: 0.6825\n",
            "Epoch 31/50\n",
            "219/219 [==============================] - 2s 8ms/step - loss: 0.5929 - accuracy: 0.6803 - val_loss: 0.5869 - val_accuracy: 0.6825\n",
            "Epoch 32/50\n",
            "219/219 [==============================] - 2s 8ms/step - loss: 0.5928 - accuracy: 0.6817 - val_loss: 0.5895 - val_accuracy: 0.6868\n",
            "Epoch 33/50\n",
            "219/219 [==============================] - 2s 7ms/step - loss: 0.5918 - accuracy: 0.6788 - val_loss: 0.5882 - val_accuracy: 0.6813\n",
            "Epoch 34/50\n",
            "219/219 [==============================] - 1s 6ms/step - loss: 0.5920 - accuracy: 0.6788 - val_loss: 0.5917 - val_accuracy: 0.6789\n",
            "Epoch 35/50\n",
            "219/219 [==============================] - 2s 8ms/step - loss: 0.5936 - accuracy: 0.6793 - val_loss: 0.5874 - val_accuracy: 0.6831\n",
            "Epoch 36/50\n",
            "219/219 [==============================] - 2s 8ms/step - loss: 0.5916 - accuracy: 0.6777 - val_loss: 0.5909 - val_accuracy: 0.6829\n",
            "Epoch 37/50\n",
            "219/219 [==============================] - 2s 9ms/step - loss: 0.5919 - accuracy: 0.6788 - val_loss: 0.5875 - val_accuracy: 0.6815\n",
            "Epoch 38/50\n",
            "219/219 [==============================] - 2s 9ms/step - loss: 0.5927 - accuracy: 0.6826 - val_loss: 0.5865 - val_accuracy: 0.6833\n",
            "Epoch 39/50\n",
            "219/219 [==============================] - 1s 6ms/step - loss: 0.5920 - accuracy: 0.6793 - val_loss: 0.5916 - val_accuracy: 0.6753\n",
            "Epoch 40/50\n",
            "219/219 [==============================] - 1s 7ms/step - loss: 0.5933 - accuracy: 0.6788 - val_loss: 0.5890 - val_accuracy: 0.6850\n",
            "Epoch 41/50\n",
            "219/219 [==============================] - 2s 7ms/step - loss: 0.5919 - accuracy: 0.6829 - val_loss: 0.5912 - val_accuracy: 0.6781\n",
            "Epoch 42/50\n",
            "219/219 [==============================] - 1s 7ms/step - loss: 0.5909 - accuracy: 0.6829 - val_loss: 0.5886 - val_accuracy: 0.6826\n",
            "Epoch 43/50\n",
            "219/219 [==============================] - 2s 8ms/step - loss: 0.5926 - accuracy: 0.6831 - val_loss: 0.5896 - val_accuracy: 0.6845\n",
            "Epoch 44/50\n",
            "219/219 [==============================] - 1s 7ms/step - loss: 0.5900 - accuracy: 0.6811 - val_loss: 0.5858 - val_accuracy: 0.6813\n",
            "Epoch 45/50\n",
            "219/219 [==============================] - 5s 22ms/step - loss: 0.5895 - accuracy: 0.6820 - val_loss: 0.5900 - val_accuracy: 0.6804\n",
            "Epoch 46/50\n",
            "219/219 [==============================] - 1s 7ms/step - loss: 0.5908 - accuracy: 0.6784 - val_loss: 0.5890 - val_accuracy: 0.6844\n",
            "Epoch 47/50\n",
            "219/219 [==============================] - 2s 8ms/step - loss: 0.5907 - accuracy: 0.6830 - val_loss: 0.5875 - val_accuracy: 0.6826\n",
            "Epoch 48/50\n",
            "219/219 [==============================] - 2s 7ms/step - loss: 0.5907 - accuracy: 0.6810 - val_loss: 0.5915 - val_accuracy: 0.6829\n",
            "Epoch 49/50\n",
            "219/219 [==============================] - 1s 7ms/step - loss: 0.5902 - accuracy: 0.6813 - val_loss: 0.5864 - val_accuracy: 0.6863\n",
            "Epoch 50/50\n",
            "219/219 [==============================] - 1s 7ms/step - loss: 0.5901 - accuracy: 0.6811 - val_loss: 0.5869 - val_accuracy: 0.6828\n"
          ]
        },
        {
          "output_type": "execute_result",
          "data": {
            "text/plain": [
              "<keras.callbacks.History at 0x7fd471ed3370>"
            ]
          },
          "metadata": {},
          "execution_count": 20
        }
      ]
    },
    {
      "cell_type": "code",
      "source": [
        "accuracy = classifier.evaluate(x_test, y_test)[1]\n",
        "print(f\"Test accuracy: {round(accuracy * 100, 2)}%\")"
      ],
      "metadata": {
        "colab": {
          "base_uri": "https://localhost:8080/"
        },
        "id": "IdCYRqFGJMcw",
        "outputId": "093b5e58-5fa6-43be-aa39-93e770a9349e"
      },
      "execution_count": 21,
      "outputs": [
        {
          "output_type": "stream",
          "name": "stdout",
          "text": [
            "196/196 [==============================] - 1s 6ms/step - loss: 0.5869 - accuracy: 0.6828\n",
            "Test accuracy: 68.28%\n"
          ]
        }
      ]
    },
    {
      "cell_type": "code",
      "source": [
        "accuracy = classifier.evaluate(x_train, y_train)[1]\n",
        "print(f\"Train accuracy: {round(accuracy * 100, 2)}%\")"
      ],
      "metadata": {
        "colab": {
          "base_uri": "https://localhost:8080/"
        },
        "id": "Nt13ZEodJ02D",
        "outputId": "4e0b85da-e528-4a93-b9b0-1a59680b3d05"
      },
      "execution_count": null,
      "outputs": [
        {
          "output_type": "stream",
          "name": "stdout",
          "text": [
            "219/219 [==============================] - 1s 3ms/step - loss: 0.3567 - accuracy: 0.8431\n",
            "Train accuracy: 84.31%\n"
          ]
        }
      ]
    }
  ]
}