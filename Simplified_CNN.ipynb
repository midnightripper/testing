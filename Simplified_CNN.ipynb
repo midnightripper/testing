{
  "nbformat": 4,
  "nbformat_minor": 0,
  "metadata": {
    "colab": {
      "provenance": [],
      "authorship_tag": "ABX9TyOX39OH1Qc7CZLjOEG4wuPf",
      "include_colab_link": true
    },
    "kernelspec": {
      "name": "python3",
      "display_name": "Python 3"
    },
    "language_info": {
      "name": "python"
    }
  },
  "cells": [
    {
      "cell_type": "markdown",
      "metadata": {
        "id": "view-in-github",
        "colab_type": "text"
      },
      "source": [
        "<a href=\"https://colab.research.google.com/github/midnightripper/testing/blob/main/Simplified_CNN.ipynb\" target=\"_parent\"><img src=\"https://colab.research.google.com/assets/colab-badge.svg\" alt=\"Open In Colab\"/></a>"
      ]
    },
    {
      "cell_type": "code",
      "execution_count": 1,
      "metadata": {
        "colab": {
          "base_uri": "https://localhost:8080/"
        },
        "id": "2ef1CQrqMO1Y",
        "outputId": "1ac1bfa9-e9ff-427c-ef6c-1d7b21d73366"
      },
      "outputs": [
        {
          "output_type": "stream",
          "name": "stdout",
          "text": [
            "Drive already mounted at /content/drive; to attempt to forcibly remount, call drive.mount(\"/content/drive\", force_remount=True).\n"
          ]
        }
      ],
      "source": [
        "from google.colab import drive\n",
        "drive.mount('/content/drive')"
      ]
    },
    {
      "cell_type": "code",
      "source": [
        "pip install tensorflow-addons[tensorflow]"
      ],
      "metadata": {
        "colab": {
          "base_uri": "https://localhost:8080/",
          "height": 1000
        },
        "id": "Hy282P0WMU3X",
        "outputId": "c6604949-48b8-463d-af78-b84783547aba"
      },
      "execution_count": 2,
      "outputs": [
        {
          "output_type": "stream",
          "name": "stdout",
          "text": [
            "Looking in indexes: https://pypi.org/simple, https://us-python.pkg.dev/colab-wheels/public/simple/\n",
            "Collecting tensorflow-addons[tensorflow]\n",
            "  Downloading tensorflow_addons-0.19.0-cp39-cp39-manylinux_2_17_x86_64.manylinux2014_x86_64.whl (1.1 MB)\n",
            "\u001b[2K     \u001b[90m━━━━━━━━━━━━━━━━━━━━━━━━━━━━━━━━━━━━━━━━\u001b[0m \u001b[32m1.1/1.1 MB\u001b[0m \u001b[31m41.8 MB/s\u001b[0m eta \u001b[36m0:00:00\u001b[0m\n",
            "\u001b[?25hRequirement already satisfied: packaging in /usr/local/lib/python3.9/dist-packages (from tensorflow-addons[tensorflow]) (23.0)\n",
            "Collecting typeguard>=2.7\n",
            "  Downloading typeguard-3.0.2-py3-none-any.whl (30 kB)\n",
            "Collecting tensorflow<2.12.0,>=2.9.0\n",
            "  Downloading tensorflow-2.11.1-cp39-cp39-manylinux_2_17_x86_64.manylinux2014_x86_64.whl (588.3 MB)\n",
            "\u001b[2K     \u001b[90m━━━━━━━━━━━━━━━━━━━━━━━━━━━━━━━━━━━━━━━\u001b[0m \u001b[32m588.3/588.3 MB\u001b[0m \u001b[31m2.5 MB/s\u001b[0m eta \u001b[36m0:00:00\u001b[0m\n",
            "\u001b[?25hRequirement already satisfied: astunparse>=1.6.0 in /usr/local/lib/python3.9/dist-packages (from tensorflow<2.12.0,>=2.9.0->tensorflow-addons[tensorflow]) (1.6.3)\n",
            "Requirement already satisfied: wrapt>=1.11.0 in /usr/local/lib/python3.9/dist-packages (from tensorflow<2.12.0,>=2.9.0->tensorflow-addons[tensorflow]) (1.14.1)\n",
            "Requirement already satisfied: gast<=0.4.0,>=0.2.1 in /usr/local/lib/python3.9/dist-packages (from tensorflow<2.12.0,>=2.9.0->tensorflow-addons[tensorflow]) (0.4.0)\n",
            "Collecting tensorboard<2.12,>=2.11\n",
            "  Downloading tensorboard-2.11.2-py3-none-any.whl (6.0 MB)\n",
            "\u001b[2K     \u001b[90m━━━━━━━━━━━━━━━━━━━━━━━━━━━━━━━━━━━━━━━━\u001b[0m \u001b[32m6.0/6.0 MB\u001b[0m \u001b[31m68.4 MB/s\u001b[0m eta \u001b[36m0:00:00\u001b[0m\n",
            "\u001b[?25hRequirement already satisfied: typing-extensions>=3.6.6 in /usr/local/lib/python3.9/dist-packages (from tensorflow<2.12.0,>=2.9.0->tensorflow-addons[tensorflow]) (4.5.0)\n",
            "Requirement already satisfied: termcolor>=1.1.0 in /usr/local/lib/python3.9/dist-packages (from tensorflow<2.12.0,>=2.9.0->tensorflow-addons[tensorflow]) (2.2.0)\n",
            "Requirement already satisfied: flatbuffers>=2.0 in /usr/local/lib/python3.9/dist-packages (from tensorflow<2.12.0,>=2.9.0->tensorflow-addons[tensorflow]) (23.3.3)\n",
            "Requirement already satisfied: grpcio<2.0,>=1.24.3 in /usr/local/lib/python3.9/dist-packages (from tensorflow<2.12.0,>=2.9.0->tensorflow-addons[tensorflow]) (1.53.0)\n",
            "Collecting keras<2.12,>=2.11.0\n",
            "  Downloading keras-2.11.0-py2.py3-none-any.whl (1.7 MB)\n",
            "\u001b[2K     \u001b[90m━━━━━━━━━━━━━━━━━━━━━━━━━━━━━━━━━━━━━━━━\u001b[0m \u001b[32m1.7/1.7 MB\u001b[0m \u001b[31m61.8 MB/s\u001b[0m eta \u001b[36m0:00:00\u001b[0m\n",
            "\u001b[?25hRequirement already satisfied: h5py>=2.9.0 in /usr/local/lib/python3.9/dist-packages (from tensorflow<2.12.0,>=2.9.0->tensorflow-addons[tensorflow]) (3.8.0)\n",
            "Requirement already satisfied: tensorflow-io-gcs-filesystem>=0.23.1 in /usr/local/lib/python3.9/dist-packages (from tensorflow<2.12.0,>=2.9.0->tensorflow-addons[tensorflow]) (0.32.0)\n",
            "Collecting protobuf<3.20,>=3.9.2\n",
            "  Downloading protobuf-3.19.6-cp39-cp39-manylinux_2_17_x86_64.manylinux2014_x86_64.whl (1.1 MB)\n",
            "\u001b[2K     \u001b[90m━━━━━━━━━━━━━━━━━━━━━━━━━━━━━━━━━━━━━━━━\u001b[0m \u001b[32m1.1/1.1 MB\u001b[0m \u001b[31m64.8 MB/s\u001b[0m eta \u001b[36m0:00:00\u001b[0m\n",
            "\u001b[?25hCollecting tensorflow-estimator<2.12,>=2.11.0\n",
            "  Downloading tensorflow_estimator-2.11.0-py2.py3-none-any.whl (439 kB)\n",
            "\u001b[2K     \u001b[90m━━━━━━━━━━━━━━━━━━━━━━━━━━━━━━━━━━━━━━\u001b[0m \u001b[32m439.2/439.2 KB\u001b[0m \u001b[31m43.7 MB/s\u001b[0m eta \u001b[36m0:00:00\u001b[0m\n",
            "\u001b[?25hRequirement already satisfied: opt-einsum>=2.3.2 in /usr/local/lib/python3.9/dist-packages (from tensorflow<2.12.0,>=2.9.0->tensorflow-addons[tensorflow]) (3.3.0)\n",
            "Requirement already satisfied: libclang>=13.0.0 in /usr/local/lib/python3.9/dist-packages (from tensorflow<2.12.0,>=2.9.0->tensorflow-addons[tensorflow]) (16.0.0)\n",
            "Requirement already satisfied: six>=1.12.0 in /usr/local/lib/python3.9/dist-packages (from tensorflow<2.12.0,>=2.9.0->tensorflow-addons[tensorflow]) (1.16.0)\n",
            "Requirement already satisfied: setuptools in /usr/local/lib/python3.9/dist-packages (from tensorflow<2.12.0,>=2.9.0->tensorflow-addons[tensorflow]) (67.6.1)\n",
            "Requirement already satisfied: google-pasta>=0.1.1 in /usr/local/lib/python3.9/dist-packages (from tensorflow<2.12.0,>=2.9.0->tensorflow-addons[tensorflow]) (0.2.0)\n",
            "Requirement already satisfied: absl-py>=1.0.0 in /usr/local/lib/python3.9/dist-packages (from tensorflow<2.12.0,>=2.9.0->tensorflow-addons[tensorflow]) (1.4.0)\n",
            "Requirement already satisfied: numpy>=1.20 in /usr/local/lib/python3.9/dist-packages (from tensorflow<2.12.0,>=2.9.0->tensorflow-addons[tensorflow]) (1.22.4)\n",
            "Requirement already satisfied: importlib-metadata>=3.6 in /usr/local/lib/python3.9/dist-packages (from typeguard>=2.7->tensorflow-addons[tensorflow]) (6.1.0)\n",
            "Requirement already satisfied: wheel<1.0,>=0.23.0 in /usr/local/lib/python3.9/dist-packages (from astunparse>=1.6.0->tensorflow<2.12.0,>=2.9.0->tensorflow-addons[tensorflow]) (0.40.0)\n",
            "Requirement already satisfied: zipp>=0.5 in /usr/local/lib/python3.9/dist-packages (from importlib-metadata>=3.6->typeguard>=2.7->tensorflow-addons[tensorflow]) (3.15.0)\n",
            "Requirement already satisfied: markdown>=2.6.8 in /usr/local/lib/python3.9/dist-packages (from tensorboard<2.12,>=2.11->tensorflow<2.12.0,>=2.9.0->tensorflow-addons[tensorflow]) (3.4.3)\n",
            "Requirement already satisfied: requests<3,>=2.21.0 in /usr/local/lib/python3.9/dist-packages (from tensorboard<2.12,>=2.11->tensorflow<2.12.0,>=2.9.0->tensorflow-addons[tensorflow]) (2.27.1)\n",
            "Collecting tensorboard-data-server<0.7.0,>=0.6.0\n",
            "  Downloading tensorboard_data_server-0.6.1-py3-none-manylinux2010_x86_64.whl (4.9 MB)\n",
            "\u001b[2K     \u001b[90m━━━━━━━━━━━━━━━━━━━━━━━━━━━━━━━━━━━━━━━━\u001b[0m \u001b[32m4.9/4.9 MB\u001b[0m \u001b[31m91.0 MB/s\u001b[0m eta \u001b[36m0:00:00\u001b[0m\n",
            "\u001b[?25hCollecting google-auth-oauthlib<0.5,>=0.4.1\n",
            "  Downloading google_auth_oauthlib-0.4.6-py2.py3-none-any.whl (18 kB)\n",
            "Requirement already satisfied: google-auth<3,>=1.6.3 in /usr/local/lib/python3.9/dist-packages (from tensorboard<2.12,>=2.11->tensorflow<2.12.0,>=2.9.0->tensorflow-addons[tensorflow]) (2.17.1)\n",
            "Requirement already satisfied: werkzeug>=1.0.1 in /usr/local/lib/python3.9/dist-packages (from tensorboard<2.12,>=2.11->tensorflow<2.12.0,>=2.9.0->tensorflow-addons[tensorflow]) (2.2.3)\n",
            "Requirement already satisfied: tensorboard-plugin-wit>=1.6.0 in /usr/local/lib/python3.9/dist-packages (from tensorboard<2.12,>=2.11->tensorflow<2.12.0,>=2.9.0->tensorflow-addons[tensorflow]) (1.8.1)\n",
            "Requirement already satisfied: pyasn1-modules>=0.2.1 in /usr/local/lib/python3.9/dist-packages (from google-auth<3,>=1.6.3->tensorboard<2.12,>=2.11->tensorflow<2.12.0,>=2.9.0->tensorflow-addons[tensorflow]) (0.2.8)\n",
            "Requirement already satisfied: cachetools<6.0,>=2.0.0 in /usr/local/lib/python3.9/dist-packages (from google-auth<3,>=1.6.3->tensorboard<2.12,>=2.11->tensorflow<2.12.0,>=2.9.0->tensorflow-addons[tensorflow]) (5.3.0)\n",
            "Requirement already satisfied: rsa<5,>=3.1.4 in /usr/local/lib/python3.9/dist-packages (from google-auth<3,>=1.6.3->tensorboard<2.12,>=2.11->tensorflow<2.12.0,>=2.9.0->tensorflow-addons[tensorflow]) (4.9)\n",
            "Requirement already satisfied: requests-oauthlib>=0.7.0 in /usr/local/lib/python3.9/dist-packages (from google-auth-oauthlib<0.5,>=0.4.1->tensorboard<2.12,>=2.11->tensorflow<2.12.0,>=2.9.0->tensorflow-addons[tensorflow]) (1.3.1)\n",
            "Requirement already satisfied: charset-normalizer~=2.0.0 in /usr/local/lib/python3.9/dist-packages (from requests<3,>=2.21.0->tensorboard<2.12,>=2.11->tensorflow<2.12.0,>=2.9.0->tensorflow-addons[tensorflow]) (2.0.12)\n",
            "Requirement already satisfied: urllib3<1.27,>=1.21.1 in /usr/local/lib/python3.9/dist-packages (from requests<3,>=2.21.0->tensorboard<2.12,>=2.11->tensorflow<2.12.0,>=2.9.0->tensorflow-addons[tensorflow]) (1.26.15)\n",
            "Requirement already satisfied: idna<4,>=2.5 in /usr/local/lib/python3.9/dist-packages (from requests<3,>=2.21.0->tensorboard<2.12,>=2.11->tensorflow<2.12.0,>=2.9.0->tensorflow-addons[tensorflow]) (3.4)\n",
            "Requirement already satisfied: certifi>=2017.4.17 in /usr/local/lib/python3.9/dist-packages (from requests<3,>=2.21.0->tensorboard<2.12,>=2.11->tensorflow<2.12.0,>=2.9.0->tensorflow-addons[tensorflow]) (2022.12.7)\n",
            "Requirement already satisfied: MarkupSafe>=2.1.1 in /usr/local/lib/python3.9/dist-packages (from werkzeug>=1.0.1->tensorboard<2.12,>=2.11->tensorflow<2.12.0,>=2.9.0->tensorflow-addons[tensorflow]) (2.1.2)\n",
            "Requirement already satisfied: pyasn1<0.5.0,>=0.4.6 in /usr/local/lib/python3.9/dist-packages (from pyasn1-modules>=0.2.1->google-auth<3,>=1.6.3->tensorboard<2.12,>=2.11->tensorflow<2.12.0,>=2.9.0->tensorflow-addons[tensorflow]) (0.4.8)\n",
            "Requirement already satisfied: oauthlib>=3.0.0 in /usr/local/lib/python3.9/dist-packages (from requests-oauthlib>=0.7.0->google-auth-oauthlib<0.5,>=0.4.1->tensorboard<2.12,>=2.11->tensorflow<2.12.0,>=2.9.0->tensorflow-addons[tensorflow]) (3.2.2)\n",
            "Installing collected packages: tensorflow-estimator, tensorboard-data-server, protobuf, keras, typeguard, tensorflow-addons, google-auth-oauthlib, tensorboard, tensorflow\n",
            "  Attempting uninstall: tensorflow-estimator\n",
            "    Found existing installation: tensorflow-estimator 2.12.0\n",
            "    Uninstalling tensorflow-estimator-2.12.0:\n",
            "      Successfully uninstalled tensorflow-estimator-2.12.0\n",
            "  Attempting uninstall: tensorboard-data-server\n",
            "    Found existing installation: tensorboard-data-server 0.7.0\n",
            "    Uninstalling tensorboard-data-server-0.7.0:\n",
            "      Successfully uninstalled tensorboard-data-server-0.7.0\n",
            "  Attempting uninstall: protobuf\n",
            "    Found existing installation: protobuf 3.20.3\n",
            "    Uninstalling protobuf-3.20.3:\n",
            "      Successfully uninstalled protobuf-3.20.3\n",
            "  Attempting uninstall: keras\n",
            "    Found existing installation: keras 2.12.0\n",
            "    Uninstalling keras-2.12.0:\n",
            "      Successfully uninstalled keras-2.12.0\n",
            "  Attempting uninstall: google-auth-oauthlib\n",
            "    Found existing installation: google-auth-oauthlib 1.0.0\n",
            "    Uninstalling google-auth-oauthlib-1.0.0:\n",
            "      Successfully uninstalled google-auth-oauthlib-1.0.0\n",
            "  Attempting uninstall: tensorboard\n",
            "    Found existing installation: tensorboard 2.12.1\n",
            "    Uninstalling tensorboard-2.12.1:\n",
            "      Successfully uninstalled tensorboard-2.12.1\n",
            "  Attempting uninstall: tensorflow\n",
            "    Found existing installation: tensorflow 2.12.0\n",
            "    Uninstalling tensorflow-2.12.0:\n",
            "      Successfully uninstalled tensorflow-2.12.0\n",
            "Successfully installed google-auth-oauthlib-0.4.6 keras-2.11.0 protobuf-3.19.6 tensorboard-2.11.2 tensorboard-data-server-0.6.1 tensorflow-2.11.1 tensorflow-addons-0.19.0 tensorflow-estimator-2.11.0 typeguard-3.0.2\n"
          ]
        },
        {
          "output_type": "display_data",
          "data": {
            "application/vnd.colab-display-data+json": {
              "pip_warning": {
                "packages": [
                  "google"
                ]
              }
            }
          },
          "metadata": {}
        }
      ]
    },
    {
      "cell_type": "code",
      "source": [
        "import tensorflow as tf\n",
        "import tensorflow_addons as tfa\n",
        "import numpy as np\n",
        "from tensorflow import keras\n",
        "from tensorflow.keras import layers\n",
        "import scipy.io as sio\n",
        "import pandas as pd\n",
        "import matplotlib.pyplot as plt\n",
        "from tensorflow.keras.models import Model"
      ],
      "metadata": {
        "id": "HgnyJkU2MXma"
      },
      "execution_count": 2,
      "outputs": []
    },
    {
      "cell_type": "code",
      "source": [
        "GER_test = (np.array(sio.loadmat('/content/drive/MyDrive/training data/GER_test.mat')['GER_test'])).transpose()\n",
        "GER_train = (np.array(sio.loadmat('/content/drive/MyDrive/training data/GER_train.mat')['GER_train'])).transpose()\n",
        "test_frame = pd.DataFrame(GER_test).sort_values(1)\n",
        "train_frame = pd.DataFrame(GER_train).sort_values(1)"
      ],
      "metadata": {
        "id": "Oq_IavtENDy-"
      },
      "execution_count": 3,
      "outputs": []
    },
    {
      "cell_type": "code",
      "source": [
        "print(f\"x_train shape: {GER_train.shape} - y_train shape: {GER_train.shape}\")\n",
        "print(f\"x_test shape: {GER_test.shape} - y_test shape: {GER_test.shape}\")"
      ],
      "metadata": {
        "colab": {
          "base_uri": "https://localhost:8080/"
        },
        "id": "IoGFaC2SNEQv",
        "outputId": "bb4bad85-1785-4a0b-c7de-3a03dbf1aea1"
      },
      "execution_count": 4,
      "outputs": [
        {
          "output_type": "stream",
          "name": "stdout",
          "text": [
            "x_train shape: (6981, 21) - y_train shape: (6981, 21)\n",
            "x_test shape: (6248, 21) - y_test shape: (6248, 21)\n"
          ]
        }
      ]
    },
    {
      "cell_type": "code",
      "source": [
        "def get_data_labels(split):\n",
        "    x = pd.DataFrame(split)\n",
        "    labels = x[0].values.astype(np.uint8)\n",
        "    del x[0],x[1]\n",
        "    data = x.values \n",
        "    return data, labels\n",
        "\n",
        "x_train, y_train = get_data_labels(train_frame.values.tolist())\n",
        "x_test, y_test = get_data_labels(test_frame.values.tolist())"
      ],
      "metadata": {
        "id": "U5ni887cNFok"
      },
      "execution_count": 5,
      "outputs": []
    },
    {
      "cell_type": "code",
      "source": [
        "input_shape=(19,)\n",
        "num_classes = 2"
      ],
      "metadata": {
        "id": "nyakV6XcNKLU"
      },
      "execution_count": 6,
      "outputs": []
    },
    {
      "cell_type": "code",
      "source": [
        "from keras.models import Sequential\n",
        "from keras.layers import Activation\n",
        "from keras.layers import Input\n",
        "from tensorflow import keras\n",
        "from tensorflow.keras.models import Sequential\n",
        "from tensorflow.keras.layers import Conv1D, MaxPooling1D, Flatten, Dense\n",
        "\n",
        "learning_rate = 0.001\n",
        "batch_size = 265\n",
        "hidden_units = 32\n",
        "projection_units = 128\n",
        "num_epochs = 100\n",
        "dropout_rate = 0.5\n",
        "temperature = 0.05"
      ],
      "metadata": {
        "id": "05aTX-HrNMzD"
      },
      "execution_count": 8,
      "outputs": []
    },
    {
      "cell_type": "code",
      "source": [
        "def create_classifier():\n",
        "  model = Sequential()\n",
        "  model.add(Conv1D(filters=128, kernel_size=3, activation='relu', input_shape=(19,1)))\n",
        "  model.add(MaxPooling1D(pool_size=2))\n",
        "  model.add(Conv1D(filters=64, kernel_size=3, activation='relu'))\n",
        "  model.add(MaxPooling1D(pool_size=2))\n",
        "  model.add(Flatten())\n",
        "  model.add(Dense(32, activation='relu'))\n",
        "  model.add(Dense(1, activation='sigmoid'))\n",
        "  model.compile(\n",
        "        optimizer=keras.optimizers.Adam(learning_rate),\n",
        "        loss=keras.losses.BinaryCrossentropy(from_logits=True),\n",
        "        metrics=[keras.metrics.BinaryAccuracy()],\n",
        "    )\n",
        "  return model"
      ],
      "metadata": {
        "id": "ToShLv4ONjYZ"
      },
      "execution_count": 9,
      "outputs": []
    },
    {
      "cell_type": "code",
      "source": [
        "def create_classifier():\n",
        "  model = Sequential()\n",
        "  model.add(Conv1D(filters=128, kernel_size=4, activation='relu', input_shape=(19,1)))\n",
        "  model.add(MaxPooling1D(pool_size=1))\n",
        "  model.add(Conv1D(filters=64, kernel_size=3, activation='relu'))\n",
        "  model.add(MaxPooling1D(pool_size=1))\n",
        "  model.add(Conv1D(filters=32, kernel_size=2, activation='relu'))\n",
        "  model.add(MaxPooling1D(pool_size=1))\n",
        "\n",
        "  # model.add(Conv1D(filters=64, kernel_size=2, activation='relu'))\n",
        "  # model.add(MaxPooling1D(pool_size=2))\n",
        "  # model.add(Conv1D(filters=64, kernel_size=2, activation='relu'))\n",
        "  # model.add(MaxPooling1D(pool_size=2))\n",
        "\n",
        "  # model.add(Conv1D(filters=128, kernel_size=2, activation='relu'))\n",
        "  # model.add(MaxPooling1D(pool_size=2))\n",
        "  # model.add(Conv1D(filters=128, kernel_size=2, activation='relu'))\n",
        "  # model.add(MaxPooling1D(pool_size=2))\n",
        "  # model.add(tf.keras.layers.Dropout(0.5))\n",
        "  \n",
        "  # model.add(Conv1D(filters=256, kernel_size=5, activation='relu'))\n",
        "  # model.add(MaxPooling1D(pool_size=2))\n",
        "  # model.add(Conv1D(filters=256, kernel_size=5, activation='relu'))\n",
        "  # model.add(MaxPooling1D(pool_size=2))\n",
        "  # model.add(tf.keras.layers.Dropout(0.5))\n",
        "\n",
        "  # model.add(Conv1D(filters=256, kernel_size=5, activation='relu'))\n",
        "  # model.add(MaxPooling1D(pool_size=2))\n",
        "  # model.add(tf.keras.layers.Dropout(0.5))\n",
        "  # model.add(Conv1D(filters=256, kernel_size=5, activation='relu'))\n",
        "  # model.add(MaxPooling1D(pool_size=2))\n",
        "  model.add(Flatten())\n",
        "\n",
        "  model.add(Dense(128, activation='relu'))\n",
        "  model.add(tf.keras.layers.Dropout(0.5))\n",
        "  model.add(Dense(32, activation='relu'))\n",
        "  model.add(Dense(1, activation='sigmoid'))\n",
        "  # model.compile(\n",
        "  #       optimizer=keras.optimizers.Adam(learning_rate),\n",
        "  #       loss=keras.losses.BinaryCrossentropy(from_logits=True),\n",
        "  #       metrics=[keras.metrics.BinaryAccuracy()],\n",
        "  #   )\n",
        "  model.compile(loss='binary_crossentropy', optimizer='adam', metrics=['accuracy'])\n",
        "  return model"
      ],
      "metadata": {
        "id": "n-LhTivYOWs4"
      },
      "execution_count": 67,
      "outputs": []
    },
    {
      "cell_type": "code",
      "source": [
        "# encoder = create_encoder()\n",
        "classifier = create_classifier()\n",
        "classifier.summary()\n",
        "\n",
        "history = classifier.fit(x=x_train, y=y_train, batch_size=batch_size, epochs=num_epochs)\n",
        "\n",
        "accuracy = classifier.evaluate(x_test, y_test)[1]\n",
        "print(f\"Test accuracy: {round(accuracy * 100, 2)}%\")\n"
      ],
      "metadata": {
        "colab": {
          "base_uri": "https://localhost:8080/"
        },
        "id": "UOTraAXmNsFa",
        "outputId": "37af254c-1366-49c7-b891-eec17e762676"
      },
      "execution_count": 68,
      "outputs": [
        {
          "output_type": "stream",
          "name": "stdout",
          "text": [
            "Model: \"sequential_25\"\n",
            "_________________________________________________________________\n",
            " Layer (type)                Output Shape              Param #   \n",
            "=================================================================\n",
            " conv1d_62 (Conv1D)          (None, 16, 128)           640       \n",
            "                                                                 \n",
            " max_pooling1d_56 (MaxPoolin  (None, 16, 128)          0         \n",
            " g1D)                                                            \n",
            "                                                                 \n",
            " conv1d_63 (Conv1D)          (None, 14, 64)            24640     \n",
            "                                                                 \n",
            " max_pooling1d_57 (MaxPoolin  (None, 14, 64)           0         \n",
            " g1D)                                                            \n",
            "                                                                 \n",
            " conv1d_64 (Conv1D)          (None, 13, 32)            4128      \n",
            "                                                                 \n",
            " max_pooling1d_58 (MaxPoolin  (None, 13, 32)           0         \n",
            " g1D)                                                            \n",
            "                                                                 \n",
            " flatten_11 (Flatten)        (None, 416)               0         \n",
            "                                                                 \n",
            " dense_44 (Dense)            (None, 128)               53376     \n",
            "                                                                 \n",
            " dropout_9 (Dropout)         (None, 128)               0         \n",
            "                                                                 \n",
            " dense_45 (Dense)            (None, 32)                4128      \n",
            "                                                                 \n",
            " dense_46 (Dense)            (None, 1)                 33        \n",
            "                                                                 \n",
            "=================================================================\n",
            "Total params: 86,945\n",
            "Trainable params: 86,945\n",
            "Non-trainable params: 0\n",
            "_________________________________________________________________\n",
            "Epoch 1/100\n",
            "27/27 [==============================] - 3s 39ms/step - loss: 0.6332 - accuracy: 0.6512\n",
            "Epoch 2/100\n",
            "27/27 [==============================] - 1s 39ms/step - loss: 0.5601 - accuracy: 0.7248\n",
            "Epoch 3/100\n",
            "27/27 [==============================] - 1s 51ms/step - loss: 0.5067 - accuracy: 0.7632\n",
            "Epoch 4/100\n",
            "27/27 [==============================] - 2s 67ms/step - loss: 0.4849 - accuracy: 0.7712\n",
            "Epoch 5/100\n",
            "27/27 [==============================] - 2s 63ms/step - loss: 0.4803 - accuracy: 0.7745\n",
            "Epoch 6/100\n",
            "27/27 [==============================] - 2s 64ms/step - loss: 0.4715 - accuracy: 0.7824\n",
            "Epoch 7/100\n",
            "27/27 [==============================] - 2s 64ms/step - loss: 0.4741 - accuracy: 0.7803\n",
            "Epoch 8/100\n",
            "27/27 [==============================] - 1s 35ms/step - loss: 0.4700 - accuracy: 0.7781\n",
            "Epoch 9/100\n",
            "27/27 [==============================] - 1s 34ms/step - loss: 0.4524 - accuracy: 0.7901\n",
            "Epoch 10/100\n",
            "27/27 [==============================] - 1s 38ms/step - loss: 0.4457 - accuracy: 0.7949\n",
            "Epoch 11/100\n",
            "27/27 [==============================] - 1s 40ms/step - loss: 0.4361 - accuracy: 0.8010\n",
            "Epoch 12/100\n",
            "27/27 [==============================] - 1s 36ms/step - loss: 0.4479 - accuracy: 0.7894\n",
            "Epoch 13/100\n",
            "27/27 [==============================] - 1s 39ms/step - loss: 0.4391 - accuracy: 0.8007\n",
            "Epoch 14/100\n",
            "27/27 [==============================] - 1s 38ms/step - loss: 0.4293 - accuracy: 0.8072\n",
            "Epoch 15/100\n",
            "27/27 [==============================] - 1s 39ms/step - loss: 0.4249 - accuracy: 0.8039\n",
            "Epoch 16/100\n",
            "27/27 [==============================] - 1s 38ms/step - loss: 0.4251 - accuracy: 0.8089\n",
            "Epoch 17/100\n",
            "27/27 [==============================] - 1s 46ms/step - loss: 0.4189 - accuracy: 0.8102\n",
            "Epoch 18/100\n",
            "27/27 [==============================] - 2s 68ms/step - loss: 0.4230 - accuracy: 0.8053\n",
            "Epoch 19/100\n",
            "27/27 [==============================] - 2s 64ms/step - loss: 0.4198 - accuracy: 0.8131\n",
            "Epoch 20/100\n",
            "27/27 [==============================] - 2s 67ms/step - loss: 0.4115 - accuracy: 0.8085\n",
            "Epoch 21/100\n",
            "27/27 [==============================] - 2s 63ms/step - loss: 0.4138 - accuracy: 0.8126\n",
            "Epoch 22/100\n",
            "27/27 [==============================] - 1s 36ms/step - loss: 0.4131 - accuracy: 0.8105\n",
            "Epoch 23/100\n",
            "27/27 [==============================] - 1s 35ms/step - loss: 0.4092 - accuracy: 0.8136\n",
            "Epoch 24/100\n",
            "27/27 [==============================] - 1s 39ms/step - loss: 0.4141 - accuracy: 0.8142\n",
            "Epoch 25/100\n",
            "27/27 [==============================] - 1s 38ms/step - loss: 0.4151 - accuracy: 0.8121\n",
            "Epoch 26/100\n",
            "27/27 [==============================] - 1s 39ms/step - loss: 0.4042 - accuracy: 0.8192\n",
            "Epoch 27/100\n",
            "27/27 [==============================] - 1s 38ms/step - loss: 0.4059 - accuracy: 0.8169\n",
            "Epoch 28/100\n",
            "27/27 [==============================] - 1s 37ms/step - loss: 0.4049 - accuracy: 0.8191\n",
            "Epoch 29/100\n",
            "27/27 [==============================] - 1s 37ms/step - loss: 0.4064 - accuracy: 0.8155\n",
            "Epoch 30/100\n",
            "27/27 [==============================] - 1s 38ms/step - loss: 0.3944 - accuracy: 0.8234\n",
            "Epoch 31/100\n",
            "27/27 [==============================] - 1s 36ms/step - loss: 0.3953 - accuracy: 0.8218\n",
            "Epoch 32/100\n",
            "27/27 [==============================] - 2s 67ms/step - loss: 0.3942 - accuracy: 0.8221\n",
            "Epoch 33/100\n",
            "27/27 [==============================] - 2s 64ms/step - loss: 0.3953 - accuracy: 0.8221\n",
            "Epoch 34/100\n",
            "27/27 [==============================] - 2s 66ms/step - loss: 0.3946 - accuracy: 0.8232\n",
            "Epoch 35/100\n",
            "27/27 [==============================] - 2s 68ms/step - loss: 0.3931 - accuracy: 0.8202\n",
            "Epoch 36/100\n",
            "27/27 [==============================] - 1s 47ms/step - loss: 0.3931 - accuracy: 0.8295\n",
            "Epoch 37/100\n",
            "27/27 [==============================] - 1s 35ms/step - loss: 0.3930 - accuracy: 0.8257\n",
            "Epoch 38/100\n",
            "27/27 [==============================] - 1s 35ms/step - loss: 0.3874 - accuracy: 0.8288\n",
            "Epoch 39/100\n",
            "27/27 [==============================] - 1s 36ms/step - loss: 0.3867 - accuracy: 0.8290\n",
            "Epoch 40/100\n",
            "27/27 [==============================] - 1s 38ms/step - loss: 0.3883 - accuracy: 0.8219\n",
            "Epoch 41/100\n",
            "27/27 [==============================] - 1s 39ms/step - loss: 0.3837 - accuracy: 0.8321\n",
            "Epoch 42/100\n",
            "27/27 [==============================] - 1s 36ms/step - loss: 0.3828 - accuracy: 0.8311\n",
            "Epoch 43/100\n",
            "27/27 [==============================] - 1s 37ms/step - loss: 0.3788 - accuracy: 0.8311\n",
            "Epoch 44/100\n",
            "27/27 [==============================] - 1s 35ms/step - loss: 0.3847 - accuracy: 0.8330\n",
            "Epoch 45/100\n",
            "27/27 [==============================] - 1s 39ms/step - loss: 0.3780 - accuracy: 0.8317\n",
            "Epoch 46/100\n",
            "27/27 [==============================] - 1s 55ms/step - loss: 0.3740 - accuracy: 0.8310\n",
            "Epoch 47/100\n",
            "27/27 [==============================] - 2s 63ms/step - loss: 0.3765 - accuracy: 0.8374\n",
            "Epoch 48/100\n",
            "27/27 [==============================] - 2s 69ms/step - loss: 0.3760 - accuracy: 0.8325\n",
            "Epoch 49/100\n",
            "27/27 [==============================] - 2s 68ms/step - loss: 0.3739 - accuracy: 0.8364\n",
            "Epoch 50/100\n",
            "27/27 [==============================] - 2s 64ms/step - loss: 0.3735 - accuracy: 0.8403\n",
            "Epoch 51/100\n",
            "27/27 [==============================] - 1s 35ms/step - loss: 0.3737 - accuracy: 0.8386\n",
            "Epoch 52/100\n",
            "27/27 [==============================] - 1s 36ms/step - loss: 0.3745 - accuracy: 0.8338\n",
            "Epoch 53/100\n",
            "27/27 [==============================] - 1s 41ms/step - loss: 0.3725 - accuracy: 0.8381\n",
            "Epoch 54/100\n",
            "27/27 [==============================] - 1s 37ms/step - loss: 0.3645 - accuracy: 0.8414\n",
            "Epoch 55/100\n",
            "27/27 [==============================] - 1s 35ms/step - loss: 0.3679 - accuracy: 0.8376\n",
            "Epoch 56/100\n",
            "27/27 [==============================] - 1s 37ms/step - loss: 0.3656 - accuracy: 0.8427\n",
            "Epoch 57/100\n",
            "27/27 [==============================] - 1s 37ms/step - loss: 0.3744 - accuracy: 0.8374\n",
            "Epoch 58/100\n",
            "27/27 [==============================] - 1s 35ms/step - loss: 0.3660 - accuracy: 0.8377\n",
            "Epoch 59/100\n",
            "27/27 [==============================] - 1s 36ms/step - loss: 0.3721 - accuracy: 0.8386\n",
            "Epoch 60/100\n",
            "27/27 [==============================] - 1s 39ms/step - loss: 0.3611 - accuracy: 0.8440\n",
            "Epoch 61/100\n",
            "27/27 [==============================] - 2s 66ms/step - loss: 0.3528 - accuracy: 0.8456\n",
            "Epoch 62/100\n",
            "27/27 [==============================] - 2s 63ms/step - loss: 0.3581 - accuracy: 0.8440\n",
            "Epoch 63/100\n",
            "27/27 [==============================] - 2s 69ms/step - loss: 0.3575 - accuracy: 0.8450\n",
            "Epoch 64/100\n",
            "27/27 [==============================] - 2s 67ms/step - loss: 0.3568 - accuracy: 0.8450\n",
            "Epoch 65/100\n",
            "27/27 [==============================] - 1s 42ms/step - loss: 0.3584 - accuracy: 0.8477\n",
            "Epoch 66/100\n",
            "27/27 [==============================] - 1s 36ms/step - loss: 0.3499 - accuracy: 0.8510\n",
            "Epoch 67/100\n",
            "27/27 [==============================] - 1s 35ms/step - loss: 0.3518 - accuracy: 0.8464\n",
            "Epoch 68/100\n",
            "27/27 [==============================] - 1s 37ms/step - loss: 0.3512 - accuracy: 0.8483\n",
            "Epoch 69/100\n",
            "27/27 [==============================] - 1s 38ms/step - loss: 0.3528 - accuracy: 0.8497\n",
            "Epoch 70/100\n",
            "27/27 [==============================] - 1s 37ms/step - loss: 0.3532 - accuracy: 0.8500\n",
            "Epoch 71/100\n",
            "27/27 [==============================] - 1s 38ms/step - loss: 0.3515 - accuracy: 0.8480\n",
            "Epoch 72/100\n",
            "27/27 [==============================] - 1s 38ms/step - loss: 0.3481 - accuracy: 0.8463\n",
            "Epoch 73/100\n",
            "27/27 [==============================] - 1s 38ms/step - loss: 0.3461 - accuracy: 0.8516\n",
            "Epoch 74/100\n",
            "27/27 [==============================] - 1s 38ms/step - loss: 0.3466 - accuracy: 0.8536\n",
            "Epoch 75/100\n",
            "27/27 [==============================] - 2s 65ms/step - loss: 0.3479 - accuracy: 0.8489\n",
            "Epoch 76/100\n",
            "27/27 [==============================] - 2s 63ms/step - loss: 0.3455 - accuracy: 0.8482\n",
            "Epoch 77/100\n",
            "27/27 [==============================] - 2s 66ms/step - loss: 0.3429 - accuracy: 0.8520\n",
            "Epoch 78/100\n",
            "27/27 [==============================] - 2s 62ms/step - loss: 0.3475 - accuracy: 0.8493\n",
            "Epoch 79/100\n",
            "27/27 [==============================] - 1s 55ms/step - loss: 0.3444 - accuracy: 0.8526\n",
            "Epoch 80/100\n",
            "27/27 [==============================] - 1s 36ms/step - loss: 0.3450 - accuracy: 0.8529\n",
            "Epoch 81/100\n",
            "27/27 [==============================] - 1s 35ms/step - loss: 0.3361 - accuracy: 0.8553\n",
            "Epoch 82/100\n",
            "27/27 [==============================] - 1s 36ms/step - loss: 0.3346 - accuracy: 0.8579\n",
            "Epoch 83/100\n",
            "27/27 [==============================] - 1s 37ms/step - loss: 0.3439 - accuracy: 0.8543\n",
            "Epoch 84/100\n",
            "27/27 [==============================] - 1s 36ms/step - loss: 0.3374 - accuracy: 0.8566\n",
            "Epoch 85/100\n",
            "27/27 [==============================] - 1s 38ms/step - loss: 0.3374 - accuracy: 0.8559\n",
            "Epoch 86/100\n",
            "27/27 [==============================] - 1s 38ms/step - loss: 0.3337 - accuracy: 0.8562\n",
            "Epoch 87/100\n",
            "27/27 [==============================] - 1s 38ms/step - loss: 0.3277 - accuracy: 0.8598\n",
            "Epoch 88/100\n",
            "27/27 [==============================] - 1s 36ms/step - loss: 0.3402 - accuracy: 0.8530\n",
            "Epoch 89/100\n",
            "27/27 [==============================] - 1s 45ms/step - loss: 0.3397 - accuracy: 0.8558\n",
            "Epoch 90/100\n",
            "27/27 [==============================] - 2s 65ms/step - loss: 0.3347 - accuracy: 0.8539\n",
            "Epoch 91/100\n",
            "27/27 [==============================] - 2s 67ms/step - loss: 0.3378 - accuracy: 0.8547\n",
            "Epoch 92/100\n",
            "27/27 [==============================] - 2s 64ms/step - loss: 0.3259 - accuracy: 0.8606\n",
            "Epoch 93/100\n",
            "27/27 [==============================] - 2s 66ms/step - loss: 0.3227 - accuracy: 0.8609\n",
            "Epoch 94/100\n",
            "27/27 [==============================] - 1s 46ms/step - loss: 0.3254 - accuracy: 0.8638\n",
            "Epoch 95/100\n",
            "27/27 [==============================] - 1s 39ms/step - loss: 0.3274 - accuracy: 0.8566\n",
            "Epoch 96/100\n",
            "27/27 [==============================] - 1s 35ms/step - loss: 0.3254 - accuracy: 0.8588\n",
            "Epoch 97/100\n",
            "27/27 [==============================] - 1s 35ms/step - loss: 0.3204 - accuracy: 0.8695\n",
            "Epoch 98/100\n",
            "27/27 [==============================] - 1s 34ms/step - loss: 0.3194 - accuracy: 0.8642\n",
            "Epoch 99/100\n",
            "27/27 [==============================] - 1s 37ms/step - loss: 0.3213 - accuracy: 0.8641\n",
            "Epoch 100/100\n",
            "27/27 [==============================] - 1s 36ms/step - loss: 0.3214 - accuracy: 0.8638\n",
            "196/196 [==============================] - 1s 3ms/step - loss: 0.3758 - accuracy: 0.8407\n",
            "Test accuracy: 84.07%\n"
          ]
        }
      ]
    },
    {
      "cell_type": "code",
      "source": [
        "accuracy = classifier.evaluate(x_train, y_train)[1]\n",
        "print(f\"Test accuracy: {round(accuracy * 100, 2)}%\")"
      ],
      "metadata": {
        "colab": {
          "base_uri": "https://localhost:8080/"
        },
        "id": "W3OJ5it7Nsg7",
        "outputId": "17a8afbe-24f3-4f43-c665-078d90bdb25c"
      },
      "execution_count": 69,
      "outputs": [
        {
          "output_type": "stream",
          "name": "stdout",
          "text": [
            "219/219 [==============================] - 1s 5ms/step - loss: 0.2936 - accuracy: 0.8747\n",
            "Test accuracy: 87.47%\n"
          ]
        }
      ]
    },
    {
      "cell_type": "code",
      "source": [],
      "metadata": {
        "id": "cBtnbqoHSLqV"
      },
      "execution_count": null,
      "outputs": []
    }
  ]
}