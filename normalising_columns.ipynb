{
  "nbformat": 4,
  "nbformat_minor": 0,
  "metadata": {
    "colab": {
      "provenance": [],
      "toc_visible": true,
      "authorship_tag": "ABX9TyPq5/PM0CaF/LFrIIFNVC7J",
      "include_colab_link": true
    },
    "kernelspec": {
      "name": "python3",
      "display_name": "Python 3"
    },
    "language_info": {
      "name": "python"
    }
  },
  "cells": [
    {
      "cell_type": "markdown",
      "metadata": {
        "id": "view-in-github",
        "colab_type": "text"
      },
      "source": [
        "<a href=\"https://colab.research.google.com/github/midnightripper/testing/blob/main/normalising_columns.ipynb\" target=\"_parent\"><img src=\"https://colab.research.google.com/assets/colab-badge.svg\" alt=\"Open In Colab\"/></a>"
      ]
    },
    {
      "cell_type": "code",
      "execution_count": 1,
      "metadata": {
        "colab": {
          "base_uri": "https://localhost:8080/"
        },
        "id": "5n4W5sADBnfx",
        "outputId": "2e020dba-cfd0-41d8-ed4b-dd6910461c34"
      },
      "outputs": [
        {
          "output_type": "stream",
          "name": "stdout",
          "text": [
            "Mounted at /content/drive\n"
          ]
        }
      ],
      "source": [
        "from google.colab import drive\n",
        "drive.mount('/content/drive')"
      ]
    },
    {
      "cell_type": "markdown",
      "metadata": {
        "id": "lTuKWTvUCDYg"
      },
      "source": [
        "###Prerequisite"
      ]
    },
    {
      "cell_type": "code",
      "execution_count": 2,
      "metadata": {
        "colab": {
          "base_uri": "https://localhost:8080/"
        },
        "id": "pd7zXfrBBvqM",
        "outputId": "5dad9cc3-95b9-41d8-e639-f493b7199845"
      },
      "outputs": [
        {
          "output_type": "stream",
          "name": "stdout",
          "text": [
            "Looking in indexes: https://pypi.org/simple, https://us-python.pkg.dev/colab-wheels/public/simple/\n",
            "Collecting tensorflow-addons\n",
            "  Downloading tensorflow_addons-0.20.0-cp39-cp39-manylinux_2_17_x86_64.manylinux2014_x86_64.whl (591 kB)\n",
            "\u001b[2K     \u001b[90m━━━━━━━━━━━━━━━━━━━━━━━━━━━━━━━━━━━━━━\u001b[0m \u001b[32m591.0/591.0 kB\u001b[0m \u001b[31m10.2 MB/s\u001b[0m eta \u001b[36m0:00:00\u001b[0m\n",
            "\u001b[?25hCollecting typeguard<3.0.0,>=2.7\n",
            "  Downloading typeguard-2.13.3-py3-none-any.whl (17 kB)\n",
            "Requirement already satisfied: packaging in /usr/local/lib/python3.9/dist-packages (from tensorflow-addons) (23.0)\n",
            "Installing collected packages: typeguard, tensorflow-addons\n",
            "Successfully installed tensorflow-addons-0.20.0 typeguard-2.13.3\n"
          ]
        }
      ],
      "source": [
        "pip install tensorflow-addons"
      ]
    },
    {
      "cell_type": "code",
      "execution_count": 3,
      "metadata": {
        "colab": {
          "base_uri": "https://localhost:8080/"
        },
        "id": "O7F71cx6BwQW",
        "outputId": "405bbb5e-d28c-463d-a3ed-f81dcef8df78"
      },
      "outputs": [
        {
          "output_type": "stream",
          "name": "stderr",
          "text": [
            "/usr/local/lib/python3.9/dist-packages/tensorflow_addons/utils/tfa_eol_msg.py:23: UserWarning: \n",
            "\n",
            "TensorFlow Addons (TFA) has ended development and introduction of new features.\n",
            "TFA has entered a minimal maintenance and release mode until a planned end of life in May 2024.\n",
            "Please modify downstream libraries to take dependencies from other repositories in our TensorFlow community (e.g. Keras, Keras-CV, and Keras-NLP). \n",
            "\n",
            "For more information see: https://github.com/tensorflow/addons/issues/2807 \n",
            "\n",
            "  warnings.warn(\n"
          ]
        }
      ],
      "source": [
        "import tensorflow as tf\n",
        "import tensorflow_addons as tfa\n",
        "import numpy as np\n",
        "from tensorflow import keras\n",
        "from tensorflow.keras import layers\n",
        "import scipy.io as sio\n",
        "import pandas as pd\n",
        "import matplotlib.pyplot as plt\n",
        "from tensorflow.keras.models import Model"
      ]
    },
    {
      "cell_type": "markdown",
      "metadata": {
        "id": "uzQisdLRCdAm"
      },
      "source": [
        "Load the train and test data splits"
      ]
    },
    {
      "cell_type": "code",
      "execution_count": 4,
      "metadata": {
        "id": "c4yofhKpCPsk"
      },
      "outputs": [],
      "source": [
        "GER_test = (np.array(sio.loadmat('/content/drive/MyDrive/training data/GER_test.mat')['GER_test'])).transpose()\n",
        "GER_train = (np.array(sio.loadmat('/content/drive/MyDrive/training data/GER_train.mat')['GER_train'])).transpose()\n",
        "test_frame = pd.DataFrame(GER_test).sort_values(1)\n",
        "train_frame = pd.DataFrame(GER_train).sort_values(1)"
      ]
    },
    {
      "cell_type": "code",
      "execution_count": 5,
      "metadata": {
        "colab": {
          "base_uri": "https://localhost:8080/"
        },
        "id": "4HDdLVz2ChJF",
        "outputId": "eff78b41-6112-49ba-e65b-9d5382d23b11"
      },
      "outputs": [
        {
          "output_type": "stream",
          "name": "stdout",
          "text": [
            "x_train shape: (6981, 21) - y_train shape: (6981, 21)\n",
            "x_test shape: (6248, 21) - y_test shape: (6248, 21)\n"
          ]
        }
      ],
      "source": [
        "print(f\"x_train shape: {GER_train.shape} - y_train shape: {GER_train.shape}\")\n",
        "print(f\"x_test shape: {GER_test.shape} - y_test shape: {GER_test.shape}\")"
      ]
    },
    {
      "cell_type": "code",
      "execution_count": 6,
      "metadata": {
        "id": "QKt4urE1O7ke"
      },
      "outputs": [],
      "source": [
        "def get_data_labels(split):\n",
        "    x = pd.DataFrame(split)\n",
        "    labels = x[0].values.astype(np.uint8)\n",
        "    del x[0],x[1]\n",
        "    data = x.values \n",
        "    return data, labels\n",
        "    \n",
        "x_train, y_train = get_data_labels(train_frame.values.tolist())\n",
        "x_test, y_test = get_data_labels(test_frame.values.tolist())"
      ]
    },
    {
      "cell_type": "code",
      "source": [
        "print(x_train[:5])"
      ],
      "metadata": {
        "colab": {
          "base_uri": "https://localhost:8080/"
        },
        "id": "3WtsvXC-aEQt",
        "outputId": "153ed9ed-3207-4b1c-cf47-f1fcf7338113"
      },
      "execution_count": 7,
      "outputs": [
        {
          "output_type": "stream",
          "name": "stdout",
          "text": [
            "[[ 0.04631804  0.14190991  0.08418234  0.38332878  0.13956291  4.50351958\n",
            "  -1.40879469  6.64747499  0.61780194  0.09405221  0.08239493  0.06977664\n",
            "   0.02358857  4.42688723 -0.16426972  2.08303284  0.3600657   0.32142857\n",
            "   0.5       ]\n",
            " [ 0.07397126  0.0878519   0.07133727  0.18024259  0.05484237  6.33889059\n",
            "  -0.64534435  2.39323882  0.38219806  0.04781553  0.04466026  0.07124972\n",
            "   0.02774154  3.44376844  0.47509284  2.7375382   0.19447861  0.67857143\n",
            "   0.5       ]\n",
            " [ 0.03770867  0.06151615  0.02738048  0.15990569  0.0600172   4.31250852\n",
            "  -0.65414031  3.28927074  0.18982823  0.071038    0.06528614  0.05745427\n",
            "   0.01416047  5.0294162  -0.13499718  1.93770483  0.20603255  0.15909091\n",
            "   0.16853933]\n",
            " [ 0.08821136  0.08391754  0.08108698  0.09275925  0.01755766  8.09564386\n",
            "   0.16275833  1.86848797  0.2671161   0.1004256   0.0960712   0.09572407\n",
            "   0.0213251   5.22638598  0.23974711  1.93273044  0.30263594  0.27272727\n",
            "   0.12359551]\n",
            " [ 0.06353811  0.06581957  0.06298533  0.06287192  0.01893086  7.69602379\n",
            "  -0.68248921  2.55392949  0.20705552  0.0530893   0.05166427  0.04656159\n",
            "   0.01120833  5.01053642 -0.03226839  1.96007331  0.1632161   0.18181818\n",
            "   0.13483146]]\n"
          ]
        }
      ]
    },
    {
      "cell_type": "code",
      "source": [
        "import pandas as pd\n",
        "import numpy as np\n",
        "from sklearn.preprocessing import StandardScaler"
      ],
      "metadata": {
        "id": "J6MmCNqjapSd"
      },
      "execution_count": 8,
      "outputs": []
    },
    {
      "cell_type": "code",
      "source": [
        "df = pd.DataFrame(x_train)\n",
        "print(df[:5])\n",
        "scaler = StandardScaler()\n",
        "\n",
        "x_new = pd.DataFrame(scaler.fit_transform(df), columns=df.columns)\n",
        "\n",
        "print(x_new.shape)"
      ],
      "metadata": {
        "colab": {
          "base_uri": "https://localhost:8080/"
        },
        "id": "LiyxoXMIajC_",
        "outputId": "73800481-91fb-43f6-f029-9712fb4448f8"
      },
      "execution_count": 12,
      "outputs": [
        {
          "output_type": "stream",
          "name": "stdout",
          "text": [
            "         0         1         2         3         4         5         6   \\\n",
            "0  0.046318  0.141910  0.084182  0.383329  0.139563  4.503520 -1.408795   \n",
            "1  0.073971  0.087852  0.071337  0.180243  0.054842  6.338891 -0.645344   \n",
            "2  0.037709  0.061516  0.027380  0.159906  0.060017  4.312509 -0.654140   \n",
            "3  0.088211  0.083918  0.081087  0.092759  0.017558  8.095644  0.162758   \n",
            "4  0.063538  0.065820  0.062985  0.062872  0.018931  7.696024 -0.682489   \n",
            "\n",
            "         7         8         9         10        11        12        13  \\\n",
            "0  6.647475  0.617802  0.094052  0.082395  0.069777  0.023589  4.426887   \n",
            "1  2.393239  0.382198  0.047816  0.044660  0.071250  0.027742  3.443768   \n",
            "2  3.289271  0.189828  0.071038  0.065286  0.057454  0.014160  5.029416   \n",
            "3  1.868488  0.267116  0.100426  0.096071  0.095724  0.021325  5.226386   \n",
            "4  2.553929  0.207056  0.053089  0.051664  0.046562  0.011208  5.010536   \n",
            "\n",
            "         14        15        16        17        18  \n",
            "0 -0.164270  2.083033  0.360066  0.321429  0.500000  \n",
            "1  0.475093  2.737538  0.194479  0.678571  0.500000  \n",
            "2 -0.134997  1.937705  0.206033  0.159091  0.168539  \n",
            "3  0.239747  1.932730  0.302636  0.272727  0.123596  \n",
            "4 -0.032268  1.960073  0.163216  0.181818  0.134831  \n",
            "(6981, 19)\n"
          ]
        }
      ]
    },
    {
      "cell_type": "code",
      "source": [
        "print(x_new[:5])"
      ],
      "metadata": {
        "colab": {
          "base_uri": "https://localhost:8080/"
        },
        "id": "M1I51-oGaxnW",
        "outputId": "56bc2132-a7a4-4bb8-be52-d215712d9e14"
      },
      "execution_count": 10,
      "outputs": [
        {
          "output_type": "stream",
          "name": "stdout",
          "text": [
            "         0         1         2         3         4         5         6   \\\n",
            "0 -0.812589  0.037842 -0.285669  0.770699  0.919510 -1.427336 -1.331702   \n",
            "1 -0.513890 -0.572945 -0.452827 -0.439377 -0.473538 -0.328724 -0.310410   \n",
            "2 -0.905584 -0.870506 -1.024852 -0.560553 -0.388449 -1.541671 -0.322177   \n",
            "3 -0.360074 -0.617398 -0.325950 -0.960640 -1.086606  0.722828  0.770614   \n",
            "4 -0.626585 -0.821882 -0.561513 -1.138722 -1.064026  0.483625 -0.360100   \n",
            "\n",
            "         7         8         9         10        11        12        13  \\\n",
            "0  1.999809  0.857696  0.145738  0.033979 -0.191173 -0.028837 -0.595583   \n",
            "1 -0.461612 -0.282836 -0.567765 -0.591747 -0.168915  0.151255 -2.445542   \n",
            "2  0.056815 -1.214078 -0.209407 -0.249724 -0.377370 -0.437682  0.538211   \n",
            "3 -0.765223 -0.839935  0.244089  0.260762  0.200905 -0.126991  0.908854   \n",
            "4 -0.368640 -1.130682 -0.486383 -0.475604 -0.541964 -0.565700  0.502684   \n",
            "\n",
            "         14        15        16        17        18  \n",
            "0 -0.156593 -0.186765  0.679416 -0.703976  0.323986  \n",
            "1  1.625880  1.172378 -0.396594  1.405324  0.323986  \n",
            "2 -0.074984 -0.488552 -0.321515 -1.662749 -1.484649  \n",
            "3  0.969762 -0.498882  0.306229 -0.991608 -1.729888  \n",
            "4  0.211413 -0.442102 -0.599743 -1.528521 -1.668578  \n"
          ]
        }
      ]
    },
    {
      "cell_type": "code",
      "source": [
        "df2 = pd.DataFrame(x_test)\n",
        "scaler = StandardScaler()\n",
        "x_test = pd.DataFrame(scaler.fit_transform(df2), columns=df.columns)\n",
        "print(x_test.shape)"
      ],
      "metadata": {
        "colab": {
          "base_uri": "https://localhost:8080/"
        },
        "id": "4PVlJpiAb1Xq",
        "outputId": "7c4902b6-fc96-4acb-fbe3-dfb7f6e9f2f8"
      },
      "execution_count": 14,
      "outputs": [
        {
          "output_type": "stream",
          "name": "stdout",
          "text": [
            "(6248, 19)\n"
          ]
        }
      ]
    },
    {
      "cell_type": "code",
      "source": [
        "from keras.models import Sequential\n",
        "from keras.layers import Activation\n",
        "from keras.layers import Input\n",
        "from tensorflow import keras\n",
        "from tensorflow.keras.models import Sequential\n",
        "from tensorflow.keras.layers import Conv1D, MaxPooling1D, Flatten, Dense\n",
        "from keras.layers import Reshape"
      ],
      "metadata": {
        "id": "AK5UgiRKcOMb"
      },
      "execution_count": 15,
      "outputs": []
    },
    {
      "cell_type": "code",
      "source": [
        "classifier_input = Input(shape=(19,1))\n",
        "\n",
        "x1=Conv1D(filters=64, kernel_size=2, activation='relu')(classifier_input)\n",
        "x2=MaxPooling1D(pool_size=1)(x1)\n",
        "x3=tf.keras.layers.Dropout(0.5)(x2)\n",
        "x4=Conv1D(filters=32, kernel_size=2, activation='relu')(x3)\n",
        "x5=MaxPooling1D(pool_size=1)(x4)\n",
        "x6=Flatten()(x5)\n",
        "\n",
        "x1=Dense(128,activation='relu')(x6)\n",
        "x2=Dense(64,activation='relu')(x1)\n",
        "x3=Dense(32,activation='relu')(x2)\n",
        "x4=Dense(16,activation='relu')(x3)\n",
        "x5=Dense(8,activation='relu')(x4)\n",
        "x6=Dense(4,activation='relu')(x5)\n",
        "output_layer = Dense(1, activation='sigmoid')(x6)\n",
        "\n",
        "classifier = Model(classifier_input, output_layer)\n",
        "classifier.summary()\n",
        "classifier.compile(optimizer='adam', loss='binary_crossentropy', metrics=['accuracy'])\n",
        "classifier.fit(x_new, y_train, epochs=50, batch_size=32, validation_data=(x_test, y_test))\n"
      ],
      "metadata": {
        "colab": {
          "base_uri": "https://localhost:8080/"
        },
        "id": "aMPNpz7wa0IK",
        "outputId": "c9264bce-0411-4b20-c125-8304e3253e70"
      },
      "execution_count": 16,
      "outputs": [
        {
          "output_type": "stream",
          "name": "stdout",
          "text": [
            "Model: \"model\"\n",
            "_________________________________________________________________\n",
            " Layer (type)                Output Shape              Param #   \n",
            "=================================================================\n",
            " input_1 (InputLayer)        [(None, 19, 1)]           0         \n",
            "                                                                 \n",
            " conv1d (Conv1D)             (None, 18, 64)            192       \n",
            "                                                                 \n",
            " max_pooling1d (MaxPooling1D  (None, 18, 64)           0         \n",
            " )                                                               \n",
            "                                                                 \n",
            " dropout (Dropout)           (None, 18, 64)            0         \n",
            "                                                                 \n",
            " conv1d_1 (Conv1D)           (None, 17, 32)            4128      \n",
            "                                                                 \n",
            " max_pooling1d_1 (MaxPooling  (None, 17, 32)           0         \n",
            " 1D)                                                             \n",
            "                                                                 \n",
            " flatten (Flatten)           (None, 544)               0         \n",
            "                                                                 \n",
            " dense (Dense)               (None, 128)               69760     \n",
            "                                                                 \n",
            " dense_1 (Dense)             (None, 64)                8256      \n",
            "                                                                 \n",
            " dense_2 (Dense)             (None, 32)                2080      \n",
            "                                                                 \n",
            " dense_3 (Dense)             (None, 16)                528       \n",
            "                                                                 \n",
            " dense_4 (Dense)             (None, 8)                 136       \n",
            "                                                                 \n",
            " dense_5 (Dense)             (None, 4)                 36        \n",
            "                                                                 \n",
            " dense_6 (Dense)             (None, 1)                 5         \n",
            "                                                                 \n",
            "=================================================================\n",
            "Total params: 85,121\n",
            "Trainable params: 85,121\n",
            "Non-trainable params: 0\n",
            "_________________________________________________________________\n",
            "Epoch 1/50\n",
            "219/219 [==============================] - 8s 18ms/step - loss: 0.5553 - accuracy: 0.7460 - val_loss: 0.4925 - val_accuracy: 0.7863\n",
            "Epoch 2/50\n",
            "219/219 [==============================] - 2s 11ms/step - loss: 0.4515 - accuracy: 0.7896 - val_loss: 0.4197 - val_accuracy: 0.8105\n",
            "Epoch 3/50\n",
            "219/219 [==============================] - 2s 11ms/step - loss: 0.4250 - accuracy: 0.8029 - val_loss: 0.3971 - val_accuracy: 0.8217\n",
            "Epoch 4/50\n",
            "219/219 [==============================] - 2s 11ms/step - loss: 0.4116 - accuracy: 0.8154 - val_loss: 0.3970 - val_accuracy: 0.8219\n",
            "Epoch 5/50\n",
            "219/219 [==============================] - 3s 14ms/step - loss: 0.3973 - accuracy: 0.8232 - val_loss: 0.3800 - val_accuracy: 0.8323\n",
            "Epoch 6/50\n",
            "219/219 [==============================] - 3s 16ms/step - loss: 0.3786 - accuracy: 0.8324 - val_loss: 0.3776 - val_accuracy: 0.8318\n",
            "Epoch 7/50\n",
            "219/219 [==============================] - 2s 10ms/step - loss: 0.3742 - accuracy: 0.8391 - val_loss: 0.3682 - val_accuracy: 0.8423\n",
            "Epoch 8/50\n",
            "219/219 [==============================] - 2s 10ms/step - loss: 0.3658 - accuracy: 0.8429 - val_loss: 0.3698 - val_accuracy: 0.8374\n",
            "Epoch 9/50\n",
            "219/219 [==============================] - 2s 11ms/step - loss: 0.3605 - accuracy: 0.8396 - val_loss: 0.3669 - val_accuracy: 0.8353\n",
            "Epoch 10/50\n",
            "219/219 [==============================] - 2s 11ms/step - loss: 0.3554 - accuracy: 0.8456 - val_loss: 0.3651 - val_accuracy: 0.8315\n",
            "Epoch 11/50\n",
            "219/219 [==============================] - 4s 18ms/step - loss: 0.3431 - accuracy: 0.8539 - val_loss: 0.3618 - val_accuracy: 0.8411\n",
            "Epoch 12/50\n",
            "219/219 [==============================] - 4s 17ms/step - loss: 0.3331 - accuracy: 0.8589 - val_loss: 0.3586 - val_accuracy: 0.8430\n",
            "Epoch 13/50\n",
            "219/219 [==============================] - 3s 14ms/step - loss: 0.3295 - accuracy: 0.8652 - val_loss: 0.3545 - val_accuracy: 0.8478\n",
            "Epoch 14/50\n",
            "219/219 [==============================] - 3s 14ms/step - loss: 0.3221 - accuracy: 0.8661 - val_loss: 0.3543 - val_accuracy: 0.8473\n",
            "Epoch 15/50\n",
            "219/219 [==============================] - 5s 21ms/step - loss: 0.3156 - accuracy: 0.8691 - val_loss: 0.3520 - val_accuracy: 0.8438\n",
            "Epoch 16/50\n",
            "219/219 [==============================] - 4s 19ms/step - loss: 0.3119 - accuracy: 0.8705 - val_loss: 0.3623 - val_accuracy: 0.8488\n",
            "Epoch 17/50\n",
            "219/219 [==============================] - 2s 11ms/step - loss: 0.3073 - accuracy: 0.8724 - val_loss: 0.3572 - val_accuracy: 0.8492\n",
            "Epoch 18/50\n",
            "219/219 [==============================] - 2s 11ms/step - loss: 0.3003 - accuracy: 0.8764 - val_loss: 0.3614 - val_accuracy: 0.8441\n",
            "Epoch 19/50\n",
            "219/219 [==============================] - 2s 10ms/step - loss: 0.3018 - accuracy: 0.8744 - val_loss: 0.3567 - val_accuracy: 0.8515\n",
            "Epoch 20/50\n",
            "219/219 [==============================] - 4s 18ms/step - loss: 0.2869 - accuracy: 0.8807 - val_loss: 0.3512 - val_accuracy: 0.8521\n",
            "Epoch 21/50\n",
            "219/219 [==============================] - 3s 13ms/step - loss: 0.2815 - accuracy: 0.8812 - val_loss: 0.3547 - val_accuracy: 0.8524\n",
            "Epoch 22/50\n",
            "219/219 [==============================] - 2s 11ms/step - loss: 0.2738 - accuracy: 0.8894 - val_loss: 0.3595 - val_accuracy: 0.8489\n",
            "Epoch 23/50\n",
            "219/219 [==============================] - 2s 11ms/step - loss: 0.2650 - accuracy: 0.8961 - val_loss: 0.3654 - val_accuracy: 0.8472\n",
            "Epoch 24/50\n",
            "219/219 [==============================] - 2s 11ms/step - loss: 0.2622 - accuracy: 0.8917 - val_loss: 0.3624 - val_accuracy: 0.8516\n",
            "Epoch 25/50\n",
            "219/219 [==============================] - 4s 16ms/step - loss: 0.2549 - accuracy: 0.8953 - val_loss: 0.3777 - val_accuracy: 0.8427\n",
            "Epoch 26/50\n",
            "219/219 [==============================] - 3s 14ms/step - loss: 0.2527 - accuracy: 0.8954 - val_loss: 0.3882 - val_accuracy: 0.8398\n",
            "Epoch 27/50\n",
            "219/219 [==============================] - 2s 11ms/step - loss: 0.2472 - accuracy: 0.8984 - val_loss: 0.3876 - val_accuracy: 0.8387\n",
            "Epoch 28/50\n",
            "219/219 [==============================] - 2s 11ms/step - loss: 0.2412 - accuracy: 0.9026 - val_loss: 0.3741 - val_accuracy: 0.8475\n",
            "Epoch 29/50\n",
            "219/219 [==============================] - 3s 13ms/step - loss: 0.2349 - accuracy: 0.9060 - val_loss: 0.3764 - val_accuracy: 0.8478\n",
            "Epoch 30/50\n",
            "219/219 [==============================] - 3s 14ms/step - loss: 0.2257 - accuracy: 0.9095 - val_loss: 0.3808 - val_accuracy: 0.8419\n",
            "Epoch 31/50\n",
            "219/219 [==============================] - 3s 16ms/step - loss: 0.2251 - accuracy: 0.9093 - val_loss: 0.4111 - val_accuracy: 0.8478\n",
            "Epoch 32/50\n",
            "219/219 [==============================] - 2s 10ms/step - loss: 0.2131 - accuracy: 0.9129 - val_loss: 0.4005 - val_accuracy: 0.8465\n",
            "Epoch 33/50\n",
            "219/219 [==============================] - 2s 11ms/step - loss: 0.2177 - accuracy: 0.9105 - val_loss: 0.3920 - val_accuracy: 0.8494\n",
            "Epoch 34/50\n",
            "219/219 [==============================] - 2s 11ms/step - loss: 0.2020 - accuracy: 0.9188 - val_loss: 0.4133 - val_accuracy: 0.8457\n",
            "Epoch 35/50\n",
            "219/219 [==============================] - 3s 14ms/step - loss: 0.1983 - accuracy: 0.9219 - val_loss: 0.4124 - val_accuracy: 0.8423\n",
            "Epoch 36/50\n",
            "219/219 [==============================] - 3s 16ms/step - loss: 0.1957 - accuracy: 0.9198 - val_loss: 0.4347 - val_accuracy: 0.8478\n",
            "Epoch 37/50\n",
            "219/219 [==============================] - 3s 12ms/step - loss: 0.1884 - accuracy: 0.9244 - val_loss: 0.4318 - val_accuracy: 0.8374\n",
            "Epoch 38/50\n",
            "219/219 [==============================] - 2s 10ms/step - loss: 0.1831 - accuracy: 0.9269 - val_loss: 0.4497 - val_accuracy: 0.8403\n",
            "Epoch 39/50\n",
            "219/219 [==============================] - 2s 10ms/step - loss: 0.1827 - accuracy: 0.9232 - val_loss: 0.4547 - val_accuracy: 0.8401\n",
            "Epoch 40/50\n",
            "219/219 [==============================] - 2s 11ms/step - loss: 0.1680 - accuracy: 0.9350 - val_loss: 0.4677 - val_accuracy: 0.8411\n",
            "Epoch 41/50\n",
            "219/219 [==============================] - 3s 15ms/step - loss: 0.1726 - accuracy: 0.9324 - val_loss: 0.4570 - val_accuracy: 0.8449\n",
            "Epoch 42/50\n",
            "219/219 [==============================] - 3s 15ms/step - loss: 0.1639 - accuracy: 0.9345 - val_loss: 0.4938 - val_accuracy: 0.8331\n",
            "Epoch 43/50\n",
            "219/219 [==============================] - 2s 11ms/step - loss: 0.1594 - accuracy: 0.9388 - val_loss: 0.4747 - val_accuracy: 0.8435\n",
            "Epoch 44/50\n",
            "219/219 [==============================] - 2s 11ms/step - loss: 0.1629 - accuracy: 0.9348 - val_loss: 0.5058 - val_accuracy: 0.8399\n",
            "Epoch 45/50\n",
            "219/219 [==============================] - 2s 10ms/step - loss: 0.1439 - accuracy: 0.9423 - val_loss: 0.5215 - val_accuracy: 0.8390\n",
            "Epoch 46/50\n",
            "219/219 [==============================] - 3s 14ms/step - loss: 0.1517 - accuracy: 0.9401 - val_loss: 0.4993 - val_accuracy: 0.8419\n",
            "Epoch 47/50\n",
            "219/219 [==============================] - 4s 16ms/step - loss: 0.1465 - accuracy: 0.9433 - val_loss: 0.5020 - val_accuracy: 0.8374\n",
            "Epoch 48/50\n",
            "219/219 [==============================] - 2s 10ms/step - loss: 0.1490 - accuracy: 0.9421 - val_loss: 0.5249 - val_accuracy: 0.8441\n",
            "Epoch 49/50\n",
            "219/219 [==============================] - 2s 10ms/step - loss: 0.1388 - accuracy: 0.9460 - val_loss: 0.5811 - val_accuracy: 0.8331\n",
            "Epoch 50/50\n",
            "219/219 [==============================] - 2s 10ms/step - loss: 0.1415 - accuracy: 0.9469 - val_loss: 0.5151 - val_accuracy: 0.8399\n"
          ]
        },
        {
          "output_type": "execute_result",
          "data": {
            "text/plain": [
              "<keras.callbacks.History at 0x7fd0cd180940>"
            ]
          },
          "metadata": {},
          "execution_count": 16
        }
      ]
    },
    {
      "cell_type": "code",
      "source": [
        "accuracy = classifier.evaluate(x_test, y_test)[1]\n",
        "print(f\"Test accuracy: {round(accuracy * 100, 2)}%\")"
      ],
      "metadata": {
        "colab": {
          "base_uri": "https://localhost:8080/"
        },
        "id": "IdCYRqFGJMcw",
        "outputId": "cb59f1c5-9703-484f-f118-1a9259fb2e85"
      },
      "execution_count": 17,
      "outputs": [
        {
          "output_type": "stream",
          "name": "stdout",
          "text": [
            "196/196 [==============================] - 1s 3ms/step - loss: 0.5151 - accuracy: 0.8399\n",
            "Test accuracy: 83.99%\n"
          ]
        }
      ]
    },
    {
      "cell_type": "code",
      "source": [
        "accuracy = classifier.evaluate(x_new, y_train)[1]\n",
        "print(f\"Train accuracy: {round(accuracy * 100, 2)}%\")"
      ],
      "metadata": {
        "colab": {
          "base_uri": "https://localhost:8080/"
        },
        "id": "Nt13ZEodJ02D",
        "outputId": "278bf799-b297-48cc-92fe-ac40c3c74eb1"
      },
      "execution_count": 18,
      "outputs": [
        {
          "output_type": "stream",
          "name": "stdout",
          "text": [
            "219/219 [==============================] - 1s 5ms/step - loss: 0.0886 - accuracy: 0.9711\n",
            "Train accuracy: 97.11%\n"
          ]
        }
      ]
    }
  ]
}