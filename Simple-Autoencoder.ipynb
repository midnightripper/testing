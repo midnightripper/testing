{
  "nbformat": 4,
  "nbformat_minor": 0,
  "metadata": {
    "colab": {
      "provenance": [],
      "toc_visible": true,
      "authorship_tag": "ABX9TyN6kiOlypup+kQ5txW/d1XB",
      "include_colab_link": true
    },
    "kernelspec": {
      "name": "python3",
      "display_name": "Python 3"
    },
    "language_info": {
      "name": "python"
    }
  },
  "cells": [
    {
      "cell_type": "markdown",
      "metadata": {
        "id": "view-in-github",
        "colab_type": "text"
      },
      "source": [
        "<a href=\"https://colab.research.google.com/github/midnightripper/testing/blob/main/Simple-Autoencoder.ipynb\" target=\"_parent\"><img src=\"https://colab.research.google.com/assets/colab-badge.svg\" alt=\"Open In Colab\"/></a>"
      ]
    },
    {
      "cell_type": "code",
      "execution_count": 1,
      "metadata": {
        "colab": {
          "base_uri": "https://localhost:8080/"
        },
        "id": "2ef1CQrqMO1Y",
        "outputId": "689d73eb-08cb-45c8-a40a-4a7b0e1c6ca8"
      },
      "outputs": [
        {
          "output_type": "stream",
          "name": "stdout",
          "text": [
            "Mounted at /content/drive\n"
          ]
        }
      ],
      "source": [
        "from google.colab import drive\n",
        "drive.mount('/content/drive')"
      ]
    },
    {
      "cell_type": "code",
      "source": [
        "pip install tensorflow-addons"
      ],
      "metadata": {
        "colab": {
          "base_uri": "https://localhost:8080/"
        },
        "id": "Hy282P0WMU3X",
        "outputId": "3b8758cc-90a5-4d2a-8dc1-069ad41746cf"
      },
      "execution_count": 2,
      "outputs": [
        {
          "output_type": "stream",
          "name": "stdout",
          "text": [
            "Looking in indexes: https://pypi.org/simple, https://us-python.pkg.dev/colab-wheels/public/simple/\n",
            "Collecting tensorflow-addons\n",
            "  Downloading tensorflow_addons-0.20.0-cp39-cp39-manylinux_2_17_x86_64.manylinux2014_x86_64.whl (591 kB)\n",
            "\u001b[2K     \u001b[90m━━━━━━━━━━━━━━━━━━━━━━━━━━━━━━━━━━━━━━\u001b[0m \u001b[32m591.0/591.0 kB\u001b[0m \u001b[31m10.7 MB/s\u001b[0m eta \u001b[36m0:00:00\u001b[0m\n",
            "\u001b[?25hCollecting typeguard<3.0.0,>=2.7\n",
            "  Downloading typeguard-2.13.3-py3-none-any.whl (17 kB)\n",
            "Requirement already satisfied: packaging in /usr/local/lib/python3.9/dist-packages (from tensorflow-addons) (23.0)\n",
            "Installing collected packages: typeguard, tensorflow-addons\n",
            "Successfully installed tensorflow-addons-0.20.0 typeguard-2.13.3\n"
          ]
        }
      ]
    },
    {
      "cell_type": "code",
      "source": [
        "import tensorflow as tf\n",
        "import tensorflow_addons as tfa\n",
        "import numpy as np\n",
        "from tensorflow import keras\n",
        "from tensorflow.keras import layers\n",
        "import scipy.io as sio\n",
        "import pandas as pd\n",
        "import matplotlib.pyplot as plt\n",
        "from tensorflow.keras.models import Model"
      ],
      "metadata": {
        "colab": {
          "base_uri": "https://localhost:8080/"
        },
        "id": "HgnyJkU2MXma",
        "outputId": "4eb8bbce-a515-4403-ce35-766b8a931813"
      },
      "execution_count": 3,
      "outputs": [
        {
          "output_type": "stream",
          "name": "stderr",
          "text": [
            "/usr/local/lib/python3.9/dist-packages/tensorflow_addons/utils/tfa_eol_msg.py:23: UserWarning: \n",
            "\n",
            "TensorFlow Addons (TFA) has ended development and introduction of new features.\n",
            "TFA has entered a minimal maintenance and release mode until a planned end of life in May 2024.\n",
            "Please modify downstream libraries to take dependencies from other repositories in our TensorFlow community (e.g. Keras, Keras-CV, and Keras-NLP). \n",
            "\n",
            "For more information see: https://github.com/tensorflow/addons/issues/2807 \n",
            "\n",
            "  warnings.warn(\n"
          ]
        }
      ]
    },
    {
      "cell_type": "code",
      "source": [
        "GER_test = (np.array(sio.loadmat('/content/drive/MyDrive/training data/GER_test.mat')['GER_test'])).transpose()\n",
        "GER_train = (np.array(sio.loadmat('/content/drive/MyDrive/training data/GER_train.mat')['GER_train'])).transpose()\n",
        "test_frame = pd.DataFrame(GER_test).sort_values(1)\n",
        "train_frame = pd.DataFrame(GER_train).sort_values(1)"
      ],
      "metadata": {
        "id": "Oq_IavtENDy-"
      },
      "execution_count": 4,
      "outputs": []
    },
    {
      "cell_type": "code",
      "source": [
        "print(f\"x_train shape: {GER_train.shape} - y_train shape: {GER_train.shape}\")\n",
        "print(f\"x_test shape: {GER_test.shape} - y_test shape: {GER_test.shape}\")"
      ],
      "metadata": {
        "colab": {
          "base_uri": "https://localhost:8080/"
        },
        "id": "IoGFaC2SNEQv",
        "outputId": "ea32bb35-4abe-443f-ca08-0ed0fe788930"
      },
      "execution_count": 5,
      "outputs": [
        {
          "output_type": "stream",
          "name": "stdout",
          "text": [
            "x_train shape: (6981, 21) - y_train shape: (6981, 21)\n",
            "x_test shape: (6248, 21) - y_test shape: (6248, 21)\n"
          ]
        }
      ]
    },
    {
      "cell_type": "markdown",
      "source": [],
      "metadata": {
        "id": "s2fHu7dok2G-"
      }
    },
    {
      "cell_type": "code",
      "source": [
        "def get_data_labels(split):\n",
        "    x = pd.DataFrame(split)\n",
        "    labels = x[0].values.astype(np.uint8)\n",
        "    del x[0],x[1]\n",
        "    data = x.values \n",
        "    return data, labels\n",
        "\n",
        "x_train, y_train = get_data_labels(train_frame.values.tolist())\n",
        "x_test, y_test = get_data_labels(test_frame.values.tolist())"
      ],
      "metadata": {
        "id": "U5ni887cNFok"
      },
      "execution_count": 6,
      "outputs": []
    },
    {
      "cell_type": "code",
      "source": [
        "input_shape=(19,)\n",
        "num_classes = 2"
      ],
      "metadata": {
        "id": "nyakV6XcNKLU"
      },
      "execution_count": 7,
      "outputs": []
    },
    {
      "cell_type": "code",
      "source": [
        "from keras.models import Sequential\n",
        "from keras.layers import Activation\n",
        "from keras.layers import Input\n",
        "from tensorflow import keras\n",
        "from tensorflow.keras.models import Sequential\n",
        "from tensorflow.keras.layers import Conv1D, MaxPooling1D, Flatten, Dense\n",
        "\n",
        "learning_rate = 0.001\n",
        "batch_size = 130\n",
        "hidden_units = 512\n",
        "projection_units = 128\n",
        "num_epochs = 250\n",
        "dropout_rate = 0.5\n",
        "temperature = 0.05"
      ],
      "metadata": {
        "id": "05aTX-HrNMzD"
      },
      "execution_count": 8,
      "outputs": []
    },
    {
      "cell_type": "code",
      "source": [
        "print(input_shape[1])"
      ],
      "metadata": {
        "colab": {
          "base_uri": "https://localhost:8080/"
        },
        "id": "xovvdPHhWsnz",
        "outputId": "d73f79be-e203-431a-b74a-8f959a8b2be8"
      },
      "execution_count": null,
      "outputs": [
        {
          "output_type": "stream",
          "name": "stdout",
          "text": [
            "1\n"
          ]
        }
      ]
    },
    {
      "cell_type": "code",
      "source": [
        "print(input_shape[0])"
      ],
      "metadata": {
        "colab": {
          "base_uri": "https://localhost:8080/"
        },
        "id": "4MS_KIHUWxmG",
        "outputId": "3c5cf35c-a380-459e-be76-19b6a458733e"
      },
      "execution_count": null,
      "outputs": [
        {
          "output_type": "stream",
          "name": "stdout",
          "text": [
            "19\n"
          ]
        }
      ]
    },
    {
      "cell_type": "code",
      "source": [
        "# from keras.layers import Input, Dense\n",
        "# from keras.models import Model\n",
        "\n",
        "# # define input shape\n",
        "# input_shape = (19,)\n",
        "\n",
        "# # define encoder\n",
        "# inputs = Input(shape=input_shape)\n",
        "# encoded = Dense(10, activation='relu')(inputs)\n",
        "# encoded = Dense(5, activation='relu')(encoded)\n",
        "# encoded_output = Dense(3, activation='relu')(encoded)\n",
        "\n",
        "# # define decoder\n",
        "# decoded = Dense(5, activation='relu')(encoded_output)\n",
        "# decoded = Dense(10, activation='relu')(decoded)\n",
        "# decoded_output = Dense(input_shape[0], activation='sigmoid')(decoded)\n",
        "\n",
        "# # define autoencoder\n",
        "# autoencoder = Model(inputs, decoded_output)\n",
        "# autoencoder.compile(optimizer='adam', loss='mse')"
      ],
      "metadata": {
        "id": "mz-5ZgWMCvAU"
      },
      "execution_count": 12,
      "outputs": []
    },
    {
      "cell_type": "code",
      "source": [
        "# autoencoder.fit(x_train, x_train, epochs=10, batch_size=32, shuffle=True)"
      ],
      "metadata": {
        "id": "YJDeHseCWmr9"
      },
      "execution_count": null,
      "outputs": []
    },
    {
      "cell_type": "code",
      "source": [
        "input_shape = (19,)"
      ],
      "metadata": {
        "id": "o4tDkR4wy_ed"
      },
      "execution_count": 19,
      "outputs": []
    },
    {
      "cell_type": "code",
      "source": [
        "input_layer = Input(shape=input_shape)\n",
        "# encoded = Dense(encoding_dim, activation='relu')(input_layer)\n",
        "# decoded = Dense(input_shape[0], activation='sigmoid')(encoded)\n",
        "\n",
        "encoded = Dense(64, activation='relu')(input_layer)\n",
        "encoded = Dense(32, activation='relu')(encoded)\n",
        "encoded_output = Dense(19, activation='relu')(encoded)\n",
        "\n",
        "decoded = Dense(19, activation='relu')(encoded_output)\n",
        "decoded = Dense(32, activation='relu')(decoded)\n",
        "decoded = Dense(64, activation='relu')(decoded)\n",
        "decoded_output = Dense(input_shape[0], activation='sigmoid')(decoded)\n",
        "\n",
        "autoencoder = Model(input_layer, decoded_output)\n",
        "autoencoder.summary()"
      ],
      "metadata": {
        "colab": {
          "base_uri": "https://localhost:8080/"
        },
        "id": "Zoi9DR7Cxe9O",
        "outputId": "921fec2c-97fe-4c83-e23e-c3d2b458247a"
      },
      "execution_count": 47,
      "outputs": [
        {
          "output_type": "stream",
          "name": "stdout",
          "text": [
            "Model: \"model_24\"\n",
            "_________________________________________________________________\n",
            " Layer (type)                Output Shape              Param #   \n",
            "=================================================================\n",
            " input_22 (InputLayer)       [(None, 19)]              0         \n",
            "                                                                 \n",
            " dense_105 (Dense)           (None, 64)                1280      \n",
            "                                                                 \n",
            " dense_106 (Dense)           (None, 32)                2080      \n",
            "                                                                 \n",
            " dense_107 (Dense)           (None, 19)                627       \n",
            "                                                                 \n",
            " dense_108 (Dense)           (None, 19)                380       \n",
            "                                                                 \n",
            " dense_109 (Dense)           (None, 32)                640       \n",
            "                                                                 \n",
            " dense_110 (Dense)           (None, 64)                2112      \n",
            "                                                                 \n",
            " dense_111 (Dense)           (None, 19)                1235      \n",
            "                                                                 \n",
            "=================================================================\n",
            "Total params: 8,354\n",
            "Trainable params: 8,354\n",
            "Non-trainable params: 0\n",
            "_________________________________________________________________\n"
          ]
        }
      ]
    },
    {
      "cell_type": "code",
      "source": [
        "autoencoder.compile(optimizer='adam', loss='mse')\n",
        "autoencoder.fit(x_train, x_train, epochs=50, batch_size=32, validation_data=(x_test, x_test))"
      ],
      "metadata": {
        "colab": {
          "base_uri": "https://localhost:8080/"
        },
        "id": "COy_tmaHzBoY",
        "outputId": "7bc03645-76ad-4da9-a500-48ebe9721957"
      },
      "execution_count": 48,
      "outputs": [
        {
          "output_type": "stream",
          "name": "stdout",
          "text": [
            "Epoch 1/50\n",
            "219/219 [==============================] - 2s 4ms/step - loss: 3.3339 - val_loss: 3.3026\n",
            "Epoch 2/50\n",
            "219/219 [==============================] - 1s 3ms/step - loss: 3.2700 - val_loss: 3.2972\n",
            "Epoch 3/50\n",
            "219/219 [==============================] - 1s 3ms/step - loss: 3.2678 - val_loss: 3.2969\n",
            "Epoch 4/50\n",
            "219/219 [==============================] - 1s 3ms/step - loss: 3.2675 - val_loss: 3.2964\n",
            "Epoch 5/50\n",
            "219/219 [==============================] - 1s 3ms/step - loss: 3.2672 - val_loss: 3.2964\n",
            "Epoch 6/50\n",
            "219/219 [==============================] - 1s 3ms/step - loss: 3.2671 - val_loss: 3.2961\n",
            "Epoch 7/50\n",
            "219/219 [==============================] - 1s 2ms/step - loss: 3.2668 - val_loss: 3.2959\n",
            "Epoch 8/50\n",
            "219/219 [==============================] - 1s 2ms/step - loss: 3.2666 - val_loss: 3.2956\n",
            "Epoch 9/50\n",
            "219/219 [==============================] - 1s 3ms/step - loss: 3.2662 - val_loss: 3.2952\n",
            "Epoch 10/50\n",
            "219/219 [==============================] - 1s 3ms/step - loss: 3.2658 - val_loss: 3.2949\n",
            "Epoch 11/50\n",
            "219/219 [==============================] - 1s 2ms/step - loss: 3.2656 - val_loss: 3.2948\n",
            "Epoch 12/50\n",
            "219/219 [==============================] - 1s 3ms/step - loss: 3.2655 - val_loss: 3.2946\n",
            "Epoch 13/50\n",
            "219/219 [==============================] - 1s 3ms/step - loss: 3.2653 - val_loss: 3.2946\n",
            "Epoch 14/50\n",
            "219/219 [==============================] - 1s 2ms/step - loss: 3.2653 - val_loss: 3.2945\n",
            "Epoch 15/50\n",
            "219/219 [==============================] - 1s 3ms/step - loss: 3.2652 - val_loss: 3.2945\n",
            "Epoch 16/50\n",
            "219/219 [==============================] - 1s 3ms/step - loss: 3.2651 - val_loss: 3.2943\n",
            "Epoch 17/50\n",
            "219/219 [==============================] - 1s 3ms/step - loss: 3.2650 - val_loss: 3.2942\n",
            "Epoch 18/50\n",
            "219/219 [==============================] - 1s 3ms/step - loss: 3.2650 - val_loss: 3.2943\n",
            "Epoch 19/50\n",
            "219/219 [==============================] - 1s 4ms/step - loss: 3.2650 - val_loss: 3.2942\n",
            "Epoch 20/50\n",
            "219/219 [==============================] - 1s 2ms/step - loss: 3.2649 - val_loss: 3.2941\n",
            "Epoch 21/50\n",
            "219/219 [==============================] - 1s 2ms/step - loss: 3.2648 - val_loss: 3.2941\n",
            "Epoch 22/50\n",
            "219/219 [==============================] - 1s 3ms/step - loss: 3.2648 - val_loss: 3.2939\n",
            "Epoch 23/50\n",
            "219/219 [==============================] - 1s 3ms/step - loss: 3.2647 - val_loss: 3.2940\n",
            "Epoch 24/50\n",
            "219/219 [==============================] - 1s 2ms/step - loss: 3.2647 - val_loss: 3.2939\n",
            "Epoch 25/50\n",
            "219/219 [==============================] - 1s 3ms/step - loss: 3.2647 - val_loss: 3.2939\n",
            "Epoch 26/50\n",
            "219/219 [==============================] - 1s 2ms/step - loss: 3.2647 - val_loss: 3.2939\n",
            "Epoch 27/50\n",
            "219/219 [==============================] - 1s 3ms/step - loss: 3.2646 - val_loss: 3.2939\n",
            "Epoch 28/50\n",
            "219/219 [==============================] - 1s 2ms/step - loss: 3.2647 - val_loss: 3.2939\n",
            "Epoch 29/50\n",
            "219/219 [==============================] - 1s 3ms/step - loss: 3.2646 - val_loss: 3.2939\n",
            "Epoch 30/50\n",
            "219/219 [==============================] - 1s 2ms/step - loss: 3.2646 - val_loss: 3.2939\n",
            "Epoch 31/50\n",
            "219/219 [==============================] - 1s 3ms/step - loss: 3.2646 - val_loss: 3.2939\n",
            "Epoch 32/50\n",
            "219/219 [==============================] - 1s 3ms/step - loss: 3.2646 - val_loss: 3.2938\n",
            "Epoch 33/50\n",
            "219/219 [==============================] - 1s 3ms/step - loss: 3.2646 - val_loss: 3.2938\n",
            "Epoch 34/50\n",
            "219/219 [==============================] - 1s 3ms/step - loss: 3.2646 - val_loss: 3.2938\n",
            "Epoch 35/50\n",
            "219/219 [==============================] - 1s 2ms/step - loss: 3.2646 - val_loss: 3.2938\n",
            "Epoch 36/50\n",
            "219/219 [==============================] - 1s 3ms/step - loss: 3.2646 - val_loss: 3.2938\n",
            "Epoch 37/50\n",
            "219/219 [==============================] - 1s 4ms/step - loss: 3.2646 - val_loss: 3.2939\n",
            "Epoch 38/50\n",
            "219/219 [==============================] - 1s 3ms/step - loss: 3.2646 - val_loss: 3.2938\n",
            "Epoch 39/50\n",
            "219/219 [==============================] - 1s 3ms/step - loss: 3.2646 - val_loss: 3.2938\n",
            "Epoch 40/50\n",
            "219/219 [==============================] - 1s 3ms/step - loss: 3.2646 - val_loss: 3.2939\n",
            "Epoch 41/50\n",
            "219/219 [==============================] - 1s 3ms/step - loss: 3.2646 - val_loss: 3.2938\n",
            "Epoch 42/50\n",
            "219/219 [==============================] - 1s 3ms/step - loss: 3.2646 - val_loss: 3.2938\n",
            "Epoch 43/50\n",
            "219/219 [==============================] - 1s 2ms/step - loss: 3.2646 - val_loss: 3.2938\n",
            "Epoch 44/50\n",
            "219/219 [==============================] - 1s 2ms/step - loss: 3.2646 - val_loss: 3.2938\n",
            "Epoch 45/50\n",
            "219/219 [==============================] - 1s 3ms/step - loss: 3.2646 - val_loss: 3.2938\n",
            "Epoch 46/50\n",
            "219/219 [==============================] - 1s 2ms/step - loss: 3.2646 - val_loss: 3.2938\n",
            "Epoch 47/50\n",
            "219/219 [==============================] - 1s 3ms/step - loss: 3.2645 - val_loss: 3.2938\n",
            "Epoch 48/50\n",
            "219/219 [==============================] - 1s 3ms/step - loss: 3.2645 - val_loss: 3.2938\n",
            "Epoch 49/50\n",
            "219/219 [==============================] - 1s 2ms/step - loss: 3.2645 - val_loss: 3.2938\n",
            "Epoch 50/50\n",
            "219/219 [==============================] - 1s 3ms/step - loss: 3.2645 - val_loss: 3.2938\n"
          ]
        },
        {
          "output_type": "execute_result",
          "data": {
            "text/plain": [
              "<keras.callbacks.History at 0x7fb7805a0e20>"
            ]
          },
          "metadata": {},
          "execution_count": 48
        }
      ]
    },
    {
      "cell_type": "code",
      "source": [
        "encoder = Model(input_layer, encoded_output)\n",
        "encoder.trainable = False\n",
        "encoder.summary()"
      ],
      "metadata": {
        "colab": {
          "base_uri": "https://localhost:8080/"
        },
        "id": "bOVl36TMzG53",
        "outputId": "986ca828-f4ce-4326-b9d9-b90f8cfb763c"
      },
      "execution_count": 49,
      "outputs": [
        {
          "output_type": "stream",
          "name": "stdout",
          "text": [
            "Model: \"model_25\"\n",
            "_________________________________________________________________\n",
            " Layer (type)                Output Shape              Param #   \n",
            "=================================================================\n",
            " input_22 (InputLayer)       [(None, 19)]              0         \n",
            "                                                                 \n",
            " dense_105 (Dense)           (None, 64)                1280      \n",
            "                                                                 \n",
            " dense_106 (Dense)           (None, 32)                2080      \n",
            "                                                                 \n",
            " dense_107 (Dense)           (None, 19)                627       \n",
            "                                                                 \n",
            "=================================================================\n",
            "Total params: 3,987\n",
            "Trainable params: 0\n",
            "Non-trainable params: 3,987\n",
            "_________________________________________________________________\n"
          ]
        }
      ]
    },
    {
      "cell_type": "code",
      "source": [
        "classifier_input = Input(shape=(19,))\n",
        "encoded_input = encoder(classifier_input)\n",
        "x1=Dense(128,activation='relu')(encoded_input)\n",
        "x2=Dense(64,activation='relu')(x1)\n",
        "x3=Dense(32,activation='relu')(x2)\n",
        "x4=Dense(16,activation='relu')(x3)\n",
        "x5=Dense(8,activation='relu')(x4)\n",
        "x6=Dense(4,activation='relu')(x5)\n",
        "output_layer = Dense(1, activation='sigmoid')(x6)\n",
        "\n",
        "classifier = Model(classifier_input, output_layer)\n",
        "classifier.summary()\n",
        "classifier.compile(optimizer='adam', loss='binary_crossentropy', metrics=['accuracy'])\n",
        "classifier.fit(x_train, y_train, epochs=50, batch_size=32, validation_data=(x_test, y_test))\n"
      ],
      "metadata": {
        "colab": {
          "base_uri": "https://localhost:8080/"
        },
        "id": "3ga3NymszHzx",
        "outputId": "7b97b38a-1af3-46df-a929-cc86d66bde48"
      },
      "execution_count": 50,
      "outputs": [
        {
          "output_type": "stream",
          "name": "stdout",
          "text": [
            "Model: \"model_26\"\n",
            "_________________________________________________________________\n",
            " Layer (type)                Output Shape              Param #   \n",
            "=================================================================\n",
            " input_23 (InputLayer)       [(None, 19)]              0         \n",
            "                                                                 \n",
            " model_25 (Functional)       (None, 19)                3987      \n",
            "                                                                 \n",
            " dense_112 (Dense)           (None, 128)               2560      \n",
            "                                                                 \n",
            " dense_113 (Dense)           (None, 64)                8256      \n",
            "                                                                 \n",
            " dense_114 (Dense)           (None, 32)                2080      \n",
            "                                                                 \n",
            " dense_115 (Dense)           (None, 16)                528       \n",
            "                                                                 \n",
            " dense_116 (Dense)           (None, 8)                 136       \n",
            "                                                                 \n",
            " dense_117 (Dense)           (None, 4)                 36        \n",
            "                                                                 \n",
            " dense_118 (Dense)           (None, 1)                 5         \n",
            "                                                                 \n",
            "=================================================================\n",
            "Total params: 17,588\n",
            "Trainable params: 13,601\n",
            "Non-trainable params: 3,987\n",
            "_________________________________________________________________\n",
            "Epoch 1/50\n",
            "219/219 [==============================] - 2s 4ms/step - loss: 0.6013 - accuracy: 0.7084 - val_loss: 0.5057 - val_accuracy: 0.7639\n",
            "Epoch 2/50\n",
            "219/219 [==============================] - 1s 3ms/step - loss: 0.5011 - accuracy: 0.7550 - val_loss: 0.4805 - val_accuracy: 0.7738\n",
            "Epoch 3/50\n",
            "219/219 [==============================] - 1s 3ms/step - loss: 0.4810 - accuracy: 0.7742 - val_loss: 0.4865 - val_accuracy: 0.7692\n",
            "Epoch 4/50\n",
            "219/219 [==============================] - 1s 4ms/step - loss: 0.4726 - accuracy: 0.7761 - val_loss: 0.4814 - val_accuracy: 0.7727\n",
            "Epoch 5/50\n",
            "219/219 [==============================] - 1s 4ms/step - loss: 0.4633 - accuracy: 0.7821 - val_loss: 0.5248 - val_accuracy: 0.7594\n",
            "Epoch 6/50\n",
            "219/219 [==============================] - 1s 4ms/step - loss: 0.4590 - accuracy: 0.7840 - val_loss: 0.4914 - val_accuracy: 0.7620\n",
            "Epoch 7/50\n",
            "219/219 [==============================] - 1s 3ms/step - loss: 0.4526 - accuracy: 0.7844 - val_loss: 0.4854 - val_accuracy: 0.7711\n",
            "Epoch 8/50\n",
            "219/219 [==============================] - 1s 3ms/step - loss: 0.4449 - accuracy: 0.7913 - val_loss: 0.4443 - val_accuracy: 0.7937\n",
            "Epoch 9/50\n",
            "219/219 [==============================] - 1s 3ms/step - loss: 0.4478 - accuracy: 0.7903 - val_loss: 0.4694 - val_accuracy: 0.7783\n",
            "Epoch 10/50\n",
            "219/219 [==============================] - 1s 3ms/step - loss: 0.4407 - accuracy: 0.7929 - val_loss: 0.4440 - val_accuracy: 0.7923\n",
            "Epoch 11/50\n",
            "219/219 [==============================] - 1s 3ms/step - loss: 0.4386 - accuracy: 0.7924 - val_loss: 0.4628 - val_accuracy: 0.7801\n",
            "Epoch 12/50\n",
            "219/219 [==============================] - 1s 3ms/step - loss: 0.4357 - accuracy: 0.7976 - val_loss: 0.4497 - val_accuracy: 0.7935\n",
            "Epoch 13/50\n",
            "219/219 [==============================] - 1s 3ms/step - loss: 0.4299 - accuracy: 0.8010 - val_loss: 0.4304 - val_accuracy: 0.8023\n",
            "Epoch 14/50\n",
            "219/219 [==============================] - 1s 3ms/step - loss: 0.4308 - accuracy: 0.7980 - val_loss: 0.4376 - val_accuracy: 0.8022\n",
            "Epoch 15/50\n",
            "219/219 [==============================] - 1s 3ms/step - loss: 0.4330 - accuracy: 0.8028 - val_loss: 0.4271 - val_accuracy: 0.8031\n",
            "Epoch 16/50\n",
            "219/219 [==============================] - 1s 2ms/step - loss: 0.4274 - accuracy: 0.8032 - val_loss: 0.4410 - val_accuracy: 0.7959\n",
            "Epoch 17/50\n",
            "219/219 [==============================] - 1s 3ms/step - loss: 0.4193 - accuracy: 0.8083 - val_loss: 0.4280 - val_accuracy: 0.8054\n",
            "Epoch 18/50\n",
            "219/219 [==============================] - 1s 3ms/step - loss: 0.4243 - accuracy: 0.8046 - val_loss: 0.4479 - val_accuracy: 0.7884\n",
            "Epoch 19/50\n",
            "219/219 [==============================] - 1s 3ms/step - loss: 0.4219 - accuracy: 0.8073 - val_loss: 0.4310 - val_accuracy: 0.7990\n",
            "Epoch 20/50\n",
            "219/219 [==============================] - 1s 3ms/step - loss: 0.4222 - accuracy: 0.8072 - val_loss: 0.4654 - val_accuracy: 0.7859\n",
            "Epoch 21/50\n",
            "219/219 [==============================] - 1s 3ms/step - loss: 0.4216 - accuracy: 0.8085 - val_loss: 0.4317 - val_accuracy: 0.8006\n",
            "Epoch 22/50\n",
            "219/219 [==============================] - 1s 3ms/step - loss: 0.4205 - accuracy: 0.8103 - val_loss: 0.4337 - val_accuracy: 0.7975\n",
            "Epoch 23/50\n",
            "219/219 [==============================] - 1s 4ms/step - loss: 0.4134 - accuracy: 0.8116 - val_loss: 0.4213 - val_accuracy: 0.8092\n",
            "Epoch 24/50\n",
            "219/219 [==============================] - 1s 4ms/step - loss: 0.4188 - accuracy: 0.8065 - val_loss: 0.4194 - val_accuracy: 0.8075\n",
            "Epoch 25/50\n",
            "219/219 [==============================] - 1s 4ms/step - loss: 0.4129 - accuracy: 0.8121 - val_loss: 0.4283 - val_accuracy: 0.8067\n",
            "Epoch 26/50\n",
            "219/219 [==============================] - 1s 4ms/step - loss: 0.4165 - accuracy: 0.8053 - val_loss: 0.4218 - val_accuracy: 0.8020\n",
            "Epoch 27/50\n",
            "219/219 [==============================] - 1s 3ms/step - loss: 0.4113 - accuracy: 0.8128 - val_loss: 0.4218 - val_accuracy: 0.8044\n",
            "Epoch 28/50\n",
            "219/219 [==============================] - 1s 3ms/step - loss: 0.4131 - accuracy: 0.8098 - val_loss: 0.4258 - val_accuracy: 0.8054\n",
            "Epoch 29/50\n",
            "219/219 [==============================] - 1s 3ms/step - loss: 0.4077 - accuracy: 0.8144 - val_loss: 0.4262 - val_accuracy: 0.8070\n",
            "Epoch 30/50\n",
            "219/219 [==============================] - 1s 3ms/step - loss: 0.4080 - accuracy: 0.8125 - val_loss: 0.4277 - val_accuracy: 0.8012\n",
            "Epoch 31/50\n",
            "219/219 [==============================] - 1s 3ms/step - loss: 0.4061 - accuracy: 0.8164 - val_loss: 0.4378 - val_accuracy: 0.7975\n",
            "Epoch 32/50\n",
            "219/219 [==============================] - 1s 3ms/step - loss: 0.4071 - accuracy: 0.8141 - val_loss: 0.4242 - val_accuracy: 0.8049\n",
            "Epoch 33/50\n",
            "219/219 [==============================] - 1s 3ms/step - loss: 0.4023 - accuracy: 0.8145 - val_loss: 0.4254 - val_accuracy: 0.8044\n",
            "Epoch 34/50\n",
            "219/219 [==============================] - 1s 3ms/step - loss: 0.4140 - accuracy: 0.8086 - val_loss: 0.4328 - val_accuracy: 0.8006\n",
            "Epoch 35/50\n",
            "219/219 [==============================] - 1s 3ms/step - loss: 0.4031 - accuracy: 0.8231 - val_loss: 0.4149 - val_accuracy: 0.8124\n",
            "Epoch 36/50\n",
            "219/219 [==============================] - 1s 3ms/step - loss: 0.4021 - accuracy: 0.8145 - val_loss: 0.4283 - val_accuracy: 0.8017\n",
            "Epoch 37/50\n",
            "219/219 [==============================] - 1s 5ms/step - loss: 0.3980 - accuracy: 0.8198 - val_loss: 0.4155 - val_accuracy: 0.8097\n",
            "Epoch 38/50\n",
            "219/219 [==============================] - 1s 3ms/step - loss: 0.4016 - accuracy: 0.8201 - val_loss: 0.4145 - val_accuracy: 0.8078\n",
            "Epoch 39/50\n",
            "219/219 [==============================] - 1s 3ms/step - loss: 0.3979 - accuracy: 0.8176 - val_loss: 0.4180 - val_accuracy: 0.8094\n",
            "Epoch 40/50\n",
            "219/219 [==============================] - 1s 3ms/step - loss: 0.4010 - accuracy: 0.8181 - val_loss: 0.4141 - val_accuracy: 0.8116\n",
            "Epoch 41/50\n",
            "219/219 [==============================] - 1s 3ms/step - loss: 0.3986 - accuracy: 0.8199 - val_loss: 0.4112 - val_accuracy: 0.8134\n",
            "Epoch 42/50\n",
            "219/219 [==============================] - 1s 4ms/step - loss: 0.3957 - accuracy: 0.8207 - val_loss: 0.4253 - val_accuracy: 0.8087\n",
            "Epoch 43/50\n",
            "219/219 [==============================] - 1s 3ms/step - loss: 0.3930 - accuracy: 0.8234 - val_loss: 0.4152 - val_accuracy: 0.8092\n",
            "Epoch 44/50\n",
            "219/219 [==============================] - 1s 4ms/step - loss: 0.3890 - accuracy: 0.8209 - val_loss: 0.4037 - val_accuracy: 0.8180\n",
            "Epoch 45/50\n",
            "219/219 [==============================] - 1s 3ms/step - loss: 0.3857 - accuracy: 0.8262 - val_loss: 0.4157 - val_accuracy: 0.8135\n",
            "Epoch 46/50\n",
            "219/219 [==============================] - 1s 3ms/step - loss: 0.3916 - accuracy: 0.8277 - val_loss: 0.4053 - val_accuracy: 0.8135\n",
            "Epoch 47/50\n",
            "219/219 [==============================] - 1s 3ms/step - loss: 0.3855 - accuracy: 0.8271 - val_loss: 0.4049 - val_accuracy: 0.8159\n",
            "Epoch 48/50\n",
            "219/219 [==============================] - 1s 3ms/step - loss: 0.3915 - accuracy: 0.8242 - val_loss: 0.4180 - val_accuracy: 0.8062\n",
            "Epoch 49/50\n",
            "219/219 [==============================] - 1s 3ms/step - loss: 0.3849 - accuracy: 0.8300 - val_loss: 0.4115 - val_accuracy: 0.8118\n",
            "Epoch 50/50\n",
            "219/219 [==============================] - 1s 3ms/step - loss: 0.3902 - accuracy: 0.8244 - val_loss: 0.4087 - val_accuracy: 0.8145\n"
          ]
        },
        {
          "output_type": "execute_result",
          "data": {
            "text/plain": [
              "<keras.callbacks.History at 0x7fb78034c880>"
            ]
          },
          "metadata": {},
          "execution_count": 50
        }
      ]
    },
    {
      "cell_type": "code",
      "source": [
        "classifier.summary()\n",
        "accuracy = classifier.evaluate(x_test, y_test)[1]\n",
        "print(f\"Test accuracy: {round(accuracy * 100, 2)}%\")"
      ],
      "metadata": {
        "colab": {
          "base_uri": "https://localhost:8080/"
        },
        "id": "HE6hQUcN5vzo",
        "outputId": "06badb09-3a61-4784-9fbb-da8a70616dbd"
      },
      "execution_count": 51,
      "outputs": [
        {
          "output_type": "stream",
          "name": "stdout",
          "text": [
            "Model: \"model_26\"\n",
            "_________________________________________________________________\n",
            " Layer (type)                Output Shape              Param #   \n",
            "=================================================================\n",
            " input_23 (InputLayer)       [(None, 19)]              0         \n",
            "                                                                 \n",
            " model_25 (Functional)       (None, 19)                3987      \n",
            "                                                                 \n",
            " dense_112 (Dense)           (None, 128)               2560      \n",
            "                                                                 \n",
            " dense_113 (Dense)           (None, 64)                8256      \n",
            "                                                                 \n",
            " dense_114 (Dense)           (None, 32)                2080      \n",
            "                                                                 \n",
            " dense_115 (Dense)           (None, 16)                528       \n",
            "                                                                 \n",
            " dense_116 (Dense)           (None, 8)                 136       \n",
            "                                                                 \n",
            " dense_117 (Dense)           (None, 4)                 36        \n",
            "                                                                 \n",
            " dense_118 (Dense)           (None, 1)                 5         \n",
            "                                                                 \n",
            "=================================================================\n",
            "Total params: 17,588\n",
            "Trainable params: 13,601\n",
            "Non-trainable params: 3,987\n",
            "_________________________________________________________________\n",
            "196/196 [==============================] - 1s 2ms/step - loss: 0.4087 - accuracy: 0.8145\n",
            "Test accuracy: 81.45%\n"
          ]
        }
      ]
    },
    {
      "cell_type": "markdown",
      "source": [
        "\n",
        "# **FOR CNN**"
      ],
      "metadata": {
        "id": "wpMhd-Qz-mW1"
      }
    },
    {
      "cell_type": "code",
      "source": [
        "input_layer = Input(shape=input_shape)\n",
        "\n",
        "encoded = Dense(64, activation='relu')(input_layer)\n",
        "encoded = Dense(32, activation='relu')(encoded)\n",
        "encoded_output = Dense(19, activation='relu')(encoded)\n",
        "\n",
        "decoded = Dense(19, activation='relu')(encoded_output)\n",
        "decoded = Dense(32, activation='relu')(decoded)\n",
        "decoded = Dense(64, activation='relu')(decoded)\n",
        "decoded_output = Dense(input_shape[0], activation='sigmoid')(decoded)\n",
        "\n",
        "autoencoder = Model(input_layer, decoded_output)\n",
        "autoencoder.summary()"
      ],
      "metadata": {
        "id": "vfW_xBlK-ojc"
      },
      "execution_count": null,
      "outputs": []
    },
    {
      "cell_type": "code",
      "source": [
        "from keras.layers import Reshape"
      ],
      "metadata": {
        "id": "W84iGjUbIeFG"
      },
      "execution_count": 61,
      "outputs": []
    },
    {
      "cell_type": "code",
      "source": [
        "classifier_input = Input(shape=(19,1))\n",
        "encoded_input = encoder(classifier_input)\n",
        "reshaped_input = Reshape((19,1))(encoded_input)\n",
        "\n",
        "x1=Conv1D(filters=64, kernel_size=2, activation='relu')(reshaped_input)\n",
        "x2=MaxPooling1D(pool_size=1)(x1)\n",
        "x3=tf.keras.layers.Dropout(0.5)(x2)\n",
        "x4=Conv1D(filters=32, kernel_size=2, activation='relu')(x3)\n",
        "x5=MaxPooling1D(pool_size=1)(x4)\n",
        "x6=Flatten()(x5)\n",
        "\n",
        "x1=Dense(128,activation='relu')(x6)\n",
        "x2=Dense(64,activation='relu')(x1)\n",
        "x3=Dense(32,activation='relu')(x2)\n",
        "x4=Dense(16,activation='relu')(x3)\n",
        "x5=Dense(8,activation='relu')(x4)\n",
        "x6=Dense(4,activation='relu')(x5)\n",
        "output_layer = Dense(1, activation='sigmoid')(x6)\n",
        "\n",
        "classifier = Model(classifier_input, output_layer)\n",
        "classifier.summary()\n",
        "classifier.compile(optimizer='adam', loss='binary_crossentropy', metrics=['accuracy'])\n",
        "classifier.fit(x_train, y_train, epochs=50, batch_size=32, validation_data=(x_test, y_test))\n"
      ],
      "metadata": {
        "colab": {
          "base_uri": "https://localhost:8080/"
        },
        "id": "j82ooQEk_WNY",
        "outputId": "9f5d54c2-aa77-44c3-9e3a-448c3b9776d5"
      },
      "execution_count": 62,
      "outputs": [
        {
          "output_type": "stream",
          "name": "stdout",
          "text": [
            "Model: \"model_30\"\n",
            "_________________________________________________________________\n",
            " Layer (type)                Output Shape              Param #   \n",
            "=================================================================\n",
            " input_33 (InputLayer)       [(None, 19, 1)]           0         \n",
            "                                                                 \n",
            " model_25 (Functional)       (None, 19)                3987      \n",
            "                                                                 \n",
            " reshape (Reshape)           (None, 19, 1)             0         \n",
            "                                                                 \n",
            " conv1d_5 (Conv1D)           (None, 18, 64)            192       \n",
            "                                                                 \n",
            " max_pooling1d (MaxPooling1D  (None, 18, 64)           0         \n",
            " )                                                               \n",
            "                                                                 \n",
            " dropout (Dropout)           (None, 18, 64)            0         \n",
            "                                                                 \n",
            " conv1d_6 (Conv1D)           (None, 17, 32)            4128      \n",
            "                                                                 \n",
            " max_pooling1d_1 (MaxPooling  (None, 17, 32)           0         \n",
            " 1D)                                                             \n",
            "                                                                 \n",
            " flatten (Flatten)           (None, 544)               0         \n",
            "                                                                 \n",
            " dense_141 (Dense)           (None, 128)               69760     \n",
            "                                                                 \n",
            " dense_142 (Dense)           (None, 64)                8256      \n",
            "                                                                 \n",
            " dense_143 (Dense)           (None, 32)                2080      \n",
            "                                                                 \n",
            " dense_144 (Dense)           (None, 16)                528       \n",
            "                                                                 \n",
            " dense_145 (Dense)           (None, 8)                 136       \n",
            "                                                                 \n",
            " dense_146 (Dense)           (None, 4)                 36        \n",
            "                                                                 \n",
            " dense_147 (Dense)           (None, 1)                 5         \n",
            "                                                                 \n",
            "=================================================================\n",
            "Total params: 89,108\n",
            "Trainable params: 85,121\n",
            "Non-trainable params: 3,987\n",
            "_________________________________________________________________\n",
            "Epoch 1/50\n",
            "219/219 [==============================] - 4s 11ms/step - loss: 0.6140 - accuracy: 0.6642 - val_loss: 0.5294 - val_accuracy: 0.7436\n",
            "Epoch 2/50\n",
            "219/219 [==============================] - 2s 7ms/step - loss: 0.5471 - accuracy: 0.7321 - val_loss: 0.5117 - val_accuracy: 0.7598\n",
            "Epoch 3/50\n",
            "219/219 [==============================] - 1s 6ms/step - loss: 0.5291 - accuracy: 0.7364 - val_loss: 0.5213 - val_accuracy: 0.7401\n",
            "Epoch 4/50\n",
            "219/219 [==============================] - 1s 6ms/step - loss: 0.5222 - accuracy: 0.7424 - val_loss: 0.4990 - val_accuracy: 0.7649\n",
            "Epoch 5/50\n",
            "219/219 [==============================] - 1s 6ms/step - loss: 0.5152 - accuracy: 0.7495 - val_loss: 0.4976 - val_accuracy: 0.7697\n",
            "Epoch 6/50\n",
            "219/219 [==============================] - 1s 6ms/step - loss: 0.5125 - accuracy: 0.7533 - val_loss: 0.5057 - val_accuracy: 0.7586\n",
            "Epoch 7/50\n",
            "219/219 [==============================] - 1s 6ms/step - loss: 0.5029 - accuracy: 0.7622 - val_loss: 0.4904 - val_accuracy: 0.7716\n",
            "Epoch 8/50\n",
            "219/219 [==============================] - 1s 6ms/step - loss: 0.5021 - accuracy: 0.7578 - val_loss: 0.4930 - val_accuracy: 0.7681\n",
            "Epoch 9/50\n",
            "219/219 [==============================] - 2s 9ms/step - loss: 0.4970 - accuracy: 0.7629 - val_loss: 0.4858 - val_accuracy: 0.7703\n",
            "Epoch 10/50\n",
            "219/219 [==============================] - 2s 9ms/step - loss: 0.4944 - accuracy: 0.7658 - val_loss: 0.4901 - val_accuracy: 0.7665\n",
            "Epoch 11/50\n",
            "219/219 [==============================] - 1s 6ms/step - loss: 0.4981 - accuracy: 0.7579 - val_loss: 0.4857 - val_accuracy: 0.7626\n",
            "Epoch 12/50\n",
            "219/219 [==============================] - 1s 6ms/step - loss: 0.4892 - accuracy: 0.7636 - val_loss: 0.4808 - val_accuracy: 0.7697\n",
            "Epoch 13/50\n",
            "219/219 [==============================] - 1s 6ms/step - loss: 0.4882 - accuracy: 0.7646 - val_loss: 0.4819 - val_accuracy: 0.7674\n",
            "Epoch 14/50\n",
            "219/219 [==============================] - 1s 6ms/step - loss: 0.4889 - accuracy: 0.7675 - val_loss: 0.4693 - val_accuracy: 0.7727\n",
            "Epoch 15/50\n",
            "219/219 [==============================] - 1s 7ms/step - loss: 0.4853 - accuracy: 0.7677 - val_loss: 0.4943 - val_accuracy: 0.7591\n",
            "Epoch 16/50\n",
            "219/219 [==============================] - 1s 6ms/step - loss: 0.4806 - accuracy: 0.7668 - val_loss: 0.4708 - val_accuracy: 0.7764\n",
            "Epoch 17/50\n",
            "219/219 [==============================] - 2s 8ms/step - loss: 0.4800 - accuracy: 0.7760 - val_loss: 0.4663 - val_accuracy: 0.7774\n",
            "Epoch 18/50\n",
            "219/219 [==============================] - 2s 10ms/step - loss: 0.4821 - accuracy: 0.7708 - val_loss: 0.4805 - val_accuracy: 0.7606\n",
            "Epoch 19/50\n",
            "219/219 [==============================] - 1s 6ms/step - loss: 0.4722 - accuracy: 0.7770 - val_loss: 0.4715 - val_accuracy: 0.7694\n",
            "Epoch 20/50\n",
            "219/219 [==============================] - 1s 6ms/step - loss: 0.4763 - accuracy: 0.7801 - val_loss: 0.4708 - val_accuracy: 0.7764\n",
            "Epoch 21/50\n",
            "219/219 [==============================] - 1s 7ms/step - loss: 0.4621 - accuracy: 0.7863 - val_loss: 0.4658 - val_accuracy: 0.7735\n",
            "Epoch 22/50\n",
            "219/219 [==============================] - 1s 7ms/step - loss: 0.4647 - accuracy: 0.7846 - val_loss: 0.4627 - val_accuracy: 0.7738\n",
            "Epoch 23/50\n",
            "219/219 [==============================] - 2s 7ms/step - loss: 0.4659 - accuracy: 0.7801 - val_loss: 0.4673 - val_accuracy: 0.7817\n",
            "Epoch 24/50\n",
            "219/219 [==============================] - 1s 7ms/step - loss: 0.4671 - accuracy: 0.7788 - val_loss: 0.4511 - val_accuracy: 0.7854\n",
            "Epoch 25/50\n",
            "219/219 [==============================] - 2s 8ms/step - loss: 0.4636 - accuracy: 0.7837 - val_loss: 0.4549 - val_accuracy: 0.7828\n",
            "Epoch 26/50\n",
            "219/219 [==============================] - 2s 10ms/step - loss: 0.4539 - accuracy: 0.7860 - val_loss: 0.4474 - val_accuracy: 0.7865\n",
            "Epoch 27/50\n",
            "219/219 [==============================] - 1s 6ms/step - loss: 0.4619 - accuracy: 0.7843 - val_loss: 0.4506 - val_accuracy: 0.7891\n",
            "Epoch 28/50\n",
            "219/219 [==============================] - 1s 6ms/step - loss: 0.4536 - accuracy: 0.7901 - val_loss: 0.4453 - val_accuracy: 0.7884\n",
            "Epoch 29/50\n",
            "219/219 [==============================] - 1s 6ms/step - loss: 0.4528 - accuracy: 0.7900 - val_loss: 0.4514 - val_accuracy: 0.7852\n",
            "Epoch 30/50\n",
            "219/219 [==============================] - 2s 7ms/step - loss: 0.4505 - accuracy: 0.7851 - val_loss: 0.4515 - val_accuracy: 0.7849\n",
            "Epoch 31/50\n",
            "219/219 [==============================] - 1s 7ms/step - loss: 0.4496 - accuracy: 0.7871 - val_loss: 0.4517 - val_accuracy: 0.7836\n",
            "Epoch 32/50\n",
            "219/219 [==============================] - 1s 7ms/step - loss: 0.4449 - accuracy: 0.7964 - val_loss: 0.4570 - val_accuracy: 0.7862\n",
            "Epoch 33/50\n",
            "219/219 [==============================] - 1s 7ms/step - loss: 0.4502 - accuracy: 0.7880 - val_loss: 0.4435 - val_accuracy: 0.7889\n",
            "Epoch 34/50\n",
            "219/219 [==============================] - 2s 10ms/step - loss: 0.4461 - accuracy: 0.7906 - val_loss: 0.4347 - val_accuracy: 0.7935\n",
            "Epoch 35/50\n",
            "219/219 [==============================] - 2s 8ms/step - loss: 0.4413 - accuracy: 0.7919 - val_loss: 0.4416 - val_accuracy: 0.7899\n",
            "Epoch 36/50\n",
            "219/219 [==============================] - 1s 7ms/step - loss: 0.4425 - accuracy: 0.7916 - val_loss: 0.4309 - val_accuracy: 0.7988\n",
            "Epoch 37/50\n",
            "219/219 [==============================] - 2s 7ms/step - loss: 0.4407 - accuracy: 0.7943 - val_loss: 0.4367 - val_accuracy: 0.7916\n",
            "Epoch 38/50\n",
            "219/219 [==============================] - 1s 6ms/step - loss: 0.4387 - accuracy: 0.7959 - val_loss: 0.4414 - val_accuracy: 0.7926\n",
            "Epoch 39/50\n",
            "219/219 [==============================] - 1s 6ms/step - loss: 0.4368 - accuracy: 0.7960 - val_loss: 0.4352 - val_accuracy: 0.7961\n",
            "Epoch 40/50\n",
            "219/219 [==============================] - 1s 6ms/step - loss: 0.4357 - accuracy: 0.7993 - val_loss: 0.4330 - val_accuracy: 0.7972\n",
            "Epoch 41/50\n",
            "219/219 [==============================] - 1s 6ms/step - loss: 0.4280 - accuracy: 0.8062 - val_loss: 0.4282 - val_accuracy: 0.7937\n",
            "Epoch 42/50\n",
            "219/219 [==============================] - 2s 9ms/step - loss: 0.4359 - accuracy: 0.7979 - val_loss: 0.4321 - val_accuracy: 0.7926\n",
            "Epoch 43/50\n",
            "219/219 [==============================] - 2s 9ms/step - loss: 0.4282 - accuracy: 0.8039 - val_loss: 0.4306 - val_accuracy: 0.7919\n",
            "Epoch 44/50\n",
            "219/219 [==============================] - 1s 7ms/step - loss: 0.4317 - accuracy: 0.7992 - val_loss: 0.4233 - val_accuracy: 0.8022\n",
            "Epoch 45/50\n",
            "219/219 [==============================] - 1s 6ms/step - loss: 0.4345 - accuracy: 0.7982 - val_loss: 0.4270 - val_accuracy: 0.8003\n",
            "Epoch 46/50\n",
            "219/219 [==============================] - 2s 10ms/step - loss: 0.4304 - accuracy: 0.8015 - val_loss: 0.4371 - val_accuracy: 0.7915\n",
            "Epoch 47/50\n",
            "219/219 [==============================] - 2s 9ms/step - loss: 0.4295 - accuracy: 0.8032 - val_loss: 0.4401 - val_accuracy: 0.7959\n",
            "Epoch 48/50\n",
            "219/219 [==============================] - 1s 6ms/step - loss: 0.4296 - accuracy: 0.8043 - val_loss: 0.4508 - val_accuracy: 0.7838\n",
            "Epoch 49/50\n",
            "219/219 [==============================] - 2s 9ms/step - loss: 0.4308 - accuracy: 0.8015 - val_loss: 0.4256 - val_accuracy: 0.7934\n",
            "Epoch 50/50\n",
            "219/219 [==============================] - 2s 10ms/step - loss: 0.4247 - accuracy: 0.8052 - val_loss: 0.4295 - val_accuracy: 0.7971\n"
          ]
        },
        {
          "output_type": "execute_result",
          "data": {
            "text/plain": [
              "<keras.callbacks.History at 0x7fb7760f2df0>"
            ]
          },
          "metadata": {},
          "execution_count": 62
        }
      ]
    },
    {
      "cell_type": "code",
      "source": [
        "accuracy = classifier.evaluate(x_test, y_test)[1]\n",
        "print(f\"Test accuracy: {round(accuracy * 100, 2)}%\")"
      ],
      "metadata": {
        "colab": {
          "base_uri": "https://localhost:8080/"
        },
        "id": "lAN8cWiUI4Kh",
        "outputId": "7bb988c9-b4b4-4402-d33b-f9f4428b112b"
      },
      "execution_count": 64,
      "outputs": [
        {
          "output_type": "stream",
          "name": "stdout",
          "text": [
            "196/196 [==============================] - 1s 3ms/step - loss: 0.4295 - accuracy: 0.7971\n",
            "Test accuracy: 79.71%\n"
          ]
        }
      ]
    },
    {
      "cell_type": "code",
      "source": [
        "accuracy = classifier.evaluate(x_train, y_train)[1]\n",
        "print(f\"Train accuracy: {round(accuracy * 100, 2)}%\")"
      ],
      "metadata": {
        "colab": {
          "base_uri": "https://localhost:8080/"
        },
        "id": "N37q8q7eADbH",
        "outputId": "eb1ffee7-80f1-4002-d61c-b50e70c6fcce"
      },
      "execution_count": 66,
      "outputs": [
        {
          "output_type": "stream",
          "name": "stdout",
          "text": [
            "219/219 [==============================] - 1s 3ms/step - loss: 0.3984 - accuracy: 0.8169\n",
            "Train accuracy: 81.69%\n"
          ]
        }
      ]
    },
    {
      "cell_type": "code",
      "source": [
        "classifier_input = Input(shape=(19,1))\n",
        "\n",
        "x1=Conv1D(filters=64, kernel_size=2, activation='relu')(classifier_input)\n",
        "x2=MaxPooling1D(pool_size=1)(x1)\n",
        "x3=tf.keras.layers.Dropout(0.5)(x2)\n",
        "x4=Conv1D(filters=32, kernel_size=2, activation='relu')(x3)\n",
        "x5=MaxPooling1D(pool_size=1)(x4)\n",
        "x6=Flatten()(x5)\n",
        "\n",
        "x1=Dense(128,activation='relu')(x6)\n",
        "x2=Dense(64,activation='relu')(x1)\n",
        "x3=Dense(32,activation='relu')(x2)\n",
        "x4=Dense(16,activation='relu')(x3)\n",
        "x5=Dense(8,activation='relu')(x4)\n",
        "x6=Dense(4,activation='relu')(x5)\n",
        "output_layer = Dense(1, activation='sigmoid')(x6)\n",
        "\n",
        "classifier = Model(classifier_input, output_layer)\n",
        "classifier.summary()\n",
        "classifier.compile(optimizer='adam', loss='binary_crossentropy', metrics=['accuracy'])\n",
        "classifier.fit(x_train, y_train, epochs=50, batch_size=32, validation_data=(x_test, y_test))\n"
      ],
      "metadata": {
        "colab": {
          "base_uri": "https://localhost:8080/"
        },
        "id": "ncr_FX4QJCyk",
        "outputId": "172e2c5e-1546-4152-aced-1da37b9a925c"
      },
      "execution_count": 68,
      "outputs": [
        {
          "output_type": "stream",
          "name": "stdout",
          "text": [
            "Model: \"model_31\"\n",
            "_________________________________________________________________\n",
            " Layer (type)                Output Shape              Param #   \n",
            "=================================================================\n",
            " input_35 (InputLayer)       [(None, 19, 1)]           0         \n",
            "                                                                 \n",
            " conv1d_8 (Conv1D)           (None, 18, 64)            192       \n",
            "                                                                 \n",
            " max_pooling1d_2 (MaxPooling  (None, 18, 64)           0         \n",
            " 1D)                                                             \n",
            "                                                                 \n",
            " dropout_1 (Dropout)         (None, 18, 64)            0         \n",
            "                                                                 \n",
            " conv1d_9 (Conv1D)           (None, 17, 32)            4128      \n",
            "                                                                 \n",
            " max_pooling1d_3 (MaxPooling  (None, 17, 32)           0         \n",
            " 1D)                                                             \n",
            "                                                                 \n",
            " flatten_1 (Flatten)         (None, 544)               0         \n",
            "                                                                 \n",
            " dense_148 (Dense)           (None, 128)               69760     \n",
            "                                                                 \n",
            " dense_149 (Dense)           (None, 64)                8256      \n",
            "                                                                 \n",
            " dense_150 (Dense)           (None, 32)                2080      \n",
            "                                                                 \n",
            " dense_151 (Dense)           (None, 16)                528       \n",
            "                                                                 \n",
            " dense_152 (Dense)           (None, 8)                 136       \n",
            "                                                                 \n",
            " dense_153 (Dense)           (None, 4)                 36        \n",
            "                                                                 \n",
            " dense_154 (Dense)           (None, 1)                 5         \n",
            "                                                                 \n",
            "=================================================================\n",
            "Total params: 85,121\n",
            "Trainable params: 85,121\n",
            "Non-trainable params: 0\n",
            "_________________________________________________________________\n",
            "Epoch 1/50\n",
            "219/219 [==============================] - 47s 7ms/step - loss: 0.5964 - accuracy: 0.6819 - val_loss: 0.5025 - val_accuracy: 0.7681\n",
            "Epoch 2/50\n",
            "219/219 [==============================] - 2s 8ms/step - loss: 0.5283 - accuracy: 0.7452 - val_loss: 0.4859 - val_accuracy: 0.7820\n",
            "Epoch 3/50\n",
            "219/219 [==============================] - 1s 7ms/step - loss: 0.5155 - accuracy: 0.7522 - val_loss: 0.4992 - val_accuracy: 0.7708\n",
            "Epoch 4/50\n",
            "219/219 [==============================] - 1s 7ms/step - loss: 0.4977 - accuracy: 0.7642 - val_loss: 0.4624 - val_accuracy: 0.7883\n",
            "Epoch 5/50\n",
            "219/219 [==============================] - 1s 7ms/step - loss: 0.4910 - accuracy: 0.7644 - val_loss: 0.4571 - val_accuracy: 0.7916\n",
            "Epoch 6/50\n",
            "219/219 [==============================] - 2s 11ms/step - loss: 0.4879 - accuracy: 0.7651 - val_loss: 0.4803 - val_accuracy: 0.7748\n",
            "Epoch 7/50\n",
            "219/219 [==============================] - 2s 8ms/step - loss: 0.4804 - accuracy: 0.7725 - val_loss: 0.4530 - val_accuracy: 0.7895\n",
            "Epoch 8/50\n",
            "219/219 [==============================] - 2s 7ms/step - loss: 0.4749 - accuracy: 0.7758 - val_loss: 0.4451 - val_accuracy: 0.7969\n",
            "Epoch 9/50\n",
            "219/219 [==============================] - 2s 7ms/step - loss: 0.4733 - accuracy: 0.7803 - val_loss: 0.4480 - val_accuracy: 0.7940\n",
            "Epoch 10/50\n",
            "219/219 [==============================] - 1s 7ms/step - loss: 0.4696 - accuracy: 0.7787 - val_loss: 0.4454 - val_accuracy: 0.7939\n",
            "Epoch 11/50\n",
            "219/219 [==============================] - 2s 7ms/step - loss: 0.4674 - accuracy: 0.7833 - val_loss: 0.4380 - val_accuracy: 0.7987\n",
            "Epoch 12/50\n",
            "219/219 [==============================] - 1s 7ms/step - loss: 0.4558 - accuracy: 0.7883 - val_loss: 0.4432 - val_accuracy: 0.7921\n",
            "Epoch 13/50\n",
            "219/219 [==============================] - 2s 8ms/step - loss: 0.4533 - accuracy: 0.7884 - val_loss: 0.4295 - val_accuracy: 0.8028\n",
            "Epoch 14/50\n",
            "219/219 [==============================] - 2s 9ms/step - loss: 0.4540 - accuracy: 0.7883 - val_loss: 0.4308 - val_accuracy: 0.8022\n",
            "Epoch 15/50\n",
            "219/219 [==============================] - 2s 7ms/step - loss: 0.4504 - accuracy: 0.7936 - val_loss: 0.4406 - val_accuracy: 0.8025\n",
            "Epoch 16/50\n",
            "219/219 [==============================] - 1s 7ms/step - loss: 0.4541 - accuracy: 0.7893 - val_loss: 0.4321 - val_accuracy: 0.8057\n",
            "Epoch 17/50\n",
            "219/219 [==============================] - 1s 6ms/step - loss: 0.4473 - accuracy: 0.7929 - val_loss: 0.4279 - val_accuracy: 0.8062\n",
            "Epoch 18/50\n",
            "219/219 [==============================] - 1s 7ms/step - loss: 0.4430 - accuracy: 0.7964 - val_loss: 0.4200 - val_accuracy: 0.8062\n",
            "Epoch 19/50\n",
            "219/219 [==============================] - 1s 7ms/step - loss: 0.4431 - accuracy: 0.7927 - val_loss: 0.4342 - val_accuracy: 0.8035\n",
            "Epoch 20/50\n",
            "219/219 [==============================] - 1s 7ms/step - loss: 0.4351 - accuracy: 0.8017 - val_loss: 0.4129 - val_accuracy: 0.8097\n",
            "Epoch 21/50\n",
            "219/219 [==============================] - 2s 8ms/step - loss: 0.4401 - accuracy: 0.7957 - val_loss: 0.4115 - val_accuracy: 0.8163\n",
            "Epoch 22/50\n",
            "219/219 [==============================] - 2s 11ms/step - loss: 0.4358 - accuracy: 0.7993 - val_loss: 0.4142 - val_accuracy: 0.8081\n",
            "Epoch 23/50\n",
            "219/219 [==============================] - 2s 11ms/step - loss: 0.4283 - accuracy: 0.8060 - val_loss: 0.4133 - val_accuracy: 0.8177\n",
            "Epoch 24/50\n",
            "219/219 [==============================] - 2s 7ms/step - loss: 0.4275 - accuracy: 0.7943 - val_loss: 0.4006 - val_accuracy: 0.8183\n",
            "Epoch 25/50\n",
            "219/219 [==============================] - 2s 7ms/step - loss: 0.4232 - accuracy: 0.8085 - val_loss: 0.4015 - val_accuracy: 0.8215\n",
            "Epoch 26/50\n",
            "219/219 [==============================] - 1s 6ms/step - loss: 0.4243 - accuracy: 0.8069 - val_loss: 0.4046 - val_accuracy: 0.8171\n",
            "Epoch 27/50\n",
            "219/219 [==============================] - 1s 6ms/step - loss: 0.4197 - accuracy: 0.8043 - val_loss: 0.4026 - val_accuracy: 0.8207\n",
            "Epoch 28/50\n",
            "219/219 [==============================] - 1s 6ms/step - loss: 0.4175 - accuracy: 0.8083 - val_loss: 0.4276 - val_accuracy: 0.8025\n",
            "Epoch 29/50\n",
            "219/219 [==============================] - 2s 10ms/step - loss: 0.4147 - accuracy: 0.8092 - val_loss: 0.4057 - val_accuracy: 0.8135\n",
            "Epoch 30/50\n",
            "219/219 [==============================] - 2s 9ms/step - loss: 0.4150 - accuracy: 0.8049 - val_loss: 0.4015 - val_accuracy: 0.8207\n",
            "Epoch 31/50\n",
            "219/219 [==============================] - 1s 7ms/step - loss: 0.4096 - accuracy: 0.8098 - val_loss: 0.3976 - val_accuracy: 0.8219\n",
            "Epoch 32/50\n",
            "219/219 [==============================] - 1s 7ms/step - loss: 0.4111 - accuracy: 0.8096 - val_loss: 0.3912 - val_accuracy: 0.8212\n",
            "Epoch 33/50\n",
            "219/219 [==============================] - 1s 6ms/step - loss: 0.4143 - accuracy: 0.8113 - val_loss: 0.3928 - val_accuracy: 0.8257\n",
            "Epoch 34/50\n",
            "219/219 [==============================] - 2s 7ms/step - loss: 0.4053 - accuracy: 0.8141 - val_loss: 0.3959 - val_accuracy: 0.8211\n",
            "Epoch 35/50\n",
            "219/219 [==============================] - 1s 7ms/step - loss: 0.4094 - accuracy: 0.8132 - val_loss: 0.4132 - val_accuracy: 0.8169\n",
            "Epoch 36/50\n",
            "219/219 [==============================] - 1s 6ms/step - loss: 0.4099 - accuracy: 0.8116 - val_loss: 0.4016 - val_accuracy: 0.8222\n",
            "Epoch 37/50\n",
            "219/219 [==============================] - 3s 13ms/step - loss: 0.4022 - accuracy: 0.8185 - val_loss: 0.3933 - val_accuracy: 0.8259\n",
            "Epoch 38/50\n",
            "219/219 [==============================] - 2s 8ms/step - loss: 0.4053 - accuracy: 0.8181 - val_loss: 0.3949 - val_accuracy: 0.8230\n",
            "Epoch 39/50\n",
            "219/219 [==============================] - 1s 7ms/step - loss: 0.4031 - accuracy: 0.8149 - val_loss: 0.3989 - val_accuracy: 0.8230\n",
            "Epoch 40/50\n",
            "219/219 [==============================] - 2s 8ms/step - loss: 0.3949 - accuracy: 0.8258 - val_loss: 0.3931 - val_accuracy: 0.8243\n",
            "Epoch 41/50\n",
            "219/219 [==============================] - 1s 7ms/step - loss: 0.3918 - accuracy: 0.8238 - val_loss: 0.3955 - val_accuracy: 0.8259\n",
            "Epoch 42/50\n",
            "219/219 [==============================] - 2s 7ms/step - loss: 0.4003 - accuracy: 0.8188 - val_loss: 0.3887 - val_accuracy: 0.8275\n",
            "Epoch 43/50\n",
            "219/219 [==============================] - 2s 7ms/step - loss: 0.3957 - accuracy: 0.8195 - val_loss: 0.3910 - val_accuracy: 0.8310\n",
            "Epoch 44/50\n",
            "219/219 [==============================] - 2s 7ms/step - loss: 0.3963 - accuracy: 0.8205 - val_loss: 0.3943 - val_accuracy: 0.8246\n",
            "Epoch 45/50\n",
            "219/219 [==============================] - 2s 10ms/step - loss: 0.3945 - accuracy: 0.8235 - val_loss: 0.3952 - val_accuracy: 0.8238\n",
            "Epoch 46/50\n",
            "219/219 [==============================] - 2s 7ms/step - loss: 0.3908 - accuracy: 0.8272 - val_loss: 0.3946 - val_accuracy: 0.8244\n",
            "Epoch 47/50\n",
            "219/219 [==============================] - 1s 7ms/step - loss: 0.3879 - accuracy: 0.8272 - val_loss: 0.4492 - val_accuracy: 0.7921\n",
            "Epoch 48/50\n",
            "219/219 [==============================] - 1s 6ms/step - loss: 0.3905 - accuracy: 0.8234 - val_loss: 0.3966 - val_accuracy: 0.8286\n",
            "Epoch 49/50\n",
            "219/219 [==============================] - 1s 7ms/step - loss: 0.3897 - accuracy: 0.8248 - val_loss: 0.3918 - val_accuracy: 0.8262\n",
            "Epoch 50/50\n",
            "219/219 [==============================] - 1s 7ms/step - loss: 0.3868 - accuracy: 0.8288 - val_loss: 0.3877 - val_accuracy: 0.8300\n"
          ]
        },
        {
          "output_type": "execute_result",
          "data": {
            "text/plain": [
              "<keras.callbacks.History at 0x7fb76efb8d00>"
            ]
          },
          "metadata": {},
          "execution_count": 68
        }
      ]
    },
    {
      "cell_type": "code",
      "source": [
        "accuracy = classifier.evaluate(x_test, y_test)[1]\n",
        "print(f\"Test accuracy: {round(accuracy * 100, 2)}%\")"
      ],
      "metadata": {
        "colab": {
          "base_uri": "https://localhost:8080/"
        },
        "id": "IdCYRqFGJMcw",
        "outputId": "d9e72981-2d1e-4bf1-b724-8673f2596905"
      },
      "execution_count": 69,
      "outputs": [
        {
          "output_type": "stream",
          "name": "stdout",
          "text": [
            "196/196 [==============================] - 0s 2ms/step - loss: 0.3877 - accuracy: 0.8300\n",
            "Test accuracy: 83.0%\n"
          ]
        }
      ]
    },
    {
      "cell_type": "code",
      "source": [
        "accuracy = classifier.evaluate(x_train, y_train)[1]\n",
        "print(f\"Train accuracy: {round(accuracy * 100, 2)}%\")"
      ],
      "metadata": {
        "colab": {
          "base_uri": "https://localhost:8080/"
        },
        "id": "Nt13ZEodJ02D",
        "outputId": "4e0b85da-e528-4a93-b9b0-1a59680b3d05"
      },
      "execution_count": 70,
      "outputs": [
        {
          "output_type": "stream",
          "name": "stdout",
          "text": [
            "219/219 [==============================] - 1s 3ms/step - loss: 0.3567 - accuracy: 0.8431\n",
            "Train accuracy: 84.31%\n"
          ]
        }
      ]
    }
  ]
}